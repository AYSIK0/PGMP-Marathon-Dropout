{
 "cells": [
  {
   "attachments": {},
   "cell_type": "markdown",
   "metadata": {},
   "source": [
    "# Notebook for Data cleaning and Imputation"
   ]
  },
  {
   "cell_type": "code",
   "execution_count": 1,
   "metadata": {},
   "outputs": [],
   "source": [
    "import pandas as pd\n",
    "import numpy as np\n",
    "from collections import defaultdict\n",
    "from sklearn.preprocessing import MinMaxScaler\n",
    "from sklearn.experimental import enable_iterative_imputer # noqa\n",
    "from sklearn.impute import IterativeImputer, KNNImputer\n",
    "from sklearn.ensemble import RandomForestRegressor\n",
    "from utils.data_processing_utils import london_cleaner, hamburg_cleaner, stockholm_cleaner, boston_cleaner, \\\n",
    "                                        chicago_cleaner, houston_cleaner, save_df, valid_df, get_indices_of_rows_missing_data, preprocess_impute_fill, valid_splits_time\n",
    "# from utils.data_processing_utils import *"
   ]
  },
  {
   "attachments": {},
   "cell_type": "markdown",
   "metadata": {},
   "source": [
    "## Constants "
   ]
  },
  {
   "attachments": {},
   "cell_type": "markdown",
   "metadata": {},
   "source": [
    "### Paths"
   ]
  },
  {
   "cell_type": "code",
   "execution_count": 2,
   "metadata": {},
   "outputs": [],
   "source": [
    "RAW_DATA_PATH = \"Marathons_Data/Raw\"\n",
    "CLN_DATA_PATH = \"Marathons_Data/Clean\"\n",
    "IMP_DATA_PATH = \"Marathons_Data/Impute\"\n",
    "# London\n",
    "LDN: str = \"London\"\n",
    "LDN_RAW_PATH: str = f\"{RAW_DATA_PATH}/{LDN}\"\n",
    "LDN_CLN_PATH: str = f\"{CLN_DATA_PATH}/{LDN}\"\n",
    "LDN_IMP_PATH: str = f\"{IMP_DATA_PATH}/{LDN}\"\n",
    "# Hamburg\n",
    "HAM: str = \"Hamburg\"\n",
    "HAM_RAW_PATH: str = f\"{RAW_DATA_PATH}/{HAM}\"\n",
    "HAM_CLN_PATH: str = f\"{CLN_DATA_PATH}/{HAM}\"\n",
    "HAM_IMP_PATH: str = f\"{IMP_DATA_PATH}/{HAM}\"\n",
    "# Houston\n",
    "HOU: str = \"Houston\"\n",
    "HOU_RAW_PATH: str = f\"{RAW_DATA_PATH}/{HOU}\"\n",
    "HOU_CLN_PATH: str = f\"{CLN_DATA_PATH}/{HOU}\"\n",
    "HOU_IMP_PATH: str = f\"{IMP_DATA_PATH}/{HOU}\"\n",
    "# Stockholm\n",
    "STO: str = \"Stockholm\"\n",
    "STO_RAW_PATH: str = f\"{RAW_DATA_PATH}/{STO}\"\n",
    "STO_CLN_PATH: str = f\"{CLN_DATA_PATH}/{STO}\"\n",
    "STO_IMP_PATH: str = f\"{IMP_DATA_PATH}/{STO}\"\n",
    "# Boston\n",
    "BOS: str = \"Boston\"\n",
    "BOS_RAW_PATH: str = f\"{RAW_DATA_PATH}/{BOS}\"\n",
    "BOS_CLN_PATH: str = f\"{CLN_DATA_PATH}/{BOS}\"\n",
    "BOS_IMP_PATH: str = f\"{IMP_DATA_PATH}/{BOS}\"\n",
    "# Chicago\n",
    "CHI: str = \"Chicago\"\n",
    "CHI_RAW_PATH: str = f\"{RAW_DATA_PATH}/{CHI}\"\n",
    "CHI_CLN_PATH: str = f\"{CLN_DATA_PATH}/{CHI}\"\n",
    "CHI_IMP_PATH: str = f\"{IMP_DATA_PATH}/{CHI}\""
   ]
  },
  {
   "attachments": {},
   "cell_type": "markdown",
   "metadata": {},
   "source": [
    "### Years & Splits"
   ]
  },
  {
   "cell_type": "code",
   "execution_count": 3,
   "metadata": {},
   "outputs": [],
   "source": [
    "YEAR_13: str = \"2013\"\n",
    "YEAR_14: str = \"2014\"\n",
    "YEAR_15: str = \"2015\"\n",
    "YEAR_16: str = \"2016\"\n",
    "YEAR_17: str = \"2017\"\n",
    "YEAR_18: str = \"2018\"\n",
    "YEAR_19: str = \"2019\"\n",
    "YEAR_21: str = \"2021\"\n",
    "YEAR_22: str = \"2022\"\n",
    "YEAR_23: str = \"2023\"\n",
    "YEARS: list[str] = [YEAR_13, YEAR_14, YEAR_15, YEAR_16, YEAR_17, YEAR_18, YEAR_19, YEAR_21, YEAR_22, YEAR_23]\n",
    "SPLITS_KEYS: list[str] = [\"k_5\", \"k_10\", \"k_15\", \"k_20\", \"k_half\", \"k_25\", \"k_30\", \"k_35\", \"k_40\", \"k_finish\"]\n",
    "\n",
    "COLS_ORDER: list[str] = [\"age_cat\", \"gender\", \"race_state\", \"last_split\", \n",
    "                         'k_5_time', 'k_5_pace', 'k_5_speed', 'k_10_time', 'k_10_pace', 'k_10_speed',\n",
    "                         'k_15_time', 'k_15_pace', 'k_15_speed', 'k_20_time', 'k_20_pace', 'k_20_speed',\n",
    "                         'k_half_time', 'k_half_pace', 'k_half_speed', 'k_25_time', 'k_25_pace', 'k_25_speed', \n",
    "                         'k_30_time', 'k_30_pace', 'k_30_speed', 'k_35_time', 'k_35_pace', 'k_35_speed',\n",
    "                         'k_40_time', 'k_40_pace', 'k_40_speed', 'k_finish_time', 'k_finish_pace', 'k_finish_speed']\n",
    "\n",
    "SPLIT_NAME_DICT: dict = {'k_5_time': '5K', 'k_10_time': '10K', 'k_15_time': '15K', \n",
    "                         'k_20_time': '20K', 'k_25_time': '25K', 'k_half_time': 'HALF', \n",
    "                         'k_30_time': '30K', 'k_35_time': '35K', 'k_40_time': '40K', 'k_finish_time': 'Finish time'}\n",
    "\n",
    "DTYPE_DICT: defaultdict = defaultdict(np.float64, age_cat=\"category\", gender=\"category\", race_state=\"category\", last_split=\"category\")"
   ]
  },
  {
   "cell_type": "markdown",
   "metadata": {},
   "source": [
    "### Other"
   ]
  },
  {
   "cell_type": "code",
   "execution_count": 4,
   "metadata": {},
   "outputs": [],
   "source": [
    "# Intialise MinMaxScaler.\n",
    "mms = MinMaxScaler()\n",
    "# Intialise Imputers\n",
    "knn_imputer = KNNImputer()\n",
    "rfr = RandomForestRegressor(n_estimators=5, max_depth=10, bootstrap=True, max_samples=0.5, n_jobs=2, random_state=17)\n",
    "iter_imputer = IterativeImputer(estimator=rfr, max_iter=15, random_state=17)"
   ]
  },
  {
   "attachments": {},
   "cell_type": "markdown",
   "metadata": {},
   "source": [
    "## London"
   ]
  },
  {
   "cell_type": "code",
   "execution_count": 5,
   "metadata": {},
   "outputs": [],
   "source": [
    "LDN_COLS_TO_DROP = [\"idp\", \"half\", \"finish\", \"run_no\"] "
   ]
  },
  {
   "attachments": {},
   "cell_type": "markdown",
   "metadata": {},
   "source": [
    "### 2014"
   ]
  },
  {
   "cell_type": "code",
   "execution_count": 5,
   "metadata": {},
   "outputs": [],
   "source": [
    "# Raw file path.\n",
    "ldn_file_raw_path = f\"{LDN_RAW_PATH}/{LDN}{YEAR_14}/{LDN}{YEAR_14}_full.csv\"\n",
    "# Clean file path.\n",
    "ldn_file_cln_path = f\"{LDN_CLN_PATH}/{LDN}{YEAR_14}/{LDN}{YEAR_14}_clean.csv\"\n",
    "# Imputed files paths.\n",
    "ldn_file_knn_imp_path = f\"{LDN_IMP_PATH}/{LDN}{YEAR_14}/{LDN}{YEAR_14}_knn_impute.csv\"\n",
    "ldn_file_iter_imp_path = f\"{LDN_IMP_PATH}/{LDN}{YEAR_14}/{LDN}{YEAR_14}_iter_impute.csv\""
   ]
  },
  {
   "attachments": {},
   "cell_type": "markdown",
   "metadata": {},
   "source": [
    "#### Cleaning"
   ]
  },
  {
   "cell_type": "code",
   "execution_count": 6,
   "metadata": {},
   "outputs": [
    {
     "name": "stdout",
     "output_type": "stream",
     "text": [
      "** Removing Runners That did not start:\n",
      "Original rows count: 41677 || New rows count: 36289 || Dropped Rows: 5388\n",
      "** Dropping rows with splits that only contain time: Finished: 328 || Started: 27\n",
      "** Dropping rows with null values in `age_cat` and `gender` columns:\n",
      "Original rows count: 35934 || New rows count: 35928 || Dropped rows based on   age_cat  : 6\n",
      "Original rows count: 35928 || New rows count: 35928 || Dropped rows based on    gender  : 0\n",
      "** Replacing these age categories '70-74', '75-79', '80-84', '80+', '85+' by '70+'\n",
      "** File has been saved in: `Marathons_Data/Clean/London/London2014/London2014_clean.csv`\n"
     ]
    }
   ],
   "source": [
    "df_ldn = pd.read_csv(ldn_file_raw_path)\n",
    "# Cleaning the DataFrame.\n",
    "df_ldn = london_cleaner(df_ldn, SPLITS_KEYS, LDN_COLS_TO_DROP, COLS_ORDER)\n",
    "# Check if the DataFrame is valid before saving it.\n",
    "if valid_df(df_ldn):\n",
    "    save_df(df_ldn, ldn_file_cln_path)\n",
    "    print(f\"** File has been saved in: `{ldn_file_cln_path}`\")"
   ]
  },
  {
   "attachments": {},
   "cell_type": "markdown",
   "metadata": {},
   "source": [
    "#### Imputation"
   ]
  },
  {
   "cell_type": "code",
   "execution_count": 6,
   "metadata": {},
   "outputs": [],
   "source": [
    "df_ldn = pd.read_csv(ldn_file_cln_path, dtype=DTYPE_DICT)\n",
    "missing_indices = get_indices_of_rows_missing_data(df_ldn, SPLITS_KEYS)"
   ]
  },
  {
   "cell_type": "code",
   "execution_count": 7,
   "metadata": {},
   "outputs": [],
   "source": [
    "df_knn = preprocess_impute_fill(df_ldn, missing_indices, knn_imputer, mms, SPLITS_KEYS, drop_invalid_splits=True)"
   ]
  },
  {
   "cell_type": "code",
   "execution_count": 8,
   "metadata": {},
   "outputs": [
    {
     "name": "stderr",
     "output_type": "stream",
     "text": [
      "/Users/sika/miniforge3/envs/ML_mac_23/lib/python3.10/site-packages/sklearn/impute/_iterative.py:785: ConvergenceWarning: [IterativeImputer] Early stopping criterion not reached.\n",
      "  warnings.warn(\n"
     ]
    }
   ],
   "source": [
    "df_iter = preprocess_impute_fill(df_ldn, missing_indices, iter_imputer, mms, SPLITS_KEYS, drop_invalid_splits=True)"
   ]
  },
  {
   "cell_type": "code",
   "execution_count": 9,
   "metadata": {},
   "outputs": [],
   "source": [
    "# Saving the imputed DataFrames.\n",
    "save_df(df_knn, ldn_file_knn_imp_path)\n",
    "save_df(df_iter, ldn_file_iter_imp_path)"
   ]
  },
  {
   "cell_type": "code",
   "execution_count": 10,
   "metadata": {},
   "outputs": [],
   "source": [
    "del ldn_file_raw_path, ldn_file_cln_path, ldn_file_knn_imp_path, ldn_file_iter_imp_path, df_ldn, df_knn, df_iter "
   ]
  },
  {
   "attachments": {},
   "cell_type": "markdown",
   "metadata": {},
   "source": [
    "### 2015"
   ]
  },
  {
   "cell_type": "code",
   "execution_count": 11,
   "metadata": {},
   "outputs": [],
   "source": [
    "ldn_file_raw_path = f\"{LDN_RAW_PATH}/{LDN}{YEAR_15}/{LDN}{YEAR_15}_full.csv\"\n",
    "ldn_file_cln_path = f\"{LDN_CLN_PATH}/{LDN}{YEAR_15}/{LDN}{YEAR_15}_clean.csv\"\n",
    "ldn_file_knn_imp_path = f\"{LDN_IMP_PATH}/{LDN}{YEAR_15}/{LDN}{YEAR_15}_knn_impute.csv\"\n",
    "ldn_file_iter_imp_path = f\"{LDN_IMP_PATH}/{LDN}{YEAR_15}/{LDN}{YEAR_15}_iter_impute.csv\""
   ]
  },
  {
   "attachments": {},
   "cell_type": "markdown",
   "metadata": {},
   "source": [
    "#### Cleaning"
   ]
  },
  {
   "cell_type": "code",
   "execution_count": 9,
   "metadata": {},
   "outputs": [
    {
     "name": "stdout",
     "output_type": "stream",
     "text": [
      "** Removing Runners That did not start:\n",
      "Original rows count: 43741 || New rows count: 37879 || Dropped Rows: 5862\n",
      "** Dropping rows with splits that only contain time: Finished: 846 || Started: 17\n",
      "** Dropping rows with null values in `age_cat` and `gender` columns:\n",
      "Original rows count: 37016 || New rows count: 36990 || Dropped rows based on   age_cat  : 26\n",
      "Original rows count: 36990 || New rows count: 36990 || Dropped rows based on    gender  : 0\n",
      "** Replacing these age categories '70-74', '75-79', '80-84', '80+', '85+' by '70+'\n",
      "** File has been saved in: `Marathons_Data/Clean/London/London2015/London2015_clean.csv`\n"
     ]
    }
   ],
   "source": [
    "df_ldn = pd.read_csv(ldn_file_raw_path)\n",
    "# Cleaning the DataFrame.\n",
    "df_ldn = london_cleaner(df_ldn, SPLITS_KEYS, LDN_COLS_TO_DROP, COLS_ORDER)\n",
    "# Check if the DataFrame is valid before saving it.\n",
    "if valid_df(df_ldn):\n",
    "    save_df(df_ldn, ldn_file_cln_path)\n",
    "    print(f\"** File has been saved in: `{ldn_file_cln_path}`\")"
   ]
  },
  {
   "attachments": {},
   "cell_type": "markdown",
   "metadata": {},
   "source": [
    "#### Imputation"
   ]
  },
  {
   "cell_type": "code",
   "execution_count": 12,
   "metadata": {},
   "outputs": [],
   "source": [
    "df_ldn = pd.read_csv(ldn_file_cln_path, dtype=DTYPE_DICT)\n",
    "missing_indices = get_indices_of_rows_missing_data(df_ldn, SPLITS_KEYS)"
   ]
  },
  {
   "cell_type": "code",
   "execution_count": 13,
   "metadata": {},
   "outputs": [],
   "source": [
    "df_knn = preprocess_impute_fill(df_ldn, missing_indices, knn_imputer, mms, SPLITS_KEYS, drop_invalid_splits=True)"
   ]
  },
  {
   "cell_type": "code",
   "execution_count": 14,
   "metadata": {},
   "outputs": [
    {
     "name": "stderr",
     "output_type": "stream",
     "text": [
      "/Users/sika/miniforge3/envs/ML_mac_23/lib/python3.10/site-packages/sklearn/impute/_iterative.py:785: ConvergenceWarning: [IterativeImputer] Early stopping criterion not reached.\n",
      "  warnings.warn(\n"
     ]
    }
   ],
   "source": [
    "df_iter = preprocess_impute_fill(df_ldn, missing_indices, iter_imputer, mms, SPLITS_KEYS, drop_invalid_splits=True)"
   ]
  },
  {
   "cell_type": "code",
   "execution_count": 15,
   "metadata": {},
   "outputs": [],
   "source": [
    "save_df(df_knn, ldn_file_knn_imp_path)\n",
    "save_df(df_iter, ldn_file_iter_imp_path)"
   ]
  },
  {
   "cell_type": "code",
   "execution_count": 16,
   "metadata": {},
   "outputs": [],
   "source": [
    "del ldn_file_raw_path, ldn_file_cln_path, ldn_file_knn_imp_path, ldn_file_iter_imp_path, df_ldn, df_knn, df_iter "
   ]
  },
  {
   "attachments": {},
   "cell_type": "markdown",
   "metadata": {},
   "source": [
    "### 2016"
   ]
  },
  {
   "cell_type": "code",
   "execution_count": 17,
   "metadata": {},
   "outputs": [],
   "source": [
    "ldn_file_raw_path = f\"{LDN_RAW_PATH}/{LDN}{YEAR_16}/{LDN}{YEAR_16}_full.csv\"\n",
    "ldn_file_cln_path = f\"{LDN_CLN_PATH}/{LDN}{YEAR_16}/{LDN}{YEAR_16}_clean.csv\"\n",
    "ldn_file_knn_imp_path = f\"{LDN_IMP_PATH}/{LDN}{YEAR_16}/{LDN}{YEAR_16}_knn_impute.csv\"\n",
    "ldn_file_iter_imp_path = f\"{LDN_IMP_PATH}/{LDN}{YEAR_16}/{LDN}{YEAR_16}_iter_impute.csv\""
   ]
  },
  {
   "attachments": {},
   "cell_type": "markdown",
   "metadata": {},
   "source": [
    "#### Cleaning"
   ]
  },
  {
   "cell_type": "code",
   "execution_count": 12,
   "metadata": {},
   "outputs": [
    {
     "name": "stdout",
     "output_type": "stream",
     "text": [
      "** Removing Runners That did not start:\n",
      "Original rows count: 45202 || New rows count: 39217 || Dropped Rows: 5985\n",
      "** Dropping rows with splits that only contain time: Finished: 448 || Started: 9\n",
      "** Dropping rows with null values in `age_cat` and `gender` columns:\n",
      "Original rows count: 38760 || New rows count: 38760 || Dropped rows based on   age_cat  : 0\n",
      "Original rows count: 38760 || New rows count: 38760 || Dropped rows based on    gender  : 0\n",
      "** Replacing these age categories '70-74', '75-79', '80-84', '80+', '85+' by '70+'\n",
      "** File has been saved in: `Marathons_Data/Clean/London/London2016/London2016_clean.csv`\n"
     ]
    }
   ],
   "source": [
    "df_ldn = pd.read_csv(ldn_file_raw_path)\n",
    "# Cleaning the DataFrame.\n",
    "df_ldn = london_cleaner(df_ldn, SPLITS_KEYS, LDN_COLS_TO_DROP, COLS_ORDER)\n",
    "# Check if the DataFrame is valid before saving it.\n",
    "if valid_df(df_ldn):\n",
    "    save_df(df_ldn, ldn_file_cln_path)\n",
    "    print(f\"** File has been saved in: `{ldn_file_cln_path}`\")"
   ]
  },
  {
   "attachments": {},
   "cell_type": "markdown",
   "metadata": {},
   "source": [
    "#### Imputation"
   ]
  },
  {
   "cell_type": "code",
   "execution_count": 18,
   "metadata": {},
   "outputs": [],
   "source": [
    "df_ldn = pd.read_csv(ldn_file_cln_path, dtype=DTYPE_DICT)\n",
    "missing_indices = get_indices_of_rows_missing_data(df_ldn, SPLITS_KEYS)"
   ]
  },
  {
   "cell_type": "code",
   "execution_count": 19,
   "metadata": {},
   "outputs": [],
   "source": [
    "df_knn = preprocess_impute_fill(df_ldn, missing_indices, knn_imputer, mms, SPLITS_KEYS, drop_invalid_splits=True)"
   ]
  },
  {
   "cell_type": "code",
   "execution_count": 20,
   "metadata": {},
   "outputs": [
    {
     "name": "stderr",
     "output_type": "stream",
     "text": [
      "/Users/sika/miniforge3/envs/ML_mac_23/lib/python3.10/site-packages/sklearn/impute/_iterative.py:785: ConvergenceWarning: [IterativeImputer] Early stopping criterion not reached.\n",
      "  warnings.warn(\n"
     ]
    }
   ],
   "source": [
    "df_iter = preprocess_impute_fill(df_ldn, missing_indices, iter_imputer, mms, SPLITS_KEYS, drop_invalid_splits=True)"
   ]
  },
  {
   "cell_type": "code",
   "execution_count": 21,
   "metadata": {},
   "outputs": [],
   "source": [
    "save_df(df_knn, ldn_file_knn_imp_path)\n",
    "save_df(df_iter, ldn_file_iter_imp_path)"
   ]
  },
  {
   "cell_type": "code",
   "execution_count": 22,
   "metadata": {},
   "outputs": [],
   "source": [
    "del ldn_file_raw_path, ldn_file_cln_path, ldn_file_knn_imp_path, ldn_file_iter_imp_path, df_ldn, df_knn, df_iter "
   ]
  },
  {
   "attachments": {},
   "cell_type": "markdown",
   "metadata": {},
   "source": [
    "### 2017"
   ]
  },
  {
   "cell_type": "code",
   "execution_count": 23,
   "metadata": {},
   "outputs": [],
   "source": [
    "ldn_file_raw_path = f\"{LDN_RAW_PATH}/{LDN}{YEAR_17}/{LDN}{YEAR_17}_full.csv\"\n",
    "ldn_file_cln_path = f\"{LDN_CLN_PATH}/{LDN}{YEAR_17}/{LDN}{YEAR_17}_clean.csv\"\n",
    "ldn_file_knn_imp_path = f\"{LDN_IMP_PATH}/{LDN}{YEAR_17}/{LDN}{YEAR_17}_knn_impute.csv\"\n",
    "ldn_file_iter_imp_path = f\"{LDN_IMP_PATH}/{LDN}{YEAR_17}/{LDN}{YEAR_17}_iter_impute.csv\""
   ]
  },
  {
   "attachments": {},
   "cell_type": "markdown",
   "metadata": {},
   "source": [
    "#### Cleaning"
   ]
  },
  {
   "cell_type": "code",
   "execution_count": 15,
   "metadata": {},
   "outputs": [
    {
     "name": "stdout",
     "output_type": "stream",
     "text": [
      "** Removing Runners That did not start:\n",
      "Original rows count: 45155 || New rows count: 39692 || Dropped Rows: 5463\n",
      "** Dropping rows with splits that only contain time: Finished: 379 || Started: 16\n",
      "** Dropping rows with null values in `age_cat` and `gender` columns:\n",
      "Original rows count: 39297 || New rows count: 39296 || Dropped rows based on   age_cat  : 1\n",
      "Original rows count: 39296 || New rows count: 39296 || Dropped rows based on    gender  : 0\n",
      "** Replacing these age categories '70-74', '75-79', '80-84', '80+', '85+' by '70+'\n",
      "** File has been saved in: `Marathons_Data/Clean/London/London2017/London2017_clean.csv`\n"
     ]
    }
   ],
   "source": [
    "df_ldn = pd.read_csv(ldn_file_raw_path)\n",
    "# Cleaning the DataFrame.\n",
    "df_ldn = london_cleaner(df_ldn, SPLITS_KEYS, LDN_COLS_TO_DROP, COLS_ORDER)\n",
    "# Check if the DataFrame is valid before saving it.\n",
    "if valid_df(df_ldn):\n",
    "    save_df(df_ldn, ldn_file_cln_path)\n",
    "    print(f\"** File has been saved in: `{ldn_file_cln_path}`\")"
   ]
  },
  {
   "attachments": {},
   "cell_type": "markdown",
   "metadata": {},
   "source": [
    "#### Imputation"
   ]
  },
  {
   "cell_type": "code",
   "execution_count": 24,
   "metadata": {},
   "outputs": [],
   "source": [
    "df_ldn = pd.read_csv(ldn_file_cln_path, dtype=DTYPE_DICT)\n",
    "missing_indices = get_indices_of_rows_missing_data(df_ldn, SPLITS_KEYS)"
   ]
  },
  {
   "cell_type": "code",
   "execution_count": 25,
   "metadata": {},
   "outputs": [],
   "source": [
    "df_knn = preprocess_impute_fill(df_ldn, missing_indices, knn_imputer, mms, SPLITS_KEYS, drop_invalid_splits=True)"
   ]
  },
  {
   "cell_type": "code",
   "execution_count": 26,
   "metadata": {},
   "outputs": [
    {
     "name": "stderr",
     "output_type": "stream",
     "text": [
      "/Users/sika/miniforge3/envs/ML_mac_23/lib/python3.10/site-packages/sklearn/impute/_iterative.py:785: ConvergenceWarning: [IterativeImputer] Early stopping criterion not reached.\n",
      "  warnings.warn(\n"
     ]
    }
   ],
   "source": [
    "df_iter = preprocess_impute_fill(df_ldn, missing_indices, iter_imputer, mms, SPLITS_KEYS, drop_invalid_splits=True)"
   ]
  },
  {
   "cell_type": "code",
   "execution_count": 27,
   "metadata": {},
   "outputs": [],
   "source": [
    "save_df(df_knn, ldn_file_knn_imp_path)\n",
    "save_df(df_iter, ldn_file_iter_imp_path)"
   ]
  },
  {
   "cell_type": "code",
   "execution_count": 28,
   "metadata": {},
   "outputs": [],
   "source": [
    "del ldn_file_raw_path, ldn_file_cln_path, ldn_file_knn_imp_path, ldn_file_iter_imp_path, df_ldn, df_knn, df_iter"
   ]
  },
  {
   "attachments": {},
   "cell_type": "markdown",
   "metadata": {},
   "source": [
    "### 2018"
   ]
  },
  {
   "cell_type": "code",
   "execution_count": 29,
   "metadata": {},
   "outputs": [],
   "source": [
    "ldn_file_raw_path = f\"{LDN_RAW_PATH}/{LDN}{YEAR_18}/{LDN}{YEAR_18}_full.csv\"\n",
    "ldn_file_cln_path = f\"{LDN_CLN_PATH}/{LDN}{YEAR_18}/{LDN}{YEAR_18}_clean.csv\"\n",
    "ldn_file_knn_imp_path = f\"{LDN_IMP_PATH}/{LDN}{YEAR_18}/{LDN}{YEAR_18}_knn_impute.csv\"\n",
    "ldn_file_iter_imp_path = f\"{LDN_IMP_PATH}/{LDN}{YEAR_18}/{LDN}{YEAR_18}_iter_impute.csv\""
   ]
  },
  {
   "attachments": {},
   "cell_type": "markdown",
   "metadata": {},
   "source": [
    "#### Cleaning"
   ]
  },
  {
   "cell_type": "code",
   "execution_count": 18,
   "metadata": {},
   "outputs": [
    {
     "name": "stdout",
     "output_type": "stream",
     "text": [
      "** Removing Runners That did not start:\n",
      "Original rows count: 47667 || New rows count: 40773 || Dropped Rows: 6894\n",
      "** Dropping rows with splits that only contain time: Finished: 338 || Started: 7\n",
      "** Dropping rows with null values in `age_cat` and `gender` columns:\n",
      "Original rows count: 40428 || New rows count: 40416 || Dropped rows based on   age_cat  : 12\n",
      "Original rows count: 40416 || New rows count: 40416 || Dropped rows based on    gender  : 0\n",
      "** Replacing these age categories '70-74', '75-79', '80-84', '80+', '85+' by '70+'\n",
      "** File has been saved in: `Marathons_Data/Clean/London/London2018/London2018_clean.csv`\n"
     ]
    }
   ],
   "source": [
    "df_ldn = pd.read_csv(ldn_file_raw_path)\n",
    "# Cleaning the DataFrame.\n",
    "df_ldn = london_cleaner(df_ldn, SPLITS_KEYS, LDN_COLS_TO_DROP, COLS_ORDER)\n",
    "# Check if the DataFrame is valid before saving it.\n",
    "if valid_df(df_ldn):\n",
    "    save_df(df_ldn, ldn_file_cln_path)\n",
    "    print(f\"** File has been saved in: `{ldn_file_cln_path}`\")"
   ]
  },
  {
   "attachments": {},
   "cell_type": "markdown",
   "metadata": {},
   "source": [
    "#### Imputation"
   ]
  },
  {
   "cell_type": "code",
   "execution_count": 30,
   "metadata": {},
   "outputs": [],
   "source": [
    "df_ldn = pd.read_csv(ldn_file_cln_path, dtype=DTYPE_DICT)\n",
    "missing_indices = get_indices_of_rows_missing_data(df_ldn, SPLITS_KEYS)"
   ]
  },
  {
   "cell_type": "code",
   "execution_count": 31,
   "metadata": {},
   "outputs": [],
   "source": [
    "df_knn = preprocess_impute_fill(df_ldn, missing_indices, knn_imputer, mms, SPLITS_KEYS, drop_invalid_splits=True)"
   ]
  },
  {
   "cell_type": "code",
   "execution_count": 32,
   "metadata": {},
   "outputs": [
    {
     "name": "stderr",
     "output_type": "stream",
     "text": [
      "/Users/sika/miniforge3/envs/ML_mac_23/lib/python3.10/site-packages/sklearn/impute/_iterative.py:785: ConvergenceWarning: [IterativeImputer] Early stopping criterion not reached.\n",
      "  warnings.warn(\n"
     ]
    }
   ],
   "source": [
    "df_iter = preprocess_impute_fill(df_ldn, missing_indices, iter_imputer, mms, SPLITS_KEYS, drop_invalid_splits=True)"
   ]
  },
  {
   "cell_type": "code",
   "execution_count": 33,
   "metadata": {},
   "outputs": [],
   "source": [
    "save_df(df_knn, ldn_file_knn_imp_path)\n",
    "save_df(df_iter, ldn_file_iter_imp_path)"
   ]
  },
  {
   "cell_type": "code",
   "execution_count": 34,
   "metadata": {},
   "outputs": [],
   "source": [
    "del ldn_file_raw_path, ldn_file_cln_path, ldn_file_knn_imp_path, ldn_file_iter_imp_path, df_ldn, df_knn, df_iter"
   ]
  },
  {
   "attachments": {},
   "cell_type": "markdown",
   "metadata": {},
   "source": [
    "### 2019"
   ]
  },
  {
   "cell_type": "code",
   "execution_count": 5,
   "metadata": {},
   "outputs": [],
   "source": [
    "ldn_file_raw_path = f\"{LDN_RAW_PATH}/{LDN}{YEAR_19}/{LDN}{YEAR_19}_full.csv\"\n",
    "ldn_file_cln_path = f\"{LDN_CLN_PATH}/{LDN}{YEAR_19}/{LDN}{YEAR_19}_clean.csv\"\n",
    "ldn_file_knn_imp_path = f\"{LDN_IMP_PATH}/{LDN}{YEAR_19}/{LDN}{YEAR_19}_knn_impute.csv\"\n",
    "ldn_file_iter_imp_path = f\"{LDN_IMP_PATH}/{LDN}{YEAR_19}/{LDN}{YEAR_19}_iter_impute.csv\""
   ]
  },
  {
   "attachments": {},
   "cell_type": "markdown",
   "metadata": {},
   "source": [
    "#### Cleaning"
   ]
  },
  {
   "cell_type": "code",
   "execution_count": 21,
   "metadata": {},
   "outputs": [
    {
     "name": "stdout",
     "output_type": "stream",
     "text": [
      "** Removing Runners That did not start:\n",
      "Original rows count: 49318 || New rows count: 42737 || Dropped Rows: 6581\n",
      "** Dropping rows with splits that only contain time: Finished: 0 || Started: 0\n",
      "** Dropping rows with null values in `age_cat` and `gender` columns:\n",
      "Original rows count: 42737 || New rows count: 42737 || Dropped rows based on   age_cat  : 0\n",
      "Original rows count: 42737 || New rows count: 42737 || Dropped rows based on    gender  : 0\n",
      "** Replacing these age categories '70-74', '75-79', '80-84', '80+', '85+' by '70+'\n",
      "** File has been saved in: `Marathons_Data/Clean/London/London2019/London2019_clean.csv`\n"
     ]
    }
   ],
   "source": [
    "df_ldn = pd.read_csv(ldn_file_raw_path)\n",
    "# Cleaning the DataFrame.\n",
    "df_ldn = london_cleaner(df_ldn, SPLITS_KEYS, LDN_COLS_TO_DROP, COLS_ORDER)\n",
    "# Check if the DataFrame is valid before saving it.\n",
    "if valid_df(df_ldn):\n",
    "    save_df(df_ldn, ldn_file_cln_path)\n",
    "    print(f\"** File has been saved in: `{ldn_file_cln_path}`\")"
   ]
  },
  {
   "attachments": {},
   "cell_type": "markdown",
   "metadata": {},
   "source": [
    "#### Imputation"
   ]
  },
  {
   "cell_type": "code",
   "execution_count": 6,
   "metadata": {},
   "outputs": [],
   "source": [
    "df_ldn = pd.read_csv(ldn_file_cln_path, dtype=DTYPE_DICT)\n",
    "missing_indices = get_indices_of_rows_missing_data(df_ldn, SPLITS_KEYS)"
   ]
  },
  {
   "cell_type": "code",
   "execution_count": 7,
   "metadata": {},
   "outputs": [
    {
     "name": "stdout",
     "output_type": "stream",
     "text": [
      "--------------------------------------------------\n",
      "--------------------------------------------------\n",
      "Invalid split time diff: k_15_time (non-cumulative) < (k_15_time - k_10_time - 5) OR k_15_time (non-cumulative) > (k_15_time - k_10_time + 5)\n",
      "Total Invalid: 4 || First 3 Indices: [ 4579  7276 12700]\n",
      "Invalid split time: k_10_time > k_15_time\n",
      "Total Invalid: 1 || First 3 Indices: [12700]\n",
      "--------------------------------------------------\n",
      "Invalid split time diff: k_20_time (non-cumulative) < (k_20_time - k_15_time - 5) OR k_20_time (non-cumulative) > (k_20_time - k_15_time + 5)\n",
      "Total Invalid: 18 || First 3 Indices: [6343 8671 9363]\n",
      "Invalid split time: k_15_time > k_20_time\n",
      "Total Invalid: 1 || First 3 Indices: [19882]\n",
      "--------------------------------------------------\n",
      "Invalid split time diff: k_half_time (non-cumulative) < (k_half_time - k_20_time - 5) OR k_half_time (non-cumulative) > (k_half_time - k_20_time + 5)\n",
      "Total Invalid: 410 || First 3 Indices: [  27   81 1112]\n",
      "Invalid split time: k_20_time > k_half_time\n",
      "Total Invalid: 3 || First 3 Indices: [ 1121 32585 37157]\n",
      "--------------------------------------------------\n",
      "Invalid split time diff: k_25_time (non-cumulative) < (k_25_time - k_half_time - 5) OR k_25_time (non-cumulative) > (k_25_time - k_half_time + 5)\n",
      "Total Invalid: 6 || First 3 Indices: [10199 13179 28912]\n",
      "Invalid split time: k_half_time > k_25_time\n",
      "Total Invalid: 2 || First 3 Indices: [28912 40935]\n",
      "--------------------------------------------------\n",
      "Invalid split time diff: k_30_time (non-cumulative) < (k_30_time - k_25_time - 5) OR k_30_time (non-cumulative) > (k_30_time - k_25_time + 5)\n",
      "Total Invalid: 1 || First 3 Indices: [36861]\n",
      "--------------------------------------------------\n",
      "Invalid split time diff: k_35_time (non-cumulative) < (k_35_time - k_30_time - 5) OR k_35_time (non-cumulative) > (k_35_time - k_30_time + 5)\n",
      "Total Invalid: 13 || First 3 Indices: [ 2575  8966 12700]\n",
      "Invalid split time: k_30_time > k_35_time\n",
      "Total Invalid: 1 || First 3 Indices: [2575]\n",
      "--------------------------------------------------\n",
      "Invalid split time diff: k_40_time (non-cumulative) < (k_40_time - k_35_time - 5) OR k_40_time (non-cumulative) > (k_40_time - k_35_time + 5)\n",
      "Total Invalid: 9 || First 3 Indices: [ 2287  6714 34598]\n",
      "Invalid split time: k_35_time > k_40_time\n",
      "Total Invalid: 4 || First 3 Indices: [ 6714 41072 41526]\n",
      "--------------------------------------------------\n",
      "Invalid split time diff: k_finish_time (non-cumulative) < (k_finish_time - k_40_time - 5) OR k_finish_time (non-cumulative) > (k_finish_time - k_40_time + 5)\n",
      "Total Invalid: 8 || First 3 Indices: [4521 4804 6401]\n",
      "Invalid split time: k_40_time > k_finish_time\n",
      "Total Invalid: 1 || First 3 Indices: [40799]\n",
      "\n",
      "** Dropping invalid splits, Total Count: 463 || Finished: 460 || Started: 3\n"
     ]
    }
   ],
   "source": [
    "df_knn = preprocess_impute_fill(df_ldn, missing_indices, knn_imputer, mms, SPLITS_KEYS, drop_invalid_splits=True)"
   ]
  },
  {
   "cell_type": "code",
   "execution_count": 8,
   "metadata": {},
   "outputs": [
    {
     "name": "stdout",
     "output_type": "stream",
     "text": [
      "--------------------------------------------------\n",
      "--------------------------------------------------\n",
      "Invalid split time diff: k_15_time (non-cumulative) < (k_15_time - k_10_time - 5) OR k_15_time (non-cumulative) > (k_15_time - k_10_time + 5)\n",
      "Total Invalid: 4 || First 3 Indices: [ 4579  7276 12700]\n",
      "--------------------------------------------------\n",
      "Invalid split time diff: k_20_time (non-cumulative) < (k_20_time - k_15_time - 5) OR k_20_time (non-cumulative) > (k_20_time - k_15_time + 5)\n",
      "Total Invalid: 17 || First 3 Indices: [6343 8671 9363]\n",
      "--------------------------------------------------\n",
      "Invalid split time diff: k_half_time (non-cumulative) < (k_half_time - k_20_time - 5) OR k_half_time (non-cumulative) > (k_half_time - k_20_time + 5)\n",
      "Total Invalid: 409 || First 3 Indices: [  27 1112 1121]\n",
      "Invalid split time: k_20_time > k_half_time\n",
      "Total Invalid: 1 || First 3 Indices: [1121]\n",
      "--------------------------------------------------\n",
      "Invalid split time diff: k_25_time (non-cumulative) < (k_25_time - k_half_time - 5) OR k_25_time (non-cumulative) > (k_25_time - k_half_time + 5)\n",
      "Total Invalid: 7 || First 3 Indices: [10199 13179 28912]\n",
      "--------------------------------------------------\n",
      "Invalid split time diff: k_30_time (non-cumulative) < (k_30_time - k_25_time - 5) OR k_30_time (non-cumulative) > (k_30_time - k_25_time + 5)\n",
      "Total Invalid: 1 || First 3 Indices: [36861]\n",
      "--------------------------------------------------\n",
      "Invalid split time diff: k_35_time (non-cumulative) < (k_35_time - k_30_time - 5) OR k_35_time (non-cumulative) > (k_35_time - k_30_time + 5)\n",
      "Total Invalid: 14 || First 3 Indices: [ 2575  8966 12700]\n",
      "Invalid split time: k_30_time > k_35_time\n",
      "Total Invalid: 1 || First 3 Indices: [22476]\n",
      "--------------------------------------------------\n",
      "Invalid split time diff: k_40_time (non-cumulative) < (k_40_time - k_35_time - 5) OR k_40_time (non-cumulative) > (k_40_time - k_35_time + 5)\n",
      "Total Invalid: 9 || First 3 Indices: [ 2287  6714 34598]\n",
      "Invalid split time: k_35_time > k_40_time\n",
      "Total Invalid: 5 || First 3 Indices: [ 6714 41072 41526]\n",
      "--------------------------------------------------\n",
      "Invalid split time diff: k_finish_time (non-cumulative) < (k_finish_time - k_40_time - 5) OR k_finish_time (non-cumulative) > (k_finish_time - k_40_time + 5)\n",
      "Total Invalid: 10 || First 3 Indices: [4521 4804 6401]\n",
      "Invalid split time: k_40_time > k_finish_time\n",
      "Total Invalid: 2 || First 3 Indices: [ 4804 40799]\n",
      "\n",
      "** Dropping invalid splits, Total Count: 463 || Finished: 460 || Started: 3\n"
     ]
    },
    {
     "name": "stderr",
     "output_type": "stream",
     "text": [
      "/Users/sika/miniforge3/envs/ML_mac_23/lib/python3.10/site-packages/sklearn/impute/_iterative.py:785: ConvergenceWarning: [IterativeImputer] Early stopping criterion not reached.\n",
      "  warnings.warn(\n"
     ]
    }
   ],
   "source": [
    "df_iter = preprocess_impute_fill(df_ldn, missing_indices, iter_imputer, mms, SPLITS_KEYS, drop_invalid_splits=True)"
   ]
  },
  {
   "cell_type": "code",
   "execution_count": 9,
   "metadata": {},
   "outputs": [],
   "source": [
    "save_df(df_knn, ldn_file_knn_imp_path)\n",
    "save_df(df_iter, ldn_file_iter_imp_path)"
   ]
  },
  {
   "cell_type": "code",
   "execution_count": 10,
   "metadata": {},
   "outputs": [],
   "source": [
    "del ldn_file_raw_path, ldn_file_cln_path, ldn_file_knn_imp_path, ldn_file_iter_imp_path, df_ldn, df_knn, df_iter"
   ]
  },
  {
   "attachments": {},
   "cell_type": "markdown",
   "metadata": {},
   "source": [
    "### 2021"
   ]
  },
  {
   "cell_type": "code",
   "execution_count": 11,
   "metadata": {},
   "outputs": [],
   "source": [
    "ldn_file_raw_path = f\"{LDN_RAW_PATH}/{LDN}{YEAR_21}/{LDN}{YEAR_21}_full.csv\"\n",
    "ldn_file_cln_path = f\"{LDN_CLN_PATH}/{LDN}{YEAR_21}/{LDN}{YEAR_21}_clean.csv\"\n",
    "ldn_file_knn_imp_path = f\"{LDN_IMP_PATH}/{LDN}{YEAR_21}/{LDN}{YEAR_21}_knn_impute.csv\"\n",
    "ldn_file_iter_imp_path = f\"{LDN_IMP_PATH}/{LDN}{YEAR_21}/{LDN}{YEAR_21}_iter_impute.csv\""
   ]
  },
  {
   "attachments": {},
   "cell_type": "markdown",
   "metadata": {},
   "source": [
    "#### Cleaning"
   ]
  },
  {
   "cell_type": "code",
   "execution_count": 24,
   "metadata": {},
   "outputs": [
    {
     "name": "stdout",
     "output_type": "stream",
     "text": [
      "** Removing Runners That did not start:\n",
      "Original rows count: 41594 || New rows count: 36129 || Dropped Rows: 5465\n",
      "** Dropping rows with splits that only contain time: Finished: 2 || Started: 0\n",
      "** Dropping rows with null values in `age_cat` and `gender` columns:\n",
      "Original rows count: 36127 || New rows count: 36124 || Dropped rows based on   age_cat  : 3\n",
      "Original rows count: 36124 || New rows count: 36124 || Dropped rows based on    gender  : 0\n",
      "** Replacing these age categories '70-74', '75-79', '80-84', '80+', '85+' by '70+'\n",
      "** File has been saved in: `Marathons_Data/Clean/London/London2021/London2021_clean.csv`\n"
     ]
    }
   ],
   "source": [
    "df_ldn = pd.read_csv(ldn_file_raw_path)\n",
    "# Cleaning the DataFrame.\n",
    "df_ldn = london_cleaner(df_ldn, SPLITS_KEYS, LDN_COLS_TO_DROP, COLS_ORDER)\n",
    "# Check if the DataFrame is valid before saving it.\n",
    "if valid_df(df_ldn):\n",
    "    save_df(df_ldn, ldn_file_cln_path)\n",
    "    print(f\"** File has been saved in: `{ldn_file_cln_path}`\")"
   ]
  },
  {
   "attachments": {},
   "cell_type": "markdown",
   "metadata": {},
   "source": [
    "#### Imputation"
   ]
  },
  {
   "cell_type": "code",
   "execution_count": 12,
   "metadata": {},
   "outputs": [],
   "source": [
    "df_ldn = pd.read_csv(ldn_file_cln_path, dtype=DTYPE_DICT)\n",
    "missing_indices = get_indices_of_rows_missing_data(df_ldn, SPLITS_KEYS)"
   ]
  },
  {
   "cell_type": "code",
   "execution_count": 13,
   "metadata": {},
   "outputs": [
    {
     "name": "stdout",
     "output_type": "stream",
     "text": [
      "--------------------------------------------------\n",
      "--------------------------------------------------\n",
      "Invalid split time diff: k_15_time (non-cumulative) < (k_15_time - k_10_time - 5) OR k_15_time (non-cumulative) > (k_15_time - k_10_time + 5)\n",
      "Total Invalid: 42 || First 3 Indices: [ 266 1610 1879]\n",
      "--------------------------------------------------\n",
      "Invalid split time diff: k_20_time (non-cumulative) < (k_20_time - k_15_time - 5) OR k_20_time (non-cumulative) > (k_20_time - k_15_time + 5)\n",
      "Total Invalid: 24 || First 3 Indices: [1685 2330 3322]\n",
      "Invalid split time: k_15_time > k_20_time\n",
      "Total Invalid: 1 || First 3 Indices: [27209]\n",
      "--------------------------------------------------\n",
      "Invalid split time diff: k_half_time (non-cumulative) < (k_half_time - k_20_time - 5) OR k_half_time (non-cumulative) > (k_half_time - k_20_time + 5)\n",
      "Total Invalid: 42 || First 3 Indices: [2410 3496 4840]\n",
      "Invalid split time: k_20_time > k_half_time\n",
      "Total Invalid: 1 || First 3 Indices: [18720]\n",
      "--------------------------------------------------\n",
      "Invalid split time diff: k_25_time (non-cumulative) < (k_25_time - k_half_time - 5) OR k_25_time (non-cumulative) > (k_25_time - k_half_time + 5)\n",
      "Total Invalid: 14 || First 3 Indices: [1020 2306 4590]\n",
      "Invalid split time: k_half_time > k_25_time\n",
      "Total Invalid: 1 || First 3 Indices: [23994]\n",
      "--------------------------------------------------\n",
      "Invalid split time diff: k_30_time (non-cumulative) < (k_30_time - k_25_time - 5) OR k_30_time (non-cumulative) > (k_30_time - k_25_time + 5)\n",
      "Total Invalid: 10 || First 3 Indices: [2330 2958 4722]\n",
      "--------------------------------------------------\n",
      "Invalid split time diff: k_35_time (non-cumulative) < (k_35_time - k_30_time - 5) OR k_35_time (non-cumulative) > (k_35_time - k_30_time + 5)\n",
      "Total Invalid: 40 || First 3 Indices: [1283 2752 3521]\n",
      "--------------------------------------------------\n",
      "Invalid split time diff: k_40_time (non-cumulative) < (k_40_time - k_35_time - 5) OR k_40_time (non-cumulative) > (k_40_time - k_35_time + 5)\n",
      "Total Invalid: 132 || First 3 Indices: [1066 1782 1821]\n",
      "Invalid split time: k_35_time > k_40_time\n",
      "Total Invalid: 1 || First 3 Indices: [34188]\n",
      "--------------------------------------------------\n",
      "Invalid split time diff: k_finish_time (non-cumulative) < (k_finish_time - k_40_time - 5) OR k_finish_time (non-cumulative) > (k_finish_time - k_40_time + 5)\n",
      "Total Invalid: 21 || First 3 Indices: [1572 2326 5654]\n",
      "\n",
      "** Dropping invalid splits, Total Count: 308 || Finished: 303 || Started: 5\n"
     ]
    }
   ],
   "source": [
    "df_knn = preprocess_impute_fill(df_ldn, missing_indices, knn_imputer, mms, SPLITS_KEYS, drop_invalid_splits=True)"
   ]
  },
  {
   "cell_type": "code",
   "execution_count": 14,
   "metadata": {},
   "outputs": [
    {
     "name": "stdout",
     "output_type": "stream",
     "text": [
      "--------------------------------------------------\n",
      "--------------------------------------------------\n",
      "Invalid split time diff: k_15_time (non-cumulative) < (k_15_time - k_10_time - 5) OR k_15_time (non-cumulative) > (k_15_time - k_10_time + 5)\n",
      "Total Invalid: 39 || First 3 Indices: [ 266 1610 1879]\n",
      "--------------------------------------------------\n",
      "Invalid split time diff: k_20_time (non-cumulative) < (k_20_time - k_15_time - 5) OR k_20_time (non-cumulative) > (k_20_time - k_15_time + 5)\n",
      "Total Invalid: 24 || First 3 Indices: [1685 2330 3322]\n",
      "--------------------------------------------------\n",
      "Invalid split time diff: k_half_time (non-cumulative) < (k_half_time - k_20_time - 5) OR k_half_time (non-cumulative) > (k_half_time - k_20_time + 5)\n",
      "Total Invalid: 44 || First 3 Indices: [2410 3496 4840]\n",
      "Invalid split time: k_20_time > k_half_time\n",
      "Total Invalid: 2 || First 3 Indices: [18720 20164]\n",
      "--------------------------------------------------\n",
      "Invalid split time diff: k_25_time (non-cumulative) < (k_25_time - k_half_time - 5) OR k_25_time (non-cumulative) > (k_25_time - k_half_time + 5)\n",
      "Total Invalid: 14 || First 3 Indices: [1020 2306 4590]\n",
      "--------------------------------------------------\n",
      "Invalid split time diff: k_30_time (non-cumulative) < (k_30_time - k_25_time - 5) OR k_30_time (non-cumulative) > (k_30_time - k_25_time + 5)\n",
      "Total Invalid: 10 || First 3 Indices: [2330 2958 4722]\n",
      "--------------------------------------------------\n",
      "Invalid split time diff: k_35_time (non-cumulative) < (k_35_time - k_30_time - 5) OR k_35_time (non-cumulative) > (k_35_time - k_30_time + 5)\n",
      "Total Invalid: 38 || First 3 Indices: [1283 2752 3521]\n",
      "--------------------------------------------------\n",
      "Invalid split time diff: k_40_time (non-cumulative) < (k_40_time - k_35_time - 5) OR k_40_time (non-cumulative) > (k_40_time - k_35_time + 5)\n",
      "Total Invalid: 132 || First 3 Indices: [1066 1782 1821]\n",
      "Invalid split time: k_35_time > k_40_time\n",
      "Total Invalid: 1 || First 3 Indices: [34188]\n",
      "--------------------------------------------------\n",
      "Invalid split time diff: k_finish_time (non-cumulative) < (k_finish_time - k_40_time - 5) OR k_finish_time (non-cumulative) > (k_finish_time - k_40_time + 5)\n",
      "Total Invalid: 21 || First 3 Indices: [1572 2326 5654]\n",
      "Invalid split time: k_40_time > k_finish_time\n",
      "Total Invalid: 1 || First 3 Indices: [12428]\n",
      "\n",
      "** Dropping invalid splits, Total Count: 308 || Finished: 303 || Started: 5\n"
     ]
    },
    {
     "name": "stderr",
     "output_type": "stream",
     "text": [
      "/Users/sika/miniforge3/envs/ML_mac_23/lib/python3.10/site-packages/sklearn/impute/_iterative.py:785: ConvergenceWarning: [IterativeImputer] Early stopping criterion not reached.\n",
      "  warnings.warn(\n"
     ]
    }
   ],
   "source": [
    "df_iter = preprocess_impute_fill(df_ldn, missing_indices, iter_imputer, mms, SPLITS_KEYS, drop_invalid_splits=True)"
   ]
  },
  {
   "cell_type": "code",
   "execution_count": 15,
   "metadata": {},
   "outputs": [],
   "source": [
    "save_df(df_knn, ldn_file_knn_imp_path)\n",
    "save_df(df_iter, ldn_file_iter_imp_path)"
   ]
  },
  {
   "cell_type": "code",
   "execution_count": 16,
   "metadata": {},
   "outputs": [],
   "source": [
    "del ldn_file_raw_path, ldn_file_cln_path, ldn_file_knn_imp_path, ldn_file_iter_imp_path, df_ldn, df_knn, df_iter"
   ]
  },
  {
   "attachments": {},
   "cell_type": "markdown",
   "metadata": {},
   "source": [
    "### 2022"
   ]
  },
  {
   "cell_type": "code",
   "execution_count": 17,
   "metadata": {},
   "outputs": [],
   "source": [
    "ldn_file_raw_path = f\"{LDN_RAW_PATH}/{LDN}{YEAR_22}/{LDN}{YEAR_22}_full.csv\"\n",
    "ldn_file_cln_path = f\"{LDN_CLN_PATH}/{LDN}{YEAR_22}/{LDN}{YEAR_22}_clean.csv\"\n",
    "ldn_file_knn_imp_path = f\"{LDN_IMP_PATH}/{LDN}{YEAR_22}/{LDN}{YEAR_22}_knn_impute.csv\"\n",
    "ldn_file_iter_imp_path = f\"{LDN_IMP_PATH}/{LDN}{YEAR_22}/{LDN}{YEAR_22}_iter_impute.csv\""
   ]
  },
  {
   "attachments": {},
   "cell_type": "markdown",
   "metadata": {},
   "source": [
    "#### Cleaning"
   ]
  },
  {
   "cell_type": "code",
   "execution_count": 27,
   "metadata": {},
   "outputs": [
    {
     "name": "stdout",
     "output_type": "stream",
     "text": [
      "** Removing Runners That did not start:\n",
      "Original rows count: 46993 || New rows count: 40812 || Dropped Rows: 6181\n",
      "** Dropping rows with splits that only contain time: Finished: 1 || Started: 0\n",
      "** Dropping rows with null values in `age_cat` and `gender` columns:\n",
      "Original rows count: 40811 || New rows count: 40810 || Dropped rows based on   age_cat  : 1\n",
      "Original rows count: 40810 || New rows count: 40810 || Dropped rows based on    gender  : 0\n",
      "** Replacing these age categories '70-74', '75-79', '80-84', '80+', '85+' by '70+'\n",
      "** File has been saved in: `Marathons_Data/Clean/London/London2022/London2022_clean.csv`\n"
     ]
    }
   ],
   "source": [
    "df_ldn = pd.read_csv(ldn_file_raw_path)\n",
    "# Cleaning the DataFrame.\n",
    "df_ldn = london_cleaner(df_ldn, SPLITS_KEYS, LDN_COLS_TO_DROP, COLS_ORDER)\n",
    "# Check if the DataFrame is valid before saving it.\n",
    "if valid_df(df_ldn):\n",
    "    save_df(df_ldn, ldn_file_cln_path)\n",
    "    print(f\"** File has been saved in: `{ldn_file_cln_path}`\")"
   ]
  },
  {
   "attachments": {},
   "cell_type": "markdown",
   "metadata": {},
   "source": [
    "#### Imputation"
   ]
  },
  {
   "cell_type": "code",
   "execution_count": 18,
   "metadata": {},
   "outputs": [],
   "source": [
    "df_ldn = pd.read_csv(ldn_file_cln_path, dtype=DTYPE_DICT)\n",
    "missing_indices = get_indices_of_rows_missing_data(df_ldn, SPLITS_KEYS)"
   ]
  },
  {
   "cell_type": "code",
   "execution_count": 19,
   "metadata": {},
   "outputs": [
    {
     "name": "stdout",
     "output_type": "stream",
     "text": [
      "--------------------------------------------------\n",
      "--------------------------------------------------\n",
      "Invalid split time diff: k_15_time (non-cumulative) < (k_15_time - k_10_time - 5) OR k_15_time (non-cumulative) > (k_15_time - k_10_time + 5)\n",
      "Total Invalid: 5 || First 3 Indices: [ 1490  5053 19207]\n",
      "Invalid split time: k_10_time > k_15_time\n",
      "Total Invalid: 3 || First 3 Indices: [ 1490  5053 23642]\n",
      "--------------------------------------------------\n",
      "Invalid split time diff: k_20_time (non-cumulative) < (k_20_time - k_15_time - 5) OR k_20_time (non-cumulative) > (k_20_time - k_15_time + 5)\n",
      "Total Invalid: 21 || First 3 Indices: [ 5622  5783 12849]\n",
      "Invalid split time: k_15_time > k_20_time\n",
      "Total Invalid: 1 || First 3 Indices: [30330]\n",
      "--------------------------------------------------\n",
      "Invalid split time diff: k_half_time (non-cumulative) < (k_half_time - k_20_time - 5) OR k_half_time (non-cumulative) > (k_half_time - k_20_time + 5)\n",
      "Total Invalid: 53 || First 3 Indices: [3372 3796 4073]\n",
      "Invalid split time: k_20_time > k_half_time\n",
      "Total Invalid: 1 || First 3 Indices: [9206]\n",
      "--------------------------------------------------\n",
      "Invalid split time diff: k_25_time (non-cumulative) < (k_25_time - k_half_time - 5) OR k_25_time (non-cumulative) > (k_25_time - k_half_time + 5)\n",
      "Total Invalid: 10 || First 3 Indices: [ 1313  6391 16353]\n",
      "--------------------------------------------------\n",
      "Invalid split time diff: k_30_time (non-cumulative) < (k_30_time - k_25_time - 5) OR k_30_time (non-cumulative) > (k_30_time - k_25_time + 5)\n",
      "Total Invalid: 10 || First 3 Indices: [ 7566  9006 11327]\n",
      "Invalid split time: k_25_time > k_30_time\n",
      "Total Invalid: 1 || First 3 Indices: [36251]\n",
      "--------------------------------------------------\n",
      "Invalid split time diff: k_35_time (non-cumulative) < (k_35_time - k_30_time - 5) OR k_35_time (non-cumulative) > (k_35_time - k_30_time + 5)\n",
      "Total Invalid: 29 || First 3 Indices: [1175 7733 8689]\n",
      "Invalid split time: k_30_time > k_35_time\n",
      "Total Invalid: 1 || First 3 Indices: [40288]\n",
      "--------------------------------------------------\n",
      "Invalid split time diff: k_40_time (non-cumulative) < (k_40_time - k_35_time - 5) OR k_40_time (non-cumulative) > (k_40_time - k_35_time + 5)\n",
      "Total Invalid: 80 || First 3 Indices: [1266 1353 1827]\n",
      "Invalid split time: k_35_time > k_40_time\n",
      "Total Invalid: 1 || First 3 Indices: [22790]\n",
      "--------------------------------------------------\n",
      "Invalid split time diff: k_finish_time (non-cumulative) < (k_finish_time - k_40_time - 5) OR k_finish_time (non-cumulative) > (k_finish_time - k_40_time + 5)\n",
      "Total Invalid: 29 || First 3 Indices: [3291 4637 5532]\n",
      "Invalid split time: k_40_time > k_finish_time\n",
      "Total Invalid: 5 || First 3 Indices: [18729 25420 26885]\n",
      "\n",
      "** Dropping invalid splits, Total Count: 227 || Finished: 226 || Started: 1\n"
     ]
    }
   ],
   "source": [
    "df_knn = preprocess_impute_fill(df_ldn, missing_indices, knn_imputer, mms, SPLITS_KEYS, drop_invalid_splits=True)"
   ]
  },
  {
   "cell_type": "code",
   "execution_count": 20,
   "metadata": {},
   "outputs": [
    {
     "name": "stdout",
     "output_type": "stream",
     "text": [
      "--------------------------------------------------\n",
      "--------------------------------------------------\n",
      "Invalid split time diff: k_15_time (non-cumulative) < (k_15_time - k_10_time - 5) OR k_15_time (non-cumulative) > (k_15_time - k_10_time + 5)\n",
      "Total Invalid: 5 || First 3 Indices: [ 1490  5053 19207]\n",
      "--------------------------------------------------\n",
      "Invalid split time diff: k_20_time (non-cumulative) < (k_20_time - k_15_time - 5) OR k_20_time (non-cumulative) > (k_20_time - k_15_time + 5)\n",
      "Total Invalid: 21 || First 3 Indices: [ 5622  5783 12849]\n",
      "--------------------------------------------------\n",
      "Invalid split time diff: k_half_time (non-cumulative) < (k_half_time - k_20_time - 5) OR k_half_time (non-cumulative) > (k_half_time - k_20_time + 5)\n",
      "Total Invalid: 50 || First 3 Indices: [3372 3796 6677]\n",
      "--------------------------------------------------\n",
      "Invalid split time diff: k_25_time (non-cumulative) < (k_25_time - k_half_time - 5) OR k_25_time (non-cumulative) > (k_25_time - k_half_time + 5)\n",
      "Total Invalid: 11 || First 3 Indices: [ 1313  6391 16353]\n",
      "--------------------------------------------------\n",
      "Invalid split time diff: k_30_time (non-cumulative) < (k_30_time - k_25_time - 5) OR k_30_time (non-cumulative) > (k_30_time - k_25_time + 5)\n",
      "Total Invalid: 10 || First 3 Indices: [ 7566  9006 11327]\n",
      "--------------------------------------------------\n",
      "Invalid split time diff: k_35_time (non-cumulative) < (k_35_time - k_30_time - 5) OR k_35_time (non-cumulative) > (k_35_time - k_30_time + 5)\n",
      "Total Invalid: 28 || First 3 Indices: [7733 8689 8916]\n",
      "--------------------------------------------------\n",
      "Invalid split time diff: k_40_time (non-cumulative) < (k_40_time - k_35_time - 5) OR k_40_time (non-cumulative) > (k_40_time - k_35_time + 5)\n",
      "Total Invalid: 77 || First 3 Indices: [1266 1353 1827]\n",
      "Invalid split time: k_35_time > k_40_time\n",
      "Total Invalid: 1 || First 3 Indices: [22790]\n",
      "--------------------------------------------------\n",
      "Invalid split time diff: k_finish_time (non-cumulative) < (k_finish_time - k_40_time - 5) OR k_finish_time (non-cumulative) > (k_finish_time - k_40_time + 5)\n",
      "Total Invalid: 28 || First 3 Indices: [3291 4637 5532]\n",
      "Invalid split time: k_40_time > k_finish_time\n",
      "Total Invalid: 5 || First 3 Indices: [18729 25420 26885]\n",
      "\n",
      "** Dropping invalid splits, Total Count: 220 || Finished: 219 || Started: 1\n"
     ]
    },
    {
     "name": "stderr",
     "output_type": "stream",
     "text": [
      "/Users/sika/miniforge3/envs/ML_mac_23/lib/python3.10/site-packages/sklearn/impute/_iterative.py:785: ConvergenceWarning: [IterativeImputer] Early stopping criterion not reached.\n",
      "  warnings.warn(\n"
     ]
    }
   ],
   "source": [
    "df_iter = preprocess_impute_fill(df_ldn, missing_indices, iter_imputer, mms, SPLITS_KEYS, drop_invalid_splits=True)"
   ]
  },
  {
   "cell_type": "code",
   "execution_count": 21,
   "metadata": {},
   "outputs": [],
   "source": [
    "save_df(df_knn, ldn_file_knn_imp_path)\n",
    "save_df(df_iter, ldn_file_iter_imp_path)"
   ]
  },
  {
   "cell_type": "code",
   "execution_count": 22,
   "metadata": {},
   "outputs": [],
   "source": [
    "del ldn_file_raw_path, ldn_file_cln_path, ldn_file_knn_imp_path, ldn_file_iter_imp_path, df_ldn, df_knn, df_iter"
   ]
  },
  {
   "attachments": {},
   "cell_type": "markdown",
   "metadata": {},
   "source": [
    "### 2023"
   ]
  },
  {
   "cell_type": "code",
   "execution_count": 23,
   "metadata": {},
   "outputs": [],
   "source": [
    "ldn_file_raw_path = f\"{LDN_RAW_PATH}/{LDN}{YEAR_23}/{LDN}{YEAR_23}_full.csv\"\n",
    "ldn_file_cln_path = f\"{LDN_CLN_PATH}/{LDN}{YEAR_23}/{LDN}{YEAR_23}_clean.csv\"\n",
    "ldn_file_knn_imp_path = f\"{LDN_IMP_PATH}/{LDN}{YEAR_23}/{LDN}{YEAR_23}_knn_impute.csv\"\n",
    "ldn_file_iter_imp_path = f\"{LDN_IMP_PATH}/{LDN}{YEAR_23}/{LDN}{YEAR_23}_iter_impute.csv\""
   ]
  },
  {
   "attachments": {},
   "cell_type": "markdown",
   "metadata": {},
   "source": [
    "#### Cleaning"
   ]
  },
  {
   "cell_type": "code",
   "execution_count": 30,
   "metadata": {},
   "outputs": [
    {
     "name": "stdout",
     "output_type": "stream",
     "text": [
      "** Removing Runners That did not start:\n",
      "Original rows count: 53077 || New rows count: 49083 || Dropped Rows: 3994\n",
      "** Dropping rows with splits that only contain time: Finished: 0 || Started: 0\n",
      "** Dropping rows with null values in `age_cat` and `gender` columns:\n",
      "Original rows count: 49083 || New rows count: 49083 || Dropped rows based on   age_cat  : 0\n",
      "Original rows count: 49083 || New rows count: 49083 || Dropped rows based on    gender  : 0\n",
      "** Replacing these age categories '70-74', '75-79', '80-84', '80+', '85+' by '70+'\n",
      "** File has been saved in: `Marathons_Data/Clean/London/London2023/London2023_clean.csv`\n"
     ]
    }
   ],
   "source": [
    "df_ldn = pd.read_csv(ldn_file_raw_path)\n",
    "# Cleaning the DataFrame.\n",
    "df_ldn = london_cleaner(df_ldn, SPLITS_KEYS, LDN_COLS_TO_DROP, COLS_ORDER)\n",
    "# Check if the DataFrame is valid before saving it.\n",
    "if valid_df(df_ldn):\n",
    "    save_df(df_ldn, ldn_file_cln_path)\n",
    "    print(f\"** File has been saved in: `{ldn_file_cln_path}`\")"
   ]
  },
  {
   "attachments": {},
   "cell_type": "markdown",
   "metadata": {},
   "source": [
    "#### Imputation"
   ]
  },
  {
   "cell_type": "code",
   "execution_count": 24,
   "metadata": {},
   "outputs": [],
   "source": [
    "df_ldn = pd.read_csv(ldn_file_cln_path, dtype=DTYPE_DICT)\n",
    "missing_indices = get_indices_of_rows_missing_data(df_ldn, SPLITS_KEYS)"
   ]
  },
  {
   "cell_type": "code",
   "execution_count": 25,
   "metadata": {},
   "outputs": [
    {
     "name": "stdout",
     "output_type": "stream",
     "text": [
      "--------------------------------------------------\n",
      "--------------------------------------------------\n",
      "Invalid split time diff: k_15_time (non-cumulative) < (k_15_time - k_10_time - 5) OR k_15_time (non-cumulative) > (k_15_time - k_10_time + 5)\n",
      "Total Invalid: 64 || First 3 Indices: [2036 3951 4002]\n",
      "Invalid split time: k_10_time > k_15_time\n",
      "Total Invalid: 4 || First 3 Indices: [ 3951  6047 24950]\n",
      "--------------------------------------------------\n",
      "Invalid split time diff: k_20_time (non-cumulative) < (k_20_time - k_15_time - 5) OR k_20_time (non-cumulative) > (k_20_time - k_15_time + 5)\n",
      "Total Invalid: 246 || First 3 Indices: [ 918 1338 1479]\n",
      "Invalid split time: k_15_time > k_20_time\n",
      "Total Invalid: 4 || First 3 Indices: [ 8828 24406 45505]\n",
      "--------------------------------------------------\n",
      "Invalid split time diff: k_half_time (non-cumulative) < (k_half_time - k_20_time - 5) OR k_half_time (non-cumulative) > (k_half_time - k_20_time + 5)\n",
      "Total Invalid: 150 || First 3 Indices: [ 586  874 1061]\n",
      "Invalid split time: k_20_time > k_half_time\n",
      "Total Invalid: 8 || First 3 Indices: [13156 13340 14615]\n",
      "--------------------------------------------------\n",
      "Invalid split time diff: k_25_time (non-cumulative) < (k_25_time - k_half_time - 5) OR k_25_time (non-cumulative) > (k_25_time - k_half_time + 5)\n",
      "Total Invalid: 15 || First 3 Indices: [2603 4141 4390]\n",
      "--------------------------------------------------\n",
      "Invalid split time diff: k_30_time (non-cumulative) < (k_30_time - k_25_time - 5) OR k_30_time (non-cumulative) > (k_30_time - k_25_time + 5)\n",
      "Total Invalid: 239 || First 3 Indices: [2893 3793 4036]\n",
      "Invalid split time: k_25_time > k_30_time\n",
      "Total Invalid: 1 || First 3 Indices: [4857]\n",
      "--------------------------------------------------\n",
      "Invalid split time diff: k_35_time (non-cumulative) < (k_35_time - k_30_time - 5) OR k_35_time (non-cumulative) > (k_35_time - k_30_time + 5)\n",
      "Total Invalid: 264 || First 3 Indices: [2447 2967 3170]\n",
      "--------------------------------------------------\n",
      "Invalid split time diff: k_40_time (non-cumulative) < (k_40_time - k_35_time - 5) OR k_40_time (non-cumulative) > (k_40_time - k_35_time + 5)\n",
      "Total Invalid: 54 || First 3 Indices: [1165 1208 3971]\n",
      "Invalid split time: k_35_time > k_40_time\n",
      "Total Invalid: 1 || First 3 Indices: [38209]\n",
      "--------------------------------------------------\n",
      "Invalid split time diff: k_finish_time (non-cumulative) < (k_finish_time - k_40_time - 5) OR k_finish_time (non-cumulative) > (k_finish_time - k_40_time + 5)\n",
      "Total Invalid: 43 || First 3 Indices: [1038 1647 4812]\n",
      "Invalid split time: k_40_time > k_finish_time\n",
      "Total Invalid: 5 || First 3 Indices: [15807 19197 24305]\n",
      "\n",
      "** Dropping invalid splits, Total Count: 1013 || Finished: 987 || Started: 26\n"
     ]
    }
   ],
   "source": [
    "df_knn = preprocess_impute_fill(df_ldn, missing_indices, knn_imputer, mms, SPLITS_KEYS, drop_invalid_splits=True)"
   ]
  },
  {
   "cell_type": "code",
   "execution_count": 26,
   "metadata": {},
   "outputs": [
    {
     "name": "stdout",
     "output_type": "stream",
     "text": [
      "--------------------------------------------------\n",
      "--------------------------------------------------\n",
      "Invalid split time diff: k_15_time (non-cumulative) < (k_15_time - k_10_time - 5) OR k_15_time (non-cumulative) > (k_15_time - k_10_time + 5)\n",
      "Total Invalid: 60 || First 3 Indices: [2036 3951 4002]\n",
      "--------------------------------------------------\n",
      "Invalid split time diff: k_20_time (non-cumulative) < (k_20_time - k_15_time - 5) OR k_20_time (non-cumulative) > (k_20_time - k_15_time + 5)\n",
      "Total Invalid: 237 || First 3 Indices: [ 918 1338 1479]\n",
      "Invalid split time: k_15_time > k_20_time\n",
      "Total Invalid: 3 || First 3 Indices: [ 8828 45505 45506]\n",
      "--------------------------------------------------\n",
      "Invalid split time diff: k_half_time (non-cumulative) < (k_half_time - k_20_time - 5) OR k_half_time (non-cumulative) > (k_half_time - k_20_time + 5)\n",
      "Total Invalid: 148 || First 3 Indices: [ 586  874 1061]\n",
      "Invalid split time: k_20_time > k_half_time\n",
      "Total Invalid: 2 || First 3 Indices: [13156 18257]\n",
      "--------------------------------------------------\n",
      "Invalid split time diff: k_25_time (non-cumulative) < (k_25_time - k_half_time - 5) OR k_25_time (non-cumulative) > (k_25_time - k_half_time + 5)\n",
      "Total Invalid: 13 || First 3 Indices: [2603 4141 4390]\n",
      "--------------------------------------------------\n",
      "Invalid split time diff: k_30_time (non-cumulative) < (k_30_time - k_25_time - 5) OR k_30_time (non-cumulative) > (k_30_time - k_25_time + 5)\n",
      "Total Invalid: 237 || First 3 Indices: [2893 4036 4611]\n",
      "Invalid split time: k_25_time > k_30_time\n",
      "Total Invalid: 2 || First 3 Indices: [2893 4857]\n",
      "--------------------------------------------------\n",
      "Invalid split time diff: k_35_time (non-cumulative) < (k_35_time - k_30_time - 5) OR k_35_time (non-cumulative) > (k_35_time - k_30_time + 5)\n",
      "Total Invalid: 264 || First 3 Indices: [2447 2967 3170]\n",
      "--------------------------------------------------\n",
      "Invalid split time diff: k_40_time (non-cumulative) < (k_40_time - k_35_time - 5) OR k_40_time (non-cumulative) > (k_40_time - k_35_time + 5)\n",
      "Total Invalid: 51 || First 3 Indices: [1165 1208 3971]\n",
      "Invalid split time: k_35_time > k_40_time\n",
      "Total Invalid: 1 || First 3 Indices: [38209]\n",
      "--------------------------------------------------\n",
      "Invalid split time diff: k_finish_time (non-cumulative) < (k_finish_time - k_40_time - 5) OR k_finish_time (non-cumulative) > (k_finish_time - k_40_time + 5)\n",
      "Total Invalid: 44 || First 3 Indices: [1647 4812 5331]\n",
      "Invalid split time: k_40_time > k_finish_time\n",
      "Total Invalid: 5 || First 3 Indices: [15807 19197 24305]\n",
      "\n",
      "** Dropping invalid splits, Total Count: 994 || Finished: 967 || Started: 27\n"
     ]
    },
    {
     "name": "stderr",
     "output_type": "stream",
     "text": [
      "/Users/sika/miniforge3/envs/ML_mac_23/lib/python3.10/site-packages/sklearn/impute/_iterative.py:785: ConvergenceWarning: [IterativeImputer] Early stopping criterion not reached.\n",
      "  warnings.warn(\n"
     ]
    }
   ],
   "source": [
    "df_iter = preprocess_impute_fill(df_ldn, missing_indices, iter_imputer, mms, SPLITS_KEYS, drop_invalid_splits=True)"
   ]
  },
  {
   "cell_type": "code",
   "execution_count": 27,
   "metadata": {},
   "outputs": [],
   "source": [
    "save_df(df_knn, ldn_file_knn_imp_path)\n",
    "save_df(df_iter, ldn_file_iter_imp_path)"
   ]
  },
  {
   "cell_type": "code",
   "execution_count": 28,
   "metadata": {},
   "outputs": [],
   "source": [
    "del ldn_file_raw_path, ldn_file_cln_path, ldn_file_knn_imp_path, ldn_file_iter_imp_path, df_ldn, df_knn, df_iter"
   ]
  },
  {
   "attachments": {},
   "cell_type": "markdown",
   "metadata": {},
   "source": [
    "## Hamburg"
   ]
  },
  {
   "cell_type": "code",
   "execution_count": 19,
   "metadata": {},
   "outputs": [],
   "source": [
    "HAM_COLS_TO_DROP = [\"idp\", \"finish\", \"run_no\"] "
   ]
  },
  {
   "attachments": {},
   "cell_type": "markdown",
   "metadata": {},
   "source": [
    "### 2013"
   ]
  },
  {
   "cell_type": "code",
   "execution_count": 5,
   "metadata": {},
   "outputs": [],
   "source": [
    "# Raw file path.\n",
    "ham_file_raw_path = f\"{HAM_RAW_PATH}/{HAM}{YEAR_13}/{HAM}{YEAR_13}_full.csv\"\n",
    "# Clean file path.\n",
    "ham_file_cln_path = f\"{HAM_CLN_PATH}/{HAM}{YEAR_13}/{HAM}{YEAR_13}_clean.csv\"\n",
    "# Imputed file path.\n",
    "ham_file_knn_imp_path = f\"{HAM_IMP_PATH}/{HAM}{YEAR_13}/{HAM}{YEAR_13}_knn_impute.csv\"\n",
    "ham_file_iter_imp_path = f\"{HAM_IMP_PATH}/{HAM}{YEAR_13}/{HAM}{YEAR_13}_iter_impute.csv\""
   ]
  },
  {
   "attachments": {},
   "cell_type": "markdown",
   "metadata": {},
   "source": [
    "#### Cleaning"
   ]
  },
  {
   "cell_type": "code",
   "execution_count": 6,
   "metadata": {},
   "outputs": [
    {
     "name": "stdout",
     "output_type": "stream",
     "text": [
      "** Removing Runners That did not start:\n",
      "Original rows count: 15135 || New rows count: 11872 || Dropped Rows: 3263\n",
      "** Dropping rows with null values in `age_cat` and `gender` columns:\n",
      "Original rows count: 11872 || New rows count: 11872 || Dropped rows based on   age_cat  : 0\n",
      "Original rows count: 11872 || New rows count: 11872 || Dropped rows based on    gender  : 0\n",
      "** Dropping rows with splits that only contain time: Finished: 29 || Started: 1\n",
      "** File has been saved in: `Marathons_Data/Clean/Hamburg/Hamburg2013/Hamburg2013_clean.csv`\n"
     ]
    }
   ],
   "source": [
    "df_ham = pd.read_csv(ham_file_raw_path)\n",
    "# Cleaning The DataFrame\n",
    "df_ham = hamburg_cleaner(df_ham, SPLITS_KEYS, HAM_COLS_TO_DROP, SPLIT_NAME_DICT, COLS_ORDER)\n",
    "# Check if the DataFrame is valid before saving it.\n",
    "if valid_df(df_ham):\n",
    "    save_df(df_ham, ham_file_cln_path)\n",
    "    print(f\"** File has been saved in: `{ham_file_cln_path}`\")"
   ]
  },
  {
   "attachments": {},
   "cell_type": "markdown",
   "metadata": {},
   "source": [
    "#### Imputation"
   ]
  },
  {
   "cell_type": "code",
   "execution_count": 6,
   "metadata": {},
   "outputs": [],
   "source": [
    "df_ham = pd.read_csv(ham_file_cln_path, dtype=DTYPE_DICT)\n",
    "missing_indices = get_indices_of_rows_missing_data(df_ham, SPLITS_KEYS)"
   ]
  },
  {
   "cell_type": "code",
   "execution_count": 7,
   "metadata": {},
   "outputs": [
    {
     "name": "stdout",
     "output_type": "stream",
     "text": [
      "--------------------------------------------------\n",
      "--------------------------------------------------\n",
      "Invalid split time diff: k_15_time (non-cumulative) < (k_15_time - k_10_time - 5) OR k_15_time (non-cumulative) > (k_15_time - k_10_time + 5)\n",
      "Total Invalid: 6 || First 3 Indices: [ 457 2003 7082]\n",
      "--------------------------------------------------\n",
      "Invalid split time diff: k_20_time (non-cumulative) < (k_20_time - k_15_time - 5) OR k_20_time (non-cumulative) > (k_20_time - k_15_time + 5)\n",
      "Total Invalid: 1 || First 3 Indices: [849]\n",
      "--------------------------------------------------\n",
      "Invalid split time diff: k_half_time (non-cumulative) < (k_half_time - k_20_time - 5) OR k_half_time (non-cumulative) > (k_half_time - k_20_time + 5)\n",
      "Total Invalid: 9 || First 3 Indices: [ 880 1616 2003]\n",
      "--------------------------------------------------\n",
      "Invalid split time diff: k_25_time (non-cumulative) < (k_25_time - k_half_time - 5) OR k_25_time (non-cumulative) > (k_25_time - k_half_time + 5)\n",
      "Total Invalid: 1 || First 3 Indices: [6687]\n",
      "--------------------------------------------------\n",
      "Invalid split time diff: k_30_time (non-cumulative) < (k_30_time - k_25_time - 5) OR k_30_time (non-cumulative) > (k_30_time - k_25_time + 5)\n",
      "Total Invalid: 6 || First 3 Indices: [ 849 2537 5236]\n",
      "--------------------------------------------------\n",
      "Invalid split time diff: k_35_time (non-cumulative) < (k_35_time - k_30_time - 5) OR k_35_time (non-cumulative) > (k_35_time - k_30_time + 5)\n",
      "Total Invalid: 5 || First 3 Indices: [1071 2073 2628]\n",
      "--------------------------------------------------\n",
      "Invalid split time diff: k_40_time (non-cumulative) < (k_40_time - k_35_time - 5) OR k_40_time (non-cumulative) > (k_40_time - k_35_time + 5)\n",
      "Total Invalid: 13 || First 3 Indices: [145 187 560]\n",
      "Invalid split time: k_35_time > k_40_time\n",
      "Total Invalid: 3 || First 3 Indices: [  145   187 11212]\n",
      "--------------------------------------------------\n",
      "Invalid split time diff: k_finish_time (non-cumulative) < (k_finish_time - k_40_time - 5) OR k_finish_time (non-cumulative) > (k_finish_time - k_40_time + 5)\n",
      "Total Invalid: 19 || First 3 Indices: [ 246  644 1454]\n",
      "Invalid split time: k_40_time > k_finish_time\n",
      "Total Invalid: 11 || First 3 Indices: [ 246  644 1454]\n",
      "\n",
      "** Dropping invalid splits, Total Count: 55 || Finished: 54 || Started: 1\n"
     ]
    }
   ],
   "source": [
    "df_knn = preprocess_impute_fill(df_ham, missing_indices, knn_imputer, mms, SPLITS_KEYS, drop_invalid_splits=True)"
   ]
  },
  {
   "cell_type": "code",
   "execution_count": 8,
   "metadata": {},
   "outputs": [
    {
     "name": "stdout",
     "output_type": "stream",
     "text": [
      "--------------------------------------------------\n",
      "--------------------------------------------------\n",
      "Invalid split time diff: k_15_time (non-cumulative) < (k_15_time - k_10_time - 5) OR k_15_time (non-cumulative) > (k_15_time - k_10_time + 5)\n",
      "Total Invalid: 6 || First 3 Indices: [ 457 2003 7082]\n",
      "--------------------------------------------------\n",
      "Invalid split time diff: k_20_time (non-cumulative) < (k_20_time - k_15_time - 5) OR k_20_time (non-cumulative) > (k_20_time - k_15_time + 5)\n",
      "Total Invalid: 1 || First 3 Indices: [849]\n",
      "--------------------------------------------------\n",
      "Invalid split time diff: k_half_time (non-cumulative) < (k_half_time - k_20_time - 5) OR k_half_time (non-cumulative) > (k_half_time - k_20_time + 5)\n",
      "Total Invalid: 10 || First 3 Indices: [  36  880 1616]\n",
      "--------------------------------------------------\n",
      "Invalid split time diff: k_25_time (non-cumulative) < (k_25_time - k_half_time - 5) OR k_25_time (non-cumulative) > (k_25_time - k_half_time + 5)\n",
      "Total Invalid: 1 || First 3 Indices: [6687]\n",
      "--------------------------------------------------\n",
      "Invalid split time diff: k_30_time (non-cumulative) < (k_30_time - k_25_time - 5) OR k_30_time (non-cumulative) > (k_30_time - k_25_time + 5)\n",
      "Total Invalid: 6 || First 3 Indices: [ 849 2537 5236]\n",
      "--------------------------------------------------\n",
      "Invalid split time diff: k_35_time (non-cumulative) < (k_35_time - k_30_time - 5) OR k_35_time (non-cumulative) > (k_35_time - k_30_time + 5)\n",
      "Total Invalid: 5 || First 3 Indices: [1071 2073 2628]\n",
      "--------------------------------------------------\n",
      "Invalid split time diff: k_40_time (non-cumulative) < (k_40_time - k_35_time - 5) OR k_40_time (non-cumulative) > (k_40_time - k_35_time + 5)\n",
      "Total Invalid: 15 || First 3 Indices: [145 187 560]\n",
      "Invalid split time: k_35_time > k_40_time\n",
      "Total Invalid: 3 || First 3 Indices: [  145   187 11212]\n",
      "--------------------------------------------------\n",
      "Invalid split time diff: k_finish_time (non-cumulative) < (k_finish_time - k_40_time - 5) OR k_finish_time (non-cumulative) > (k_finish_time - k_40_time + 5)\n",
      "Total Invalid: 19 || First 3 Indices: [ 246  644 1454]\n",
      "Invalid split time: k_40_time > k_finish_time\n",
      "Total Invalid: 9 || First 3 Indices: [ 246  644 1454]\n",
      "\n",
      "** Dropping invalid splits, Total Count: 58 || Finished: 57 || Started: 1\n"
     ]
    },
    {
     "name": "stderr",
     "output_type": "stream",
     "text": [
      "/Users/sika/miniforge3/envs/ML_mac_23/lib/python3.10/site-packages/sklearn/impute/_iterative.py:785: ConvergenceWarning: [IterativeImputer] Early stopping criterion not reached.\n",
      "  warnings.warn(\n"
     ]
    }
   ],
   "source": [
    "df_iter = preprocess_impute_fill(df_ham, missing_indices, iter_imputer, mms, SPLITS_KEYS, drop_invalid_splits=True)"
   ]
  },
  {
   "cell_type": "code",
   "execution_count": 9,
   "metadata": {},
   "outputs": [],
   "source": [
    "save_df(df_knn, ham_file_knn_imp_path)\n",
    "save_df(df_iter, ham_file_iter_imp_path)"
   ]
  },
  {
   "cell_type": "code",
   "execution_count": 10,
   "metadata": {},
   "outputs": [],
   "source": [
    "del ham_file_raw_path, ham_file_cln_path, ham_file_knn_imp_path, ham_file_iter_imp_path, df_ham, df_knn, df_iter"
   ]
  },
  {
   "attachments": {},
   "cell_type": "markdown",
   "metadata": {},
   "source": [
    "### 2014"
   ]
  },
  {
   "cell_type": "code",
   "execution_count": 11,
   "metadata": {},
   "outputs": [],
   "source": [
    "ham_file_raw_path = f\"{HAM_RAW_PATH}/{HAM}{YEAR_14}/{HAM}{YEAR_14}_full.csv\"\n",
    "ham_file_cln_path = f\"{HAM_CLN_PATH}/{HAM}{YEAR_14}/{HAM}{YEAR_14}_clean.csv\"\n",
    "ham_file_knn_imp_path = f\"{HAM_IMP_PATH}/{HAM}{YEAR_14}/{HAM}{YEAR_14}_knn_impute.csv\"\n",
    "ham_file_iter_imp_path = f\"{HAM_IMP_PATH}/{HAM}{YEAR_14}/{HAM}{YEAR_14}_iter_impute.csv\""
   ]
  },
  {
   "attachments": {},
   "cell_type": "markdown",
   "metadata": {},
   "source": [
    "#### Cleaning"
   ]
  },
  {
   "cell_type": "code",
   "execution_count": 9,
   "metadata": {},
   "outputs": [
    {
     "name": "stdout",
     "output_type": "stream",
     "text": [
      "** Removing Runners That did not start:\n",
      "Original rows count: 16695 || New rows count: 13296 || Dropped Rows: 3399\n",
      "** Dropping rows with null values in `age_cat` and `gender` columns:\n",
      "Original rows count: 13296 || New rows count: 13295 || Dropped rows based on   age_cat  : 1\n",
      "Original rows count: 13295 || New rows count: 13295 || Dropped rows based on    gender  : 0\n",
      "** Dropping rows with splits that only contain time: Finished: 13 || Started: 0\n",
      "** File has been saved in: `Marathons_Data/Clean/Hamburg/Hamburg2014/Hamburg2014_clean.csv`\n"
     ]
    }
   ],
   "source": [
    "df_ham = pd.read_csv(ham_file_raw_path)\n",
    "# Cleaning The DataFrame\n",
    "df_ham = hamburg_cleaner(df_ham, SPLITS_KEYS, HAM_COLS_TO_DROP, SPLIT_NAME_DICT, COLS_ORDER)\n",
    "# Check if the DataFrame is valid before saving it.\n",
    "if valid_df(df_ham):\n",
    "    save_df(df_ham, ham_file_cln_path)\n",
    "    print(f\"** File has been saved in: `{ham_file_cln_path}`\")"
   ]
  },
  {
   "attachments": {},
   "cell_type": "markdown",
   "metadata": {},
   "source": [
    "#### Imputation"
   ]
  },
  {
   "cell_type": "code",
   "execution_count": 12,
   "metadata": {},
   "outputs": [],
   "source": [
    "df_ham = pd.read_csv(ham_file_cln_path, dtype=DTYPE_DICT)\n",
    "missing_indices = get_indices_of_rows_missing_data(df_ham, SPLITS_KEYS)"
   ]
  },
  {
   "cell_type": "code",
   "execution_count": 13,
   "metadata": {},
   "outputs": [
    {
     "name": "stdout",
     "output_type": "stream",
     "text": [
      "--------------------------------------------------\n",
      "--------------------------------------------------\n",
      "--------------------------------------------------\n",
      "Invalid split time diff: k_20_time (non-cumulative) < (k_20_time - k_15_time - 5) OR k_20_time (non-cumulative) > (k_20_time - k_15_time + 5)\n",
      "Total Invalid: 1 || First 3 Indices: [3212]\n",
      "--------------------------------------------------\n",
      "Invalid split time diff: k_half_time (non-cumulative) < (k_half_time - k_20_time - 5) OR k_half_time (non-cumulative) > (k_half_time - k_20_time + 5)\n",
      "Total Invalid: 1 || First 3 Indices: [1022]\n",
      "--------------------------------------------------\n",
      "Invalid split time diff: k_25_time (non-cumulative) < (k_25_time - k_half_time - 5) OR k_25_time (non-cumulative) > (k_25_time - k_half_time + 5)\n",
      "Total Invalid: 1 || First 3 Indices: [474]\n",
      "--------------------------------------------------\n",
      "Invalid split time diff: k_30_time (non-cumulative) < (k_30_time - k_25_time - 5) OR k_30_time (non-cumulative) > (k_30_time - k_25_time + 5)\n",
      "Total Invalid: 2 || First 3 Indices: [ 6173 13159]\n",
      "--------------------------------------------------\n",
      "Invalid split time diff: k_35_time (non-cumulative) < (k_35_time - k_30_time - 5) OR k_35_time (non-cumulative) > (k_35_time - k_30_time + 5)\n",
      "Total Invalid: 6 || First 3 Indices: [1676 2385 3457]\n",
      "Invalid split time: k_30_time > k_35_time\n",
      "Total Invalid: 1 || First 3 Indices: [3457]\n",
      "--------------------------------------------------\n",
      "Invalid split time diff: k_40_time (non-cumulative) < (k_40_time - k_35_time - 5) OR k_40_time (non-cumulative) > (k_40_time - k_35_time + 5)\n",
      "Total Invalid: 14 || First 3 Indices: [1082 2225 2479]\n",
      "--------------------------------------------------\n",
      "Invalid split time diff: k_finish_time (non-cumulative) < (k_finish_time - k_40_time - 5) OR k_finish_time (non-cumulative) > (k_finish_time - k_40_time + 5)\n",
      "Total Invalid: 12 || First 3 Indices: [1091 1364 2046]\n",
      "Invalid split time: k_40_time > k_finish_time\n",
      "Total Invalid: 7 || First 3 Indices: [1364 2274 2994]\n",
      "\n",
      "** Dropping invalid splits, Total Count: 36 || Finished: 34 || Started: 2\n"
     ]
    }
   ],
   "source": [
    "df_knn = preprocess_impute_fill(df_ham, missing_indices, knn_imputer, mms, SPLITS_KEYS, drop_invalid_splits=True)"
   ]
  },
  {
   "cell_type": "code",
   "execution_count": 14,
   "metadata": {},
   "outputs": [
    {
     "name": "stdout",
     "output_type": "stream",
     "text": [
      "--------------------------------------------------\n",
      "--------------------------------------------------\n",
      "--------------------------------------------------\n",
      "Invalid split time diff: k_20_time (non-cumulative) < (k_20_time - k_15_time - 5) OR k_20_time (non-cumulative) > (k_20_time - k_15_time + 5)\n",
      "Total Invalid: 1 || First 3 Indices: [3212]\n",
      "--------------------------------------------------\n",
      "Invalid split time diff: k_half_time (non-cumulative) < (k_half_time - k_20_time - 5) OR k_half_time (non-cumulative) > (k_half_time - k_20_time + 5)\n",
      "Total Invalid: 1 || First 3 Indices: [1022]\n",
      "--------------------------------------------------\n",
      "Invalid split time diff: k_25_time (non-cumulative) < (k_25_time - k_half_time - 5) OR k_25_time (non-cumulative) > (k_25_time - k_half_time + 5)\n",
      "Total Invalid: 1 || First 3 Indices: [474]\n",
      "--------------------------------------------------\n",
      "Invalid split time diff: k_30_time (non-cumulative) < (k_30_time - k_25_time - 5) OR k_30_time (non-cumulative) > (k_30_time - k_25_time + 5)\n",
      "Total Invalid: 2 || First 3 Indices: [ 6173 13159]\n",
      "--------------------------------------------------\n",
      "Invalid split time diff: k_35_time (non-cumulative) < (k_35_time - k_30_time - 5) OR k_35_time (non-cumulative) > (k_35_time - k_30_time + 5)\n",
      "Total Invalid: 6 || First 3 Indices: [1676 2385 3457]\n",
      "--------------------------------------------------\n",
      "Invalid split time diff: k_40_time (non-cumulative) < (k_40_time - k_35_time - 5) OR k_40_time (non-cumulative) > (k_40_time - k_35_time + 5)\n",
      "Total Invalid: 14 || First 3 Indices: [1082 2225 2479]\n",
      "--------------------------------------------------\n",
      "Invalid split time diff: k_finish_time (non-cumulative) < (k_finish_time - k_40_time - 5) OR k_finish_time (non-cumulative) > (k_finish_time - k_40_time + 5)\n",
      "Total Invalid: 12 || First 3 Indices: [1091 1364 2046]\n",
      "Invalid split time: k_40_time > k_finish_time\n",
      "Total Invalid: 6 || First 3 Indices: [1364 2274 2994]\n",
      "\n",
      "** Dropping invalid splits, Total Count: 36 || Finished: 34 || Started: 2\n"
     ]
    },
    {
     "name": "stderr",
     "output_type": "stream",
     "text": [
      "/Users/sika/miniforge3/envs/ML_mac_23/lib/python3.10/site-packages/sklearn/impute/_iterative.py:785: ConvergenceWarning: [IterativeImputer] Early stopping criterion not reached.\n",
      "  warnings.warn(\n"
     ]
    }
   ],
   "source": [
    "df_iter = preprocess_impute_fill(df_ham, missing_indices, iter_imputer, mms, SPLITS_KEYS, drop_invalid_splits=True)"
   ]
  },
  {
   "cell_type": "code",
   "execution_count": 15,
   "metadata": {},
   "outputs": [],
   "source": [
    "save_df(df_knn, ham_file_knn_imp_path)\n",
    "save_df(df_iter, ham_file_iter_imp_path)"
   ]
  },
  {
   "cell_type": "code",
   "execution_count": 16,
   "metadata": {},
   "outputs": [],
   "source": [
    "del ham_file_raw_path, ham_file_cln_path, ham_file_knn_imp_path, ham_file_iter_imp_path, df_ham, df_knn, df_iter"
   ]
  },
  {
   "attachments": {},
   "cell_type": "markdown",
   "metadata": {},
   "source": [
    "### 2015"
   ]
  },
  {
   "cell_type": "code",
   "execution_count": 21,
   "metadata": {},
   "outputs": [],
   "source": [
    "ham_file_raw_path = f\"{HAM_RAW_PATH}/{HAM}{YEAR_15}/{HAM}{YEAR_15}_full.csv\"\n",
    "ham_file_cln_path = f\"{HAM_CLN_PATH}/{HAM}{YEAR_15}/{HAM}{YEAR_15}_clean.csv\"\n",
    "ham_file_knn_imp_path = f\"{HAM_IMP_PATH}/{HAM}{YEAR_15}/{HAM}{YEAR_15}_knn_impute.csv\"\n",
    "ham_file_iter_imp_path = f\"{HAM_IMP_PATH}/{HAM}{YEAR_15}/{HAM}{YEAR_15}_iter_impute.csv\""
   ]
  },
  {
   "attachments": {},
   "cell_type": "markdown",
   "metadata": {},
   "source": [
    "#### Cleaning"
   ]
  },
  {
   "cell_type": "code",
   "execution_count": 20,
   "metadata": {},
   "outputs": [
    {
     "name": "stdout",
     "output_type": "stream",
     "text": [
      "** Removing Runners That did not start:\n",
      "Original rows count: 19205 || New rows count: 15259 || Dropped Rows: 3946\n",
      "** Dropping rows with null values in `age_cat` and `gender` columns:\n",
      "Original rows count: 15259 || New rows count: 15257 || Dropped rows based on   age_cat  : 2\n",
      "Original rows count: 15257 || New rows count: 15257 || Dropped rows based on    gender  : 0\n",
      "** Dropping rows with splits that only contain time: Finished: 17 || Started: 0\n",
      "** File has been saved in: `Marathons_Data/Clean/Hamburg/Hamburg2015/Hamburg2015_clean.csv`\n"
     ]
    }
   ],
   "source": [
    "df_ham = pd.read_csv(ham_file_raw_path)\n",
    "# Cleaning The DataFrame\n",
    "df_ham = hamburg_cleaner(df_ham, SPLITS_KEYS, HAM_COLS_TO_DROP, SPLIT_NAME_DICT, COLS_ORDER)\n",
    "# Check if the DataFrame is valid before saving it.\n",
    "if valid_df(df_ham):\n",
    "    save_df(df_ham, ham_file_cln_path)\n",
    "    print(f\"** File has been saved in: `{ham_file_cln_path}`\")"
   ]
  },
  {
   "attachments": {},
   "cell_type": "markdown",
   "metadata": {},
   "source": [
    "#### Imputation"
   ]
  },
  {
   "cell_type": "code",
   "execution_count": 22,
   "metadata": {},
   "outputs": [],
   "source": [
    "df_ham = pd.read_csv(ham_file_cln_path, dtype=DTYPE_DICT)\n",
    "missing_indices = get_indices_of_rows_missing_data(df_ham, SPLITS_KEYS)"
   ]
  },
  {
   "cell_type": "code",
   "execution_count": 23,
   "metadata": {},
   "outputs": [
    {
     "name": "stdout",
     "output_type": "stream",
     "text": [
      "--------------------------------------------------\n",
      "--------------------------------------------------\n",
      "Invalid split time diff: k_15_time (non-cumulative) < (k_15_time - k_10_time - 5) OR k_15_time (non-cumulative) > (k_15_time - k_10_time + 5)\n",
      "Total Invalid: 3 || First 3 Indices: [ 1354  3836 15119]\n",
      "--------------------------------------------------\n",
      "Invalid split time diff: k_20_time (non-cumulative) < (k_20_time - k_15_time - 5) OR k_20_time (non-cumulative) > (k_20_time - k_15_time + 5)\n",
      "Total Invalid: 21 || First 3 Indices: [185 545 595]\n",
      "--------------------------------------------------\n",
      "Invalid split time diff: k_half_time (non-cumulative) < (k_half_time - k_20_time - 5) OR k_half_time (non-cumulative) > (k_half_time - k_20_time + 5)\n",
      "Total Invalid: 2 || First 3 Indices: [2265 3278]\n",
      "--------------------------------------------------\n",
      "Invalid split time diff: k_25_time (non-cumulative) < (k_25_time - k_half_time - 5) OR k_25_time (non-cumulative) > (k_25_time - k_half_time + 5)\n",
      "Total Invalid: 1 || First 3 Indices: [12146]\n",
      "--------------------------------------------------\n",
      "Invalid split time diff: k_30_time (non-cumulative) < (k_30_time - k_25_time - 5) OR k_30_time (non-cumulative) > (k_30_time - k_25_time + 5)\n",
      "Total Invalid: 5 || First 3 Indices: [1094 1728 2131]\n",
      "Invalid split time: k_25_time > k_30_time\n",
      "Total Invalid: 1 || First 3 Indices: [8072]\n",
      "--------------------------------------------------\n",
      "Invalid split time diff: k_35_time (non-cumulative) < (k_35_time - k_30_time - 5) OR k_35_time (non-cumulative) > (k_35_time - k_30_time + 5)\n",
      "Total Invalid: 4 || First 3 Indices: [ 411 1187 1427]\n",
      "--------------------------------------------------\n",
      "Invalid split time diff: k_40_time (non-cumulative) < (k_40_time - k_35_time - 5) OR k_40_time (non-cumulative) > (k_40_time - k_35_time + 5)\n",
      "Total Invalid: 18 || First 3 Indices: [ 351 1015 1094]\n",
      "Invalid split time: k_35_time > k_40_time\n",
      "Total Invalid: 8 || First 3 Indices: [2834 3502 3761]\n",
      "--------------------------------------------------\n",
      "Invalid split time diff: k_finish_time (non-cumulative) < (k_finish_time - k_40_time - 5) OR k_finish_time (non-cumulative) > (k_finish_time - k_40_time + 5)\n",
      "Total Invalid: 17 || First 3 Indices: [1050 1250 1280]\n",
      "Invalid split time: k_40_time > k_finish_time\n",
      "Total Invalid: 12 || First 3 Indices: [1050 1250 1280]\n",
      "\n",
      "** Dropping invalid splits, Total Count: 70 || Finished: 67 || Started: 3\n"
     ]
    }
   ],
   "source": [
    "df_knn = preprocess_impute_fill(df_ham, missing_indices, knn_imputer, mms, SPLITS_KEYS, drop_invalid_splits=True)"
   ]
  },
  {
   "cell_type": "code",
   "execution_count": 24,
   "metadata": {},
   "outputs": [
    {
     "name": "stdout",
     "output_type": "stream",
     "text": [
      "--------------------------------------------------\n",
      "--------------------------------------------------\n",
      "Invalid split time diff: k_15_time (non-cumulative) < (k_15_time - k_10_time - 5) OR k_15_time (non-cumulative) > (k_15_time - k_10_time + 5)\n",
      "Total Invalid: 3 || First 3 Indices: [ 1354  3836 15119]\n",
      "--------------------------------------------------\n",
      "Invalid split time diff: k_20_time (non-cumulative) < (k_20_time - k_15_time - 5) OR k_20_time (non-cumulative) > (k_20_time - k_15_time + 5)\n",
      "Total Invalid: 22 || First 3 Indices: [185 545 595]\n",
      "--------------------------------------------------\n",
      "Invalid split time diff: k_half_time (non-cumulative) < (k_half_time - k_20_time - 5) OR k_half_time (non-cumulative) > (k_half_time - k_20_time + 5)\n",
      "Total Invalid: 2 || First 3 Indices: [2265 3278]\n",
      "--------------------------------------------------\n",
      "Invalid split time diff: k_25_time (non-cumulative) < (k_25_time - k_half_time - 5) OR k_25_time (non-cumulative) > (k_25_time - k_half_time + 5)\n",
      "Total Invalid: 1 || First 3 Indices: [12146]\n",
      "--------------------------------------------------\n",
      "Invalid split time diff: k_30_time (non-cumulative) < (k_30_time - k_25_time - 5) OR k_30_time (non-cumulative) > (k_30_time - k_25_time + 5)\n",
      "Total Invalid: 5 || First 3 Indices: [1094 1728 2131]\n",
      "Invalid split time: k_25_time > k_30_time\n",
      "Total Invalid: 1 || First 3 Indices: [8072]\n",
      "--------------------------------------------------\n",
      "Invalid split time diff: k_35_time (non-cumulative) < (k_35_time - k_30_time - 5) OR k_35_time (non-cumulative) > (k_35_time - k_30_time + 5)\n",
      "Total Invalid: 4 || First 3 Indices: [ 411 1187 1427]\n",
      "--------------------------------------------------\n",
      "Invalid split time diff: k_40_time (non-cumulative) < (k_40_time - k_35_time - 5) OR k_40_time (non-cumulative) > (k_40_time - k_35_time + 5)\n",
      "Total Invalid: 18 || First 3 Indices: [ 351 1015 1094]\n",
      "Invalid split time: k_35_time > k_40_time\n",
      "Total Invalid: 7 || First 3 Indices: [2834 3502 3761]\n",
      "--------------------------------------------------\n",
      "Invalid split time diff: k_finish_time (non-cumulative) < (k_finish_time - k_40_time - 5) OR k_finish_time (non-cumulative) > (k_finish_time - k_40_time + 5)\n",
      "Total Invalid: 17 || First 3 Indices: [1050 1250 1280]\n",
      "Invalid split time: k_40_time > k_finish_time\n",
      "Total Invalid: 10 || First 3 Indices: [1050 1250 1280]\n",
      "\n",
      "** Dropping invalid splits, Total Count: 71 || Finished: 68 || Started: 3\n"
     ]
    },
    {
     "name": "stderr",
     "output_type": "stream",
     "text": [
      "/Users/sika/miniforge3/envs/ML_mac_23/lib/python3.10/site-packages/sklearn/impute/_iterative.py:785: ConvergenceWarning: [IterativeImputer] Early stopping criterion not reached.\n",
      "  warnings.warn(\n"
     ]
    }
   ],
   "source": [
    "df_iter = preprocess_impute_fill(df_ham, missing_indices, iter_imputer, mms, SPLITS_KEYS, drop_invalid_splits=True)"
   ]
  },
  {
   "cell_type": "code",
   "execution_count": 25,
   "metadata": {},
   "outputs": [],
   "source": [
    "save_df(df_knn, ham_file_knn_imp_path)\n",
    "save_df(df_iter, ham_file_iter_imp_path)"
   ]
  },
  {
   "cell_type": "code",
   "execution_count": 26,
   "metadata": {},
   "outputs": [],
   "source": [
    "del ham_file_raw_path, ham_file_cln_path, ham_file_knn_imp_path, ham_file_iter_imp_path, df_ham, df_knn, df_iter"
   ]
  },
  {
   "attachments": {},
   "cell_type": "markdown",
   "metadata": {},
   "source": [
    "### 2016"
   ]
  },
  {
   "cell_type": "code",
   "execution_count": 27,
   "metadata": {},
   "outputs": [],
   "source": [
    "ham_file_raw_path = f\"{HAM_RAW_PATH}/{HAM}{YEAR_16}/{HAM}{YEAR_16}_full.csv\"\n",
    "ham_file_cln_path = f\"{HAM_CLN_PATH}/{HAM}{YEAR_16}/{HAM}{YEAR_16}_clean.csv\"\n",
    "ham_file_knn_imp_path = f\"{HAM_IMP_PATH}/{HAM}{YEAR_16}/{HAM}{YEAR_16}_knn_impute.csv\"\n",
    "ham_file_iter_imp_path = f\"{HAM_IMP_PATH}/{HAM}{YEAR_16}/{HAM}{YEAR_16}_iter_impute.csv\""
   ]
  },
  {
   "attachments": {},
   "cell_type": "markdown",
   "metadata": {},
   "source": [
    "#### Cleaning"
   ]
  },
  {
   "cell_type": "code",
   "execution_count": 15,
   "metadata": {},
   "outputs": [
    {
     "name": "stdout",
     "output_type": "stream",
     "text": [
      "** Removing Runners That did not start:\n",
      "Original rows count: 16011 || New rows count: 12540 || Dropped Rows: 3471\n",
      "** Dropping rows with null values in `age_cat` and `gender` columns:\n",
      "Original rows count: 12540 || New rows count: 12537 || Dropped rows based on   age_cat  : 3\n",
      "Original rows count: 12537 || New rows count: 12537 || Dropped rows based on    gender  : 0\n",
      "** Dropping rows with splits that only contain time: Finished: 5 || Started: 0\n",
      "** File has been saved in: `Marathons_Data/Clean/Hamburg/Hamburg2016/Hamburg2016_clean.csv`\n"
     ]
    }
   ],
   "source": [
    "df_ham = pd.read_csv(ham_file_raw_path)\n",
    "# Cleaning The DataFrame\n",
    "df_ham = hamburg_cleaner(df_ham, SPLITS_KEYS, HAM_COLS_TO_DROP, SPLIT_NAME_DICT, COLS_ORDER)\n",
    "# Check if the DataFrame is valid before saving it.\n",
    "if valid_df(df_ham):\n",
    "    save_df(df_ham, ham_file_cln_path)\n",
    "    print(f\"** File has been saved in: `{ham_file_cln_path}`\")"
   ]
  },
  {
   "attachments": {},
   "cell_type": "markdown",
   "metadata": {},
   "source": [
    "#### Imputation"
   ]
  },
  {
   "cell_type": "code",
   "execution_count": 28,
   "metadata": {},
   "outputs": [],
   "source": [
    "df_ham = pd.read_csv(ham_file_cln_path, dtype=DTYPE_DICT)\n",
    "missing_indices = get_indices_of_rows_missing_data(df_ham, SPLITS_KEYS)"
   ]
  },
  {
   "cell_type": "code",
   "execution_count": 29,
   "metadata": {},
   "outputs": [
    {
     "name": "stdout",
     "output_type": "stream",
     "text": [
      "--------------------------------------------------\n",
      "--------------------------------------------------\n",
      "Invalid split time diff: k_15_time (non-cumulative) < (k_15_time - k_10_time - 5) OR k_15_time (non-cumulative) > (k_15_time - k_10_time + 5)\n",
      "Total Invalid: 12 || First 3 Indices: [  99 2354 2356]\n",
      "--------------------------------------------------\n",
      "Invalid split time diff: k_20_time (non-cumulative) < (k_20_time - k_15_time - 5) OR k_20_time (non-cumulative) > (k_20_time - k_15_time + 5)\n",
      "Total Invalid: 2 || First 3 Indices: [2992 3227]\n",
      "--------------------------------------------------\n",
      "Invalid split time diff: k_half_time (non-cumulative) < (k_half_time - k_20_time - 5) OR k_half_time (non-cumulative) > (k_half_time - k_20_time + 5)\n",
      "Total Invalid: 1 || First 3 Indices: [3719]\n",
      "--------------------------------------------------\n",
      "Invalid split time diff: k_25_time (non-cumulative) < (k_25_time - k_half_time - 5) OR k_25_time (non-cumulative) > (k_25_time - k_half_time + 5)\n",
      "Total Invalid: 1 || First 3 Indices: [11482]\n",
      "--------------------------------------------------\n",
      "Invalid split time diff: k_30_time (non-cumulative) < (k_30_time - k_25_time - 5) OR k_30_time (non-cumulative) > (k_30_time - k_25_time + 5)\n",
      "Total Invalid: 2 || First 3 Indices: [10873 11995]\n",
      "--------------------------------------------------\n",
      "Invalid split time diff: k_35_time (non-cumulative) < (k_35_time - k_30_time - 5) OR k_35_time (non-cumulative) > (k_35_time - k_30_time + 5)\n",
      "Total Invalid: 5 || First 3 Indices: [3227 4314 5787]\n",
      "--------------------------------------------------\n",
      "Invalid split time diff: k_40_time (non-cumulative) < (k_40_time - k_35_time - 5) OR k_40_time (non-cumulative) > (k_40_time - k_35_time + 5)\n",
      "Total Invalid: 13 || First 3 Indices: [ 570  676 2992]\n",
      "Invalid split time: k_35_time > k_40_time\n",
      "Total Invalid: 3 || First 3 Indices: [ 570  676 3921]\n",
      "--------------------------------------------------\n",
      "Invalid split time diff: k_finish_time (non-cumulative) < (k_finish_time - k_40_time - 5) OR k_finish_time (non-cumulative) > (k_finish_time - k_40_time + 5)\n",
      "Total Invalid: 14 || First 3 Indices: [2599 2616 4609]\n",
      "Invalid split time: k_40_time > k_finish_time\n",
      "Total Invalid: 3 || First 3 Indices: [5804 6908 8171]\n",
      "\n",
      "** Dropping invalid splits, Total Count: 48 || Finished: 43 || Started: 5\n"
     ]
    }
   ],
   "source": [
    "df_knn = preprocess_impute_fill(df_ham, missing_indices, knn_imputer, mms, SPLITS_KEYS, drop_invalid_splits=True)"
   ]
  },
  {
   "cell_type": "code",
   "execution_count": 30,
   "metadata": {},
   "outputs": [
    {
     "name": "stdout",
     "output_type": "stream",
     "text": [
      "--------------------------------------------------\n",
      "--------------------------------------------------\n",
      "Invalid split time diff: k_15_time (non-cumulative) < (k_15_time - k_10_time - 5) OR k_15_time (non-cumulative) > (k_15_time - k_10_time + 5)\n",
      "Total Invalid: 12 || First 3 Indices: [  99 2354 2356]\n",
      "--------------------------------------------------\n",
      "Invalid split time diff: k_20_time (non-cumulative) < (k_20_time - k_15_time - 5) OR k_20_time (non-cumulative) > (k_20_time - k_15_time + 5)\n",
      "Total Invalid: 2 || First 3 Indices: [2992 3227]\n",
      "--------------------------------------------------\n",
      "Invalid split time diff: k_half_time (non-cumulative) < (k_half_time - k_20_time - 5) OR k_half_time (non-cumulative) > (k_half_time - k_20_time + 5)\n",
      "Total Invalid: 1 || First 3 Indices: [3719]\n",
      "--------------------------------------------------\n",
      "Invalid split time diff: k_25_time (non-cumulative) < (k_25_time - k_half_time - 5) OR k_25_time (non-cumulative) > (k_25_time - k_half_time + 5)\n",
      "Total Invalid: 2 || First 3 Indices: [10233 11482]\n",
      "--------------------------------------------------\n",
      "Invalid split time diff: k_30_time (non-cumulative) < (k_30_time - k_25_time - 5) OR k_30_time (non-cumulative) > (k_30_time - k_25_time + 5)\n",
      "Total Invalid: 2 || First 3 Indices: [10873 11995]\n",
      "--------------------------------------------------\n",
      "Invalid split time diff: k_35_time (non-cumulative) < (k_35_time - k_30_time - 5) OR k_35_time (non-cumulative) > (k_35_time - k_30_time + 5)\n",
      "Total Invalid: 7 || First 3 Indices: [3227 3705 4250]\n",
      "--------------------------------------------------\n",
      "Invalid split time diff: k_40_time (non-cumulative) < (k_40_time - k_35_time - 5) OR k_40_time (non-cumulative) > (k_40_time - k_35_time + 5)\n",
      "Total Invalid: 13 || First 3 Indices: [ 570  676 2992]\n",
      "Invalid split time: k_35_time > k_40_time\n",
      "Total Invalid: 2 || First 3 Indices: [ 570 3921]\n",
      "--------------------------------------------------\n",
      "Invalid split time diff: k_finish_time (non-cumulative) < (k_finish_time - k_40_time - 5) OR k_finish_time (non-cumulative) > (k_finish_time - k_40_time + 5)\n",
      "Total Invalid: 14 || First 3 Indices: [2599 2616 5804]\n",
      "Invalid split time: k_40_time > k_finish_time\n",
      "Total Invalid: 3 || First 3 Indices: [5804 6908 8171]\n",
      "\n",
      "** Dropping invalid splits, Total Count: 51 || Finished: 46 || Started: 5\n"
     ]
    },
    {
     "name": "stderr",
     "output_type": "stream",
     "text": [
      "/Users/sika/miniforge3/envs/ML_mac_23/lib/python3.10/site-packages/sklearn/impute/_iterative.py:785: ConvergenceWarning: [IterativeImputer] Early stopping criterion not reached.\n",
      "  warnings.warn(\n"
     ]
    }
   ],
   "source": [
    "df_iter = preprocess_impute_fill(df_ham, missing_indices, iter_imputer, mms, SPLITS_KEYS, drop_invalid_splits=True)"
   ]
  },
  {
   "cell_type": "code",
   "execution_count": 31,
   "metadata": {},
   "outputs": [],
   "source": [
    "save_df(df_knn, ham_file_knn_imp_path)\n",
    "save_df(df_iter, ham_file_iter_imp_path)"
   ]
  },
  {
   "cell_type": "code",
   "execution_count": 32,
   "metadata": {},
   "outputs": [],
   "source": [
    "del ham_file_raw_path, ham_file_cln_path, ham_file_knn_imp_path, ham_file_iter_imp_path, df_ham, df_knn, df_iter"
   ]
  },
  {
   "attachments": {},
   "cell_type": "markdown",
   "metadata": {},
   "source": [
    "### 2017"
   ]
  },
  {
   "cell_type": "code",
   "execution_count": 33,
   "metadata": {},
   "outputs": [],
   "source": [
    "ham_file_raw_path = f\"{HAM_RAW_PATH}/{HAM}{YEAR_17}/{HAM}{YEAR_17}_full.csv\"\n",
    "ham_file_cln_path = f\"{HAM_CLN_PATH}/{HAM}{YEAR_17}/{HAM}{YEAR_17}_clean.csv\"\n",
    "ham_file_knn_imp_path = f\"{HAM_IMP_PATH}/{HAM}{YEAR_17}/{HAM}{YEAR_17}_knn_impute.csv\"\n",
    "ham_file_iter_imp_path = f\"{HAM_IMP_PATH}/{HAM}{YEAR_17}/{HAM}{YEAR_17}_iter_impute.csv\""
   ]
  },
  {
   "attachments": {},
   "cell_type": "markdown",
   "metadata": {},
   "source": [
    "#### Cleaning"
   ]
  },
  {
   "cell_type": "code",
   "execution_count": 34,
   "metadata": {},
   "outputs": [
    {
     "name": "stdout",
     "output_type": "stream",
     "text": [
      "** Removing Runners That did not start:\n",
      "Original rows count: 15638 || New rows count: 12396 || Dropped Rows: 3242\n",
      "** Dropping rows with null values in `age_cat` and `gender` columns:\n",
      "Original rows count: 12396 || New rows count: 12391 || Dropped rows based on   age_cat  : 5\n",
      "Original rows count: 12391 || New rows count: 12391 || Dropped rows based on    gender  : 0\n",
      "** Dropping rows with splits that only contain time: Finished: 15 || Started: 3\n",
      "** File has been saved in: `Marathons_Data/Clean/Hamburg/Hamburg2017/Hamburg2017_clean.csv`\n"
     ]
    }
   ],
   "source": [
    "df_ham = pd.read_csv(ham_file_raw_path)\n",
    "# Cleaning The DataFrame\n",
    "df_ham = hamburg_cleaner(df_ham, SPLITS_KEYS, HAM_COLS_TO_DROP, SPLIT_NAME_DICT, COLS_ORDER)\n",
    "# Check if the DataFrame is valid before saving it.\n",
    "if valid_df(df_ham):\n",
    "    save_df(df_ham, ham_file_cln_path)\n",
    "    print(f\"** File has been saved in: `{ham_file_cln_path}`\")"
   ]
  },
  {
   "attachments": {},
   "cell_type": "markdown",
   "metadata": {},
   "source": [
    "#### Imputation"
   ]
  },
  {
   "cell_type": "code",
   "execution_count": 35,
   "metadata": {},
   "outputs": [],
   "source": [
    "df_ham = pd.read_csv(ham_file_cln_path, dtype=DTYPE_DICT)\n",
    "missing_indices = get_indices_of_rows_missing_data(df_ham, SPLITS_KEYS)"
   ]
  },
  {
   "cell_type": "code",
   "execution_count": 36,
   "metadata": {},
   "outputs": [
    {
     "name": "stdout",
     "output_type": "stream",
     "text": [
      "--------------------------------------------------\n",
      "--------------------------------------------------\n",
      "Invalid split time diff: k_15_time (non-cumulative) < (k_15_time - k_10_time - 5) OR k_15_time (non-cumulative) > (k_15_time - k_10_time + 5)\n",
      "Total Invalid: 4 || First 3 Indices: [2798 3245 7629]\n",
      "--------------------------------------------------\n",
      "Invalid split time diff: k_20_time (non-cumulative) < (k_20_time - k_15_time - 5) OR k_20_time (non-cumulative) > (k_20_time - k_15_time + 5)\n",
      "Total Invalid: 3 || First 3 Indices: [ 620 2131 3884]\n",
      "--------------------------------------------------\n",
      "Invalid split time diff: k_half_time (non-cumulative) < (k_half_time - k_20_time - 5) OR k_half_time (non-cumulative) > (k_half_time - k_20_time + 5)\n",
      "Total Invalid: 2 || First 3 Indices: [ 295 7629]\n",
      "--------------------------------------------------\n",
      "Invalid split time diff: k_25_time (non-cumulative) < (k_25_time - k_half_time - 5) OR k_25_time (non-cumulative) > (k_25_time - k_half_time + 5)\n",
      "Total Invalid: 1 || First 3 Indices: [9984]\n",
      "--------------------------------------------------\n",
      "Invalid split time diff: k_30_time (non-cumulative) < (k_30_time - k_25_time - 5) OR k_30_time (non-cumulative) > (k_30_time - k_25_time + 5)\n",
      "Total Invalid: 4 || First 3 Indices: [ 620 1433 1647]\n",
      "--------------------------------------------------\n",
      "Invalid split time diff: k_35_time (non-cumulative) < (k_35_time - k_30_time - 5) OR k_35_time (non-cumulative) > (k_35_time - k_30_time + 5)\n",
      "Total Invalid: 4 || First 3 Indices: [ 508 3633 5810]\n",
      "--------------------------------------------------\n",
      "Invalid split time diff: k_40_time (non-cumulative) < (k_40_time - k_35_time - 5) OR k_40_time (non-cumulative) > (k_40_time - k_35_time + 5)\n",
      "Total Invalid: 7 || First 3 Indices: [ 492 1433 1654]\n",
      "--------------------------------------------------\n",
      "Invalid split time diff: k_finish_time (non-cumulative) < (k_finish_time - k_40_time - 5) OR k_finish_time (non-cumulative) > (k_finish_time - k_40_time + 5)\n",
      "Total Invalid: 13 || First 3 Indices: [ 764 2231 2313]\n",
      "Invalid split time: k_40_time > k_finish_time\n",
      "Total Invalid: 6 || First 3 Indices: [ 764 4153 5395]\n",
      "\n",
      "** Dropping invalid splits, Total Count: 35 || Finished: 31 || Started: 4\n"
     ]
    }
   ],
   "source": [
    "df_knn = preprocess_impute_fill(df_ham, missing_indices, knn_imputer, mms, SPLITS_KEYS, drop_invalid_splits=True)"
   ]
  },
  {
   "cell_type": "code",
   "execution_count": 37,
   "metadata": {},
   "outputs": [
    {
     "name": "stdout",
     "output_type": "stream",
     "text": [
      "--------------------------------------------------\n",
      "--------------------------------------------------\n",
      "Invalid split time diff: k_15_time (non-cumulative) < (k_15_time - k_10_time - 5) OR k_15_time (non-cumulative) > (k_15_time - k_10_time + 5)\n",
      "Total Invalid: 4 || First 3 Indices: [2798 3245 7629]\n",
      "--------------------------------------------------\n",
      "Invalid split time diff: k_20_time (non-cumulative) < (k_20_time - k_15_time - 5) OR k_20_time (non-cumulative) > (k_20_time - k_15_time + 5)\n",
      "Total Invalid: 3 || First 3 Indices: [ 620 2131 3884]\n",
      "--------------------------------------------------\n",
      "Invalid split time diff: k_half_time (non-cumulative) < (k_half_time - k_20_time - 5) OR k_half_time (non-cumulative) > (k_half_time - k_20_time + 5)\n",
      "Total Invalid: 2 || First 3 Indices: [ 295 7629]\n",
      "--------------------------------------------------\n",
      "Invalid split time diff: k_25_time (non-cumulative) < (k_25_time - k_half_time - 5) OR k_25_time (non-cumulative) > (k_25_time - k_half_time + 5)\n",
      "Total Invalid: 1 || First 3 Indices: [9984]\n",
      "--------------------------------------------------\n",
      "Invalid split time diff: k_30_time (non-cumulative) < (k_30_time - k_25_time - 5) OR k_30_time (non-cumulative) > (k_30_time - k_25_time + 5)\n",
      "Total Invalid: 4 || First 3 Indices: [ 620 1433 1647]\n",
      "--------------------------------------------------\n",
      "Invalid split time diff: k_35_time (non-cumulative) < (k_35_time - k_30_time - 5) OR k_35_time (non-cumulative) > (k_35_time - k_30_time + 5)\n",
      "Total Invalid: 4 || First 3 Indices: [ 508 3633 5810]\n",
      "--------------------------------------------------\n",
      "Invalid split time diff: k_40_time (non-cumulative) < (k_40_time - k_35_time - 5) OR k_40_time (non-cumulative) > (k_40_time - k_35_time + 5)\n",
      "Total Invalid: 7 || First 3 Indices: [ 492 1433 1654]\n",
      "--------------------------------------------------\n",
      "Invalid split time diff: k_finish_time (non-cumulative) < (k_finish_time - k_40_time - 5) OR k_finish_time (non-cumulative) > (k_finish_time - k_40_time + 5)\n",
      "Total Invalid: 13 || First 3 Indices: [ 764 2231 2313]\n",
      "Invalid split time: k_40_time > k_finish_time\n",
      "Total Invalid: 7 || First 3 Indices: [ 764 2231 4153]\n",
      "\n",
      "** Dropping invalid splits, Total Count: 35 || Finished: 31 || Started: 4\n"
     ]
    },
    {
     "name": "stderr",
     "output_type": "stream",
     "text": [
      "/Users/sika/miniforge3/envs/ML_mac_23/lib/python3.10/site-packages/sklearn/impute/_iterative.py:785: ConvergenceWarning: [IterativeImputer] Early stopping criterion not reached.\n",
      "  warnings.warn(\n"
     ]
    }
   ],
   "source": [
    "df_iter = preprocess_impute_fill(df_ham, missing_indices, iter_imputer, mms, SPLITS_KEYS, drop_invalid_splits=True)"
   ]
  },
  {
   "cell_type": "code",
   "execution_count": 38,
   "metadata": {},
   "outputs": [],
   "source": [
    "save_df(df_knn, ham_file_knn_imp_path)\n",
    "save_df(df_iter, ham_file_iter_imp_path)"
   ]
  },
  {
   "cell_type": "code",
   "execution_count": 39,
   "metadata": {},
   "outputs": [],
   "source": [
    "del ham_file_raw_path, ham_file_cln_path, ham_file_knn_imp_path, ham_file_iter_imp_path, df_ham, df_knn, df_iter"
   ]
  },
  {
   "attachments": {},
   "cell_type": "markdown",
   "metadata": {},
   "source": [
    "### 2018"
   ]
  },
  {
   "cell_type": "code",
   "execution_count": 40,
   "metadata": {},
   "outputs": [],
   "source": [
    "ham_file_raw_path = f\"{HAM_RAW_PATH}/{HAM}{YEAR_18}/{HAM}{YEAR_18}_full.csv\"\n",
    "ham_file_cln_path = f\"{HAM_CLN_PATH}/{HAM}{YEAR_18}/{HAM}{YEAR_18}_clean.csv\"\n",
    "ham_file_knn_imp_path = f\"{HAM_IMP_PATH}/{HAM}{YEAR_18}/{HAM}{YEAR_18}_knn_impute.csv\"\n",
    "ham_file_iter_imp_path = f\"{HAM_IMP_PATH}/{HAM}{YEAR_18}/{HAM}{YEAR_18}_iter_impute.csv\""
   ]
  },
  {
   "attachments": {},
   "cell_type": "markdown",
   "metadata": {},
   "source": [
    "#### Cleaning"
   ]
  },
  {
   "cell_type": "code",
   "execution_count": 22,
   "metadata": {},
   "outputs": [
    {
     "name": "stdout",
     "output_type": "stream",
     "text": [
      "** Removing Runners That did not start:\n",
      "Original rows count: 14010 || New rows count: 10670 || Dropped Rows: 3340\n",
      "** Dropping rows with null values in `age_cat` and `gender` columns:\n",
      "Original rows count: 10670 || New rows count: 10668 || Dropped rows based on   age_cat  : 2\n",
      "Original rows count: 10668 || New rows count: 10668 || Dropped rows based on    gender  : 0\n",
      "** Dropping rows with splits that only contain time: Finished: 0 || Started: 0\n",
      "** File has been saved in: `Marathons_Data/Clean/Hamburg/Hamburg2018/Hamburg2018_clean.csv`\n"
     ]
    }
   ],
   "source": [
    "df_ham = pd.read_csv(ham_file_raw_path)\n",
    "# Cleaning The DataFrame\n",
    "df_ham = hamburg_cleaner(df_ham, SPLITS_KEYS, HAM_COLS_TO_DROP, SPLIT_NAME_DICT, COLS_ORDER)\n",
    "# Check if the DataFrame is valid before saving it.\n",
    "if valid_df(df_ham):\n",
    "    save_df(df_ham, ham_file_cln_path)\n",
    "    print(f\"** File has been saved in: `{ham_file_cln_path}`\")"
   ]
  },
  {
   "attachments": {},
   "cell_type": "markdown",
   "metadata": {},
   "source": [
    "#### Imputation"
   ]
  },
  {
   "cell_type": "code",
   "execution_count": 41,
   "metadata": {},
   "outputs": [],
   "source": [
    "df_ham = pd.read_csv(ham_file_cln_path, dtype=DTYPE_DICT)\n",
    "missing_indices = get_indices_of_rows_missing_data(df_ham, SPLITS_KEYS)"
   ]
  },
  {
   "cell_type": "code",
   "execution_count": 42,
   "metadata": {},
   "outputs": [
    {
     "name": "stdout",
     "output_type": "stream",
     "text": [
      "--------------------------------------------------\n",
      "--------------------------------------------------\n",
      "Invalid split time diff: k_15_time (non-cumulative) < (k_15_time - k_10_time - 5) OR k_15_time (non-cumulative) > (k_15_time - k_10_time + 5)\n",
      "Total Invalid: 7 || First 3 Indices: [238 547 874]\n",
      "--------------------------------------------------\n",
      "Invalid split time diff: k_20_time (non-cumulative) < (k_20_time - k_15_time - 5) OR k_20_time (non-cumulative) > (k_20_time - k_15_time + 5)\n",
      "Total Invalid: 6 || First 3 Indices: [1128 1435 2076]\n",
      "--------------------------------------------------\n",
      "Invalid split time diff: k_half_time (non-cumulative) < (k_half_time - k_20_time - 5) OR k_half_time (non-cumulative) > (k_half_time - k_20_time + 5)\n",
      "Total Invalid: 1 || First 3 Indices: [9268]\n",
      "--------------------------------------------------\n",
      "Invalid split time diff: k_25_time (non-cumulative) < (k_25_time - k_half_time - 5) OR k_25_time (non-cumulative) > (k_25_time - k_half_time + 5)\n",
      "Total Invalid: 1 || First 3 Indices: [5812]\n",
      "--------------------------------------------------\n",
      "Invalid split time diff: k_30_time (non-cumulative) < (k_30_time - k_25_time - 5) OR k_30_time (non-cumulative) > (k_30_time - k_25_time + 5)\n",
      "Total Invalid: 4 || First 3 Indices: [ 874 2046 3134]\n",
      "--------------------------------------------------\n",
      "Invalid split time diff: k_35_time (non-cumulative) < (k_35_time - k_30_time - 5) OR k_35_time (non-cumulative) > (k_35_time - k_30_time + 5)\n",
      "Total Invalid: 8 || First 3 Indices: [ 946 3510 6901]\n",
      "--------------------------------------------------\n",
      "Invalid split time diff: k_40_time (non-cumulative) < (k_40_time - k_35_time - 5) OR k_40_time (non-cumulative) > (k_40_time - k_35_time + 5)\n",
      "Total Invalid: 12 || First 3 Indices: [1315 1432 2583]\n",
      "Invalid split time: k_35_time > k_40_time\n",
      "Total Invalid: 3 || First 3 Indices: [2927 3167 5084]\n",
      "--------------------------------------------------\n",
      "Invalid split time diff: k_finish_time (non-cumulative) < (k_finish_time - k_40_time - 5) OR k_finish_time (non-cumulative) > (k_finish_time - k_40_time + 5)\n",
      "Total Invalid: 20 || First 3 Indices: [ 706  997 1717]\n",
      "Invalid split time: k_40_time > k_finish_time\n",
      "Total Invalid: 13 || First 3 Indices: [ 706  997 1717]\n",
      "\n",
      "** Dropping invalid splits, Total Count: 56 || Finished: 53 || Started: 3\n"
     ]
    }
   ],
   "source": [
    "df_knn = preprocess_impute_fill(df_ham, missing_indices, knn_imputer, mms, SPLITS_KEYS, drop_invalid_splits=True)"
   ]
  },
  {
   "cell_type": "code",
   "execution_count": 43,
   "metadata": {},
   "outputs": [
    {
     "name": "stdout",
     "output_type": "stream",
     "text": [
      "--------------------------------------------------\n",
      "--------------------------------------------------\n",
      "Invalid split time diff: k_15_time (non-cumulative) < (k_15_time - k_10_time - 5) OR k_15_time (non-cumulative) > (k_15_time - k_10_time + 5)\n",
      "Total Invalid: 7 || First 3 Indices: [238 547 874]\n",
      "--------------------------------------------------\n",
      "Invalid split time diff: k_20_time (non-cumulative) < (k_20_time - k_15_time - 5) OR k_20_time (non-cumulative) > (k_20_time - k_15_time + 5)\n",
      "Total Invalid: 6 || First 3 Indices: [1128 1435 2076]\n",
      "--------------------------------------------------\n",
      "Invalid split time diff: k_half_time (non-cumulative) < (k_half_time - k_20_time - 5) OR k_half_time (non-cumulative) > (k_half_time - k_20_time + 5)\n",
      "Total Invalid: 1 || First 3 Indices: [9268]\n",
      "--------------------------------------------------\n",
      "--------------------------------------------------\n",
      "Invalid split time diff: k_30_time (non-cumulative) < (k_30_time - k_25_time - 5) OR k_30_time (non-cumulative) > (k_30_time - k_25_time + 5)\n",
      "Total Invalid: 4 || First 3 Indices: [ 874 2046 3134]\n",
      "--------------------------------------------------\n",
      "Invalid split time diff: k_35_time (non-cumulative) < (k_35_time - k_30_time - 5) OR k_35_time (non-cumulative) > (k_35_time - k_30_time + 5)\n",
      "Total Invalid: 8 || First 3 Indices: [ 946 3510 6901]\n",
      "--------------------------------------------------\n",
      "Invalid split time diff: k_40_time (non-cumulative) < (k_40_time - k_35_time - 5) OR k_40_time (non-cumulative) > (k_40_time - k_35_time + 5)\n",
      "Total Invalid: 12 || First 3 Indices: [1315 1432 2583]\n",
      "Invalid split time: k_35_time > k_40_time\n",
      "Total Invalid: 3 || First 3 Indices: [2927 3167 5084]\n",
      "--------------------------------------------------\n",
      "Invalid split time diff: k_finish_time (non-cumulative) < (k_finish_time - k_40_time - 5) OR k_finish_time (non-cumulative) > (k_finish_time - k_40_time + 5)\n",
      "Total Invalid: 20 || First 3 Indices: [ 706  997 1717]\n",
      "Invalid split time: k_40_time > k_finish_time\n",
      "Total Invalid: 12 || First 3 Indices: [ 706  997 1717]\n",
      "\n",
      "** Dropping invalid splits, Total Count: 55 || Finished: 52 || Started: 3\n"
     ]
    },
    {
     "name": "stderr",
     "output_type": "stream",
     "text": [
      "/Users/sika/miniforge3/envs/ML_mac_23/lib/python3.10/site-packages/sklearn/impute/_iterative.py:785: ConvergenceWarning: [IterativeImputer] Early stopping criterion not reached.\n",
      "  warnings.warn(\n"
     ]
    }
   ],
   "source": [
    "df_iter = preprocess_impute_fill(df_ham, missing_indices, iter_imputer, mms, SPLITS_KEYS, drop_invalid_splits=True)"
   ]
  },
  {
   "cell_type": "code",
   "execution_count": 44,
   "metadata": {},
   "outputs": [],
   "source": [
    "save_df(df_knn, ham_file_knn_imp_path)\n",
    "save_df(df_iter, ham_file_iter_imp_path)"
   ]
  },
  {
   "cell_type": "code",
   "execution_count": 45,
   "metadata": {},
   "outputs": [],
   "source": [
    "del ham_file_raw_path, ham_file_cln_path, ham_file_knn_imp_path, ham_file_iter_imp_path, df_ham, df_knn, df_iter"
   ]
  },
  {
   "attachments": {},
   "cell_type": "markdown",
   "metadata": {},
   "source": [
    "### 2019"
   ]
  },
  {
   "cell_type": "code",
   "execution_count": 46,
   "metadata": {},
   "outputs": [],
   "source": [
    "ham_file_raw_path = f\"{HAM_RAW_PATH}/{HAM}{YEAR_19}/{HAM}{YEAR_19}_full.csv\"\n",
    "ham_file_cln_path = f\"{HAM_CLN_PATH}/{HAM}{YEAR_19}/{HAM}{YEAR_19}_clean.csv\"\n",
    "ham_file_knn_imp_path = f\"{HAM_IMP_PATH}/{HAM}{YEAR_19}/{HAM}{YEAR_19}_knn_impute.csv\"\n",
    "ham_file_iter_imp_path = f\"{HAM_IMP_PATH}/{HAM}{YEAR_19}/{HAM}{YEAR_19}_iter_impute.csv\""
   ]
  },
  {
   "attachments": {},
   "cell_type": "markdown",
   "metadata": {},
   "source": [
    "#### Cleaning"
   ]
  },
  {
   "cell_type": "code",
   "execution_count": 9,
   "metadata": {},
   "outputs": [
    {
     "name": "stdout",
     "output_type": "stream",
     "text": [
      "** Removing Runners That did not start:\n",
      "Original rows count: 13498 || New rows count: 10468 || Dropped Rows: 3030\n",
      "** Dropping rows with null values in `age_cat` and `gender` columns:\n",
      "Original rows count: 10468 || New rows count: 10453 || Dropped rows based on   age_cat  : 15\n",
      "Original rows count: 10453 || New rows count: 10453 || Dropped rows based on    gender  : 0\n",
      "** Dropping rows with splits that only contain time: Finished: 0 || Started: 0\n",
      "** File has been saved in: `Marathons_Data/Clean/Hamburg/Hamburg2019/Hamburg2019_clean.csv`\n"
     ]
    }
   ],
   "source": [
    "df_ham = pd.read_csv(ham_file_raw_path)\n",
    "# Cleaning The DataFrame\n",
    "df_ham = hamburg_cleaner(df_ham, SPLITS_KEYS, HAM_COLS_TO_DROP, SPLIT_NAME_DICT, COLS_ORDER)\n",
    "# Check if the DataFrame is valid before saving it.\n",
    "if valid_df(df_ham):\n",
    "    save_df(df_ham, ham_file_cln_path)\n",
    "    print(f\"** File has been saved in: `{ham_file_cln_path}`\")"
   ]
  },
  {
   "attachments": {},
   "cell_type": "markdown",
   "metadata": {},
   "source": [
    "#### Imputation"
   ]
  },
  {
   "cell_type": "code",
   "execution_count": 47,
   "metadata": {},
   "outputs": [],
   "source": [
    "df_ham = pd.read_csv(ham_file_cln_path, dtype=DTYPE_DICT)\n",
    "missing_indices = get_indices_of_rows_missing_data(df_ham, SPLITS_KEYS)"
   ]
  },
  {
   "cell_type": "code",
   "execution_count": 48,
   "metadata": {},
   "outputs": [
    {
     "name": "stdout",
     "output_type": "stream",
     "text": [
      "--------------------------------------------------\n",
      "--------------------------------------------------\n",
      "Invalid split time diff: k_15_time (non-cumulative) < (k_15_time - k_10_time - 5) OR k_15_time (non-cumulative) > (k_15_time - k_10_time + 5)\n",
      "Total Invalid: 24 || First 3 Indices: [ 0 61 77]\n",
      "Invalid split time: k_10_time > k_15_time\n",
      "Total Invalid: 1 || First 3 Indices: [0]\n",
      "--------------------------------------------------\n",
      "Invalid split time diff: k_20_time (non-cumulative) < (k_20_time - k_15_time - 5) OR k_20_time (non-cumulative) > (k_20_time - k_15_time + 5)\n",
      "Total Invalid: 3 || First 3 Indices: [ 166 2768 3028]\n",
      "--------------------------------------------------\n",
      "Invalid split time diff: k_half_time (non-cumulative) < (k_half_time - k_20_time - 5) OR k_half_time (non-cumulative) > (k_half_time - k_20_time + 5)\n",
      "Total Invalid: 32 || First 3 Indices: [255 490 577]\n",
      "Invalid split time: k_20_time > k_half_time\n",
      "Total Invalid: 2 || First 3 Indices: [5684 5685]\n",
      "--------------------------------------------------\n",
      "Invalid split time diff: k_25_time (non-cumulative) < (k_25_time - k_half_time - 5) OR k_25_time (non-cumulative) > (k_25_time - k_half_time + 5)\n",
      "Total Invalid: 4 || First 3 Indices: [ 154 1724 3349]\n",
      "--------------------------------------------------\n",
      "Invalid split time diff: k_30_time (non-cumulative) < (k_30_time - k_25_time - 5) OR k_30_time (non-cumulative) > (k_30_time - k_25_time + 5)\n",
      "Total Invalid: 3 || First 3 Indices: [ 166 1135 3433]\n",
      "--------------------------------------------------\n",
      "Invalid split time diff: k_35_time (non-cumulative) < (k_35_time - k_30_time - 5) OR k_35_time (non-cumulative) > (k_35_time - k_30_time + 5)\n",
      "Total Invalid: 10 || First 3 Indices: [1578 2212 3079]\n",
      "Invalid split time: k_30_time > k_35_time\n",
      "Total Invalid: 1 || First 3 Indices: [2212]\n",
      "--------------------------------------------------\n",
      "Invalid split time diff: k_40_time (non-cumulative) < (k_40_time - k_35_time - 5) OR k_40_time (non-cumulative) > (k_40_time - k_35_time + 5)\n",
      "Total Invalid: 4 || First 3 Indices: [4813 5065 6145]\n",
      "Invalid split time: k_35_time > k_40_time\n",
      "Total Invalid: 1 || First 3 Indices: [5065]\n",
      "--------------------------------------------------\n",
      "Invalid split time diff: k_finish_time (non-cumulative) < (k_finish_time - k_40_time - 5) OR k_finish_time (non-cumulative) > (k_finish_time - k_40_time + 5)\n",
      "Total Invalid: 16 || First 3 Indices: [ 755 1253 1573]\n",
      "Invalid split time: k_40_time > k_finish_time\n",
      "Total Invalid: 1 || First 3 Indices: [1253]\n",
      "\n",
      "** Dropping invalid splits, Total Count: 84 || Finished: 80 || Started: 4\n"
     ]
    }
   ],
   "source": [
    "df_knn = preprocess_impute_fill(df_ham, missing_indices, knn_imputer, mms, SPLITS_KEYS, drop_invalid_splits=True)"
   ]
  },
  {
   "cell_type": "code",
   "execution_count": 49,
   "metadata": {},
   "outputs": [
    {
     "name": "stdout",
     "output_type": "stream",
     "text": [
      "--------------------------------------------------\n",
      "--------------------------------------------------\n",
      "Invalid split time diff: k_15_time (non-cumulative) < (k_15_time - k_10_time - 5) OR k_15_time (non-cumulative) > (k_15_time - k_10_time + 5)\n",
      "Total Invalid: 24 || First 3 Indices: [ 0 61 77]\n",
      "--------------------------------------------------\n",
      "Invalid split time diff: k_20_time (non-cumulative) < (k_20_time - k_15_time - 5) OR k_20_time (non-cumulative) > (k_20_time - k_15_time + 5)\n",
      "Total Invalid: 3 || First 3 Indices: [ 166 2768 3028]\n",
      "--------------------------------------------------\n",
      "Invalid split time diff: k_half_time (non-cumulative) < (k_half_time - k_20_time - 5) OR k_half_time (non-cumulative) > (k_half_time - k_20_time + 5)\n",
      "Total Invalid: 31 || First 3 Indices: [255 490 577]\n",
      "Invalid split time: k_20_time > k_half_time\n",
      "Total Invalid: 2 || First 3 Indices: [5684 5685]\n",
      "--------------------------------------------------\n",
      "Invalid split time diff: k_25_time (non-cumulative) < (k_25_time - k_half_time - 5) OR k_25_time (non-cumulative) > (k_25_time - k_half_time + 5)\n",
      "Total Invalid: 2 || First 3 Indices: [ 154 1724]\n",
      "--------------------------------------------------\n",
      "Invalid split time diff: k_30_time (non-cumulative) < (k_30_time - k_25_time - 5) OR k_30_time (non-cumulative) > (k_30_time - k_25_time + 5)\n",
      "Total Invalid: 3 || First 3 Indices: [ 166 1135 3433]\n",
      "--------------------------------------------------\n",
      "Invalid split time diff: k_35_time (non-cumulative) < (k_35_time - k_30_time - 5) OR k_35_time (non-cumulative) > (k_35_time - k_30_time + 5)\n",
      "Total Invalid: 9 || First 3 Indices: [2212 3079 3198]\n",
      "Invalid split time: k_30_time > k_35_time\n",
      "Total Invalid: 1 || First 3 Indices: [2212]\n",
      "--------------------------------------------------\n",
      "Invalid split time diff: k_40_time (non-cumulative) < (k_40_time - k_35_time - 5) OR k_40_time (non-cumulative) > (k_40_time - k_35_time + 5)\n",
      "Total Invalid: 4 || First 3 Indices: [4813 5065 6145]\n",
      "Invalid split time: k_35_time > k_40_time\n",
      "Total Invalid: 1 || First 3 Indices: [5065]\n",
      "--------------------------------------------------\n",
      "Invalid split time diff: k_finish_time (non-cumulative) < (k_finish_time - k_40_time - 5) OR k_finish_time (non-cumulative) > (k_finish_time - k_40_time + 5)\n",
      "Total Invalid: 16 || First 3 Indices: [ 755 1253 1573]\n",
      "\n",
      "** Dropping invalid splits, Total Count: 82 || Finished: 78 || Started: 4\n"
     ]
    },
    {
     "name": "stderr",
     "output_type": "stream",
     "text": [
      "/Users/sika/miniforge3/envs/ML_mac_23/lib/python3.10/site-packages/sklearn/impute/_iterative.py:785: ConvergenceWarning: [IterativeImputer] Early stopping criterion not reached.\n",
      "  warnings.warn(\n"
     ]
    }
   ],
   "source": [
    "df_iter = preprocess_impute_fill(df_ham, missing_indices, iter_imputer, mms, SPLITS_KEYS, drop_invalid_splits=True)"
   ]
  },
  {
   "cell_type": "code",
   "execution_count": 50,
   "metadata": {},
   "outputs": [],
   "source": [
    "save_df(df_knn, ham_file_knn_imp_path)\n",
    "save_df(df_iter, ham_file_iter_imp_path)"
   ]
  },
  {
   "cell_type": "code",
   "execution_count": 51,
   "metadata": {},
   "outputs": [],
   "source": [
    "del ham_file_raw_path, ham_file_cln_path, ham_file_knn_imp_path, ham_file_iter_imp_path, df_ham, df_knn, df_iter"
   ]
  },
  {
   "attachments": {},
   "cell_type": "markdown",
   "metadata": {},
   "source": [
    "### 2022"
   ]
  },
  {
   "cell_type": "code",
   "execution_count": 52,
   "metadata": {},
   "outputs": [],
   "source": [
    "ham_file_raw_path = f\"{HAM_RAW_PATH}/{HAM}{YEAR_22}/{HAM}{YEAR_22}_full.csv\"\n",
    "ham_file_cln_path = f\"{HAM_CLN_PATH}/{HAM}{YEAR_22}/{HAM}{YEAR_22}_clean.csv\"\n",
    "ham_file_knn_imp_path = f\"{HAM_IMP_PATH}/{HAM}{YEAR_22}/{HAM}{YEAR_22}_knn_impute.csv\"\n",
    "ham_file_iter_imp_path = f\"{HAM_IMP_PATH}/{HAM}{YEAR_22}/{HAM}{YEAR_22}_iter_impute.csv\""
   ]
  },
  {
   "attachments": {},
   "cell_type": "markdown",
   "metadata": {},
   "source": [
    "#### Cleaning"
   ]
  },
  {
   "cell_type": "code",
   "execution_count": 16,
   "metadata": {},
   "outputs": [
    {
     "name": "stdout",
     "output_type": "stream",
     "text": [
      "** Removing Runners That did not start:\n",
      "Original rows count: 10416 || New rows count: 6888 || Dropped Rows: 3528\n",
      "** Dropping rows with null values in `age_cat` and `gender` columns:\n",
      "Original rows count: 6888 || New rows count: 6840 || Dropped rows based on   age_cat  : 48\n",
      "Original rows count: 6840 || New rows count: 6840 || Dropped rows based on    gender  : 0\n",
      "** Dropping rows with splits that only contain time: Finished: 0 || Started: 0\n",
      "** File has been saved in: `Marathons_Data/Clean/Hamburg/Hamburg2022/Hamburg2022_clean.csv`\n"
     ]
    }
   ],
   "source": [
    "df_ham = pd.read_csv(ham_file_raw_path)\n",
    "# Cleaning The DataFrame\n",
    "df_ham = hamburg_cleaner(df_ham, SPLITS_KEYS, HAM_COLS_TO_DROP, SPLIT_NAME_DICT, COLS_ORDER)\n",
    "# Check if the DataFrame is valid before saving it.\n",
    "if valid_df(df_ham):\n",
    "    save_df(df_ham, ham_file_cln_path)\n",
    "    print(f\"** File has been saved in: `{ham_file_cln_path}`\")"
   ]
  },
  {
   "attachments": {},
   "cell_type": "markdown",
   "metadata": {},
   "source": [
    "#### Imputation"
   ]
  },
  {
   "cell_type": "code",
   "execution_count": 53,
   "metadata": {},
   "outputs": [],
   "source": [
    "df_ham = pd.read_csv(ham_file_cln_path, dtype=DTYPE_DICT)\n",
    "missing_indices = get_indices_of_rows_missing_data(df_ham, SPLITS_KEYS)"
   ]
  },
  {
   "cell_type": "code",
   "execution_count": 54,
   "metadata": {},
   "outputs": [
    {
     "name": "stdout",
     "output_type": "stream",
     "text": [
      "--------------------------------------------------\n",
      "--------------------------------------------------\n",
      "Invalid split time diff: k_15_time (non-cumulative) < (k_15_time - k_10_time - 5) OR k_15_time (non-cumulative) > (k_15_time - k_10_time + 5)\n",
      "Total Invalid: 12 || First 3 Indices: [ 578  997 1362]\n",
      "--------------------------------------------------\n",
      "Invalid split time diff: k_20_time (non-cumulative) < (k_20_time - k_15_time - 5) OR k_20_time (non-cumulative) > (k_20_time - k_15_time + 5)\n",
      "Total Invalid: 3 || First 3 Indices: [ 203 1390 5879]\n",
      "--------------------------------------------------\n",
      "Invalid split time diff: k_half_time (non-cumulative) < (k_half_time - k_20_time - 5) OR k_half_time (non-cumulative) > (k_half_time - k_20_time + 5)\n",
      "Total Invalid: 2 || First 3 Indices: [4347 6776]\n",
      "--------------------------------------------------\n",
      "Invalid split time diff: k_25_time (non-cumulative) < (k_25_time - k_half_time - 5) OR k_25_time (non-cumulative) > (k_25_time - k_half_time + 5)\n",
      "Total Invalid: 2 || First 3 Indices: [1056 1133]\n",
      "--------------------------------------------------\n",
      "Invalid split time diff: k_30_time (non-cumulative) < (k_30_time - k_25_time - 5) OR k_30_time (non-cumulative) > (k_30_time - k_25_time + 5)\n",
      "Total Invalid: 3 || First 3 Indices: [ 203 1701 5636]\n",
      "--------------------------------------------------\n",
      "Invalid split time diff: k_35_time (non-cumulative) < (k_35_time - k_30_time - 5) OR k_35_time (non-cumulative) > (k_35_time - k_30_time + 5)\n",
      "Total Invalid: 10 || First 3 Indices: [ 213 1165 2189]\n",
      "Invalid split time: k_30_time > k_35_time\n",
      "Total Invalid: 1 || First 3 Indices: [2189]\n",
      "--------------------------------------------------\n",
      "Invalid split time diff: k_40_time (non-cumulative) < (k_40_time - k_35_time - 5) OR k_40_time (non-cumulative) > (k_40_time - k_35_time + 5)\n",
      "Total Invalid: 7 || First 3 Indices: [ 226 2452 2723]\n",
      "--------------------------------------------------\n",
      "Invalid split time diff: k_finish_time (non-cumulative) < (k_finish_time - k_40_time - 5) OR k_finish_time (non-cumulative) > (k_finish_time - k_40_time + 5)\n",
      "Total Invalid: 6 || First 3 Indices: [ 453 1155 1918]\n",
      "Invalid split time: k_40_time > k_finish_time\n",
      "Total Invalid: 1 || First 3 Indices: [2121]\n",
      "\n",
      "** Dropping invalid splits, Total Count: 43 || Finished: 42 || Started: 1\n"
     ]
    }
   ],
   "source": [
    "df_knn = preprocess_impute_fill(df_ham, missing_indices, knn_imputer, mms, SPLITS_KEYS, drop_invalid_splits=True)"
   ]
  },
  {
   "cell_type": "code",
   "execution_count": 55,
   "metadata": {},
   "outputs": [
    {
     "name": "stdout",
     "output_type": "stream",
     "text": [
      "--------------------------------------------------\n",
      "--------------------------------------------------\n",
      "Invalid split time diff: k_15_time (non-cumulative) < (k_15_time - k_10_time - 5) OR k_15_time (non-cumulative) > (k_15_time - k_10_time + 5)\n",
      "Total Invalid: 11 || First 3 Indices: [ 578  997 1362]\n",
      "--------------------------------------------------\n",
      "Invalid split time diff: k_20_time (non-cumulative) < (k_20_time - k_15_time - 5) OR k_20_time (non-cumulative) > (k_20_time - k_15_time + 5)\n",
      "Total Invalid: 4 || First 3 Indices: [ 203 1390 2373]\n",
      "--------------------------------------------------\n",
      "Invalid split time diff: k_half_time (non-cumulative) < (k_half_time - k_20_time - 5) OR k_half_time (non-cumulative) > (k_half_time - k_20_time + 5)\n",
      "Total Invalid: 2 || First 3 Indices: [4347 6776]\n",
      "--------------------------------------------------\n",
      "Invalid split time diff: k_25_time (non-cumulative) < (k_25_time - k_half_time - 5) OR k_25_time (non-cumulative) > (k_25_time - k_half_time + 5)\n",
      "Total Invalid: 1 || First 3 Indices: [1133]\n",
      "--------------------------------------------------\n",
      "Invalid split time diff: k_30_time (non-cumulative) < (k_30_time - k_25_time - 5) OR k_30_time (non-cumulative) > (k_30_time - k_25_time + 5)\n",
      "Total Invalid: 3 || First 3 Indices: [ 203 1701 5636]\n",
      "--------------------------------------------------\n",
      "Invalid split time diff: k_35_time (non-cumulative) < (k_35_time - k_30_time - 5) OR k_35_time (non-cumulative) > (k_35_time - k_30_time + 5)\n",
      "Total Invalid: 10 || First 3 Indices: [ 213 1165 2189]\n",
      "--------------------------------------------------\n",
      "Invalid split time diff: k_40_time (non-cumulative) < (k_40_time - k_35_time - 5) OR k_40_time (non-cumulative) > (k_40_time - k_35_time + 5)\n",
      "Total Invalid: 7 || First 3 Indices: [ 226 2452 2723]\n",
      "--------------------------------------------------\n",
      "Invalid split time diff: k_finish_time (non-cumulative) < (k_finish_time - k_40_time - 5) OR k_finish_time (non-cumulative) > (k_finish_time - k_40_time + 5)\n",
      "Total Invalid: 5 || First 3 Indices: [ 453 1155 1918]\n",
      "Invalid split time: k_40_time > k_finish_time\n",
      "Total Invalid: 1 || First 3 Indices: [2121]\n",
      "\n",
      "** Dropping invalid splits, Total Count: 41 || Finished: 40 || Started: 1\n"
     ]
    },
    {
     "name": "stderr",
     "output_type": "stream",
     "text": [
      "/Users/sika/miniforge3/envs/ML_mac_23/lib/python3.10/site-packages/sklearn/impute/_iterative.py:785: ConvergenceWarning: [IterativeImputer] Early stopping criterion not reached.\n",
      "  warnings.warn(\n"
     ]
    }
   ],
   "source": [
    "df_iter = preprocess_impute_fill(df_ham, missing_indices, iter_imputer, mms, SPLITS_KEYS, drop_invalid_splits=True)"
   ]
  },
  {
   "cell_type": "code",
   "execution_count": 56,
   "metadata": {},
   "outputs": [],
   "source": [
    "save_df(df_knn, ham_file_knn_imp_path)\n",
    "save_df(df_iter, ham_file_iter_imp_path)"
   ]
  },
  {
   "cell_type": "code",
   "execution_count": 57,
   "metadata": {},
   "outputs": [],
   "source": [
    "del ham_file_raw_path, ham_file_cln_path, ham_file_knn_imp_path, ham_file_iter_imp_path, df_ham, df_knn, df_iter"
   ]
  },
  {
   "attachments": {},
   "cell_type": "markdown",
   "metadata": {},
   "source": [
    "### 2023"
   ]
  },
  {
   "cell_type": "code",
   "execution_count": 58,
   "metadata": {},
   "outputs": [],
   "source": [
    "ham_file_raw_path = f\"{HAM_RAW_PATH}/{HAM}{YEAR_23}/{HAM}{YEAR_23}_full.csv\"\n",
    "ham_file_cln_path = f\"{HAM_CLN_PATH}/{HAM}{YEAR_23}/{HAM}{YEAR_23}_clean.csv\"\n",
    "ham_file_knn_imp_path = f\"{HAM_IMP_PATH}/{HAM}{YEAR_23}/{HAM}{YEAR_23}_knn_impute.csv\"\n",
    "ham_file_iter_imp_path = f\"{HAM_IMP_PATH}/{HAM}{YEAR_23}/{HAM}{YEAR_23}_iter_impute.csv\""
   ]
  },
  {
   "attachments": {},
   "cell_type": "markdown",
   "metadata": {},
   "source": [
    "#### Cleaning"
   ]
  },
  {
   "cell_type": "code",
   "execution_count": 25,
   "metadata": {},
   "outputs": [
    {
     "name": "stdout",
     "output_type": "stream",
     "text": [
      "** Removing Runners That did not start:\n",
      "Original rows count: 11757 || New rows count: 9002 || Dropped Rows: 2755\n",
      "** Dropping rows with null values in `age_cat` and `gender` columns:\n",
      "Original rows count: 9002 || New rows count: 8998 || Dropped rows based on   age_cat  : 4\n",
      "Original rows count: 8998 || New rows count: 8998 || Dropped rows based on    gender  : 0\n",
      "** Dropping rows with splits that only contain time: Finished: 0 || Started: 0\n",
      "** File has been saved in: `Marathons_Data/Clean/Hamburg/Hamburg2023/Hamburg2023_clean.csv`\n"
     ]
    }
   ],
   "source": [
    "df_ham = pd.read_csv(ham_file_raw_path)\n",
    "# Cleaning The DataFrame\n",
    "df_ham = hamburg_cleaner(df_ham, SPLITS_KEYS, HAM_COLS_TO_DROP, SPLIT_NAME_DICT, COLS_ORDER)\n",
    "# Check if the DataFrame is valid before saving it.\n",
    "if valid_df(df_ham):\n",
    "    save_df(df_ham, ham_file_cln_path)\n",
    "    print(f\"** File has been saved in: `{ham_file_cln_path}`\")"
   ]
  },
  {
   "attachments": {},
   "cell_type": "markdown",
   "metadata": {},
   "source": [
    "#### Imputation"
   ]
  },
  {
   "cell_type": "code",
   "execution_count": 59,
   "metadata": {},
   "outputs": [],
   "source": [
    "df_ham = pd.read_csv(ham_file_cln_path, dtype=DTYPE_DICT)\n",
    "missing_indices = get_indices_of_rows_missing_data(df_ham, SPLITS_KEYS)"
   ]
  },
  {
   "cell_type": "code",
   "execution_count": 60,
   "metadata": {},
   "outputs": [
    {
     "name": "stdout",
     "output_type": "stream",
     "text": [
      "--------------------------------------------------\n",
      "--------------------------------------------------\n",
      "Invalid split time diff: k_15_time (non-cumulative) < (k_15_time - k_10_time - 5) OR k_15_time (non-cumulative) > (k_15_time - k_10_time + 5)\n",
      "Total Invalid: 223 || First 3 Indices: [18 27 58]\n",
      "Invalid split time: k_10_time > k_15_time\n",
      "Total Invalid: 1 || First 3 Indices: [7230]\n",
      "--------------------------------------------------\n",
      "Invalid split time diff: k_20_time (non-cumulative) < (k_20_time - k_15_time - 5) OR k_20_time (non-cumulative) > (k_20_time - k_15_time + 5)\n",
      "Total Invalid: 22 || First 3 Indices: [ 30  45 808]\n",
      "Invalid split time: k_15_time > k_20_time\n",
      "Total Invalid: 2 || First 3 Indices: [2544 3928]\n",
      "--------------------------------------------------\n",
      "Invalid split time diff: k_half_time (non-cumulative) < (k_half_time - k_20_time - 5) OR k_half_time (non-cumulative) > (k_half_time - k_20_time + 5)\n",
      "Total Invalid: 2 || First 3 Indices: [2423 7358]\n",
      "Invalid split time: k_20_time > k_half_time\n",
      "Total Invalid: 1 || First 3 Indices: [7358]\n",
      "--------------------------------------------------\n",
      "Invalid split time diff: k_25_time (non-cumulative) < (k_25_time - k_half_time - 5) OR k_25_time (non-cumulative) > (k_25_time - k_half_time + 5)\n",
      "Total Invalid: 9 || First 3 Indices: [ 191  302 1236]\n",
      "--------------------------------------------------\n",
      "Invalid split time diff: k_30_time (non-cumulative) < (k_30_time - k_25_time - 5) OR k_30_time (non-cumulative) > (k_30_time - k_25_time + 5)\n",
      "Total Invalid: 15 || First 3 Indices: [ 153  917 1146]\n",
      "--------------------------------------------------\n",
      "Invalid split time diff: k_35_time (non-cumulative) < (k_35_time - k_30_time - 5) OR k_35_time (non-cumulative) > (k_35_time - k_30_time + 5)\n",
      "Total Invalid: 9 || First 3 Indices: [1236 1687 1784]\n",
      "--------------------------------------------------\n",
      "Invalid split time diff: k_40_time (non-cumulative) < (k_40_time - k_35_time - 5) OR k_40_time (non-cumulative) > (k_40_time - k_35_time + 5)\n",
      "Total Invalid: 9 || First 3 Indices: [ 196 1068 1609]\n",
      "Invalid split time: k_35_time > k_40_time\n",
      "Total Invalid: 2 || First 3 Indices: [6950 8518]\n",
      "--------------------------------------------------\n",
      "Invalid split time diff: k_finish_time (non-cumulative) < (k_finish_time - k_40_time - 5) OR k_finish_time (non-cumulative) > (k_finish_time - k_40_time + 5)\n",
      "Total Invalid: 33 || First 3 Indices: [639 651 758]\n",
      "\n",
      "** Dropping invalid splits, Total Count: 303 || Finished: 287 || Started: 16\n"
     ]
    }
   ],
   "source": [
    "df_knn = preprocess_impute_fill(df_ham, missing_indices, knn_imputer, mms, SPLITS_KEYS, drop_invalid_splits=True)"
   ]
  },
  {
   "cell_type": "code",
   "execution_count": 61,
   "metadata": {},
   "outputs": [
    {
     "name": "stdout",
     "output_type": "stream",
     "text": [
      "--------------------------------------------------\n",
      "--------------------------------------------------\n",
      "Invalid split time diff: k_15_time (non-cumulative) < (k_15_time - k_10_time - 5) OR k_15_time (non-cumulative) > (k_15_time - k_10_time + 5)\n",
      "Total Invalid: 213 || First 3 Indices: [27 58 73]\n",
      "--------------------------------------------------\n",
      "Invalid split time diff: k_20_time (non-cumulative) < (k_20_time - k_15_time - 5) OR k_20_time (non-cumulative) > (k_20_time - k_15_time + 5)\n",
      "Total Invalid: 22 || First 3 Indices: [ 30  45 808]\n",
      "--------------------------------------------------\n",
      "Invalid split time diff: k_half_time (non-cumulative) < (k_half_time - k_20_time - 5) OR k_half_time (non-cumulative) > (k_half_time - k_20_time + 5)\n",
      "Total Invalid: 2 || First 3 Indices: [2423 7358]\n",
      "--------------------------------------------------\n",
      "Invalid split time diff: k_25_time (non-cumulative) < (k_25_time - k_half_time - 5) OR k_25_time (non-cumulative) > (k_25_time - k_half_time + 5)\n",
      "Total Invalid: 9 || First 3 Indices: [ 191  302 1236]\n",
      "--------------------------------------------------\n",
      "Invalid split time diff: k_30_time (non-cumulative) < (k_30_time - k_25_time - 5) OR k_30_time (non-cumulative) > (k_30_time - k_25_time + 5)\n",
      "Total Invalid: 15 || First 3 Indices: [ 153  917 1146]\n",
      "--------------------------------------------------\n",
      "Invalid split time diff: k_35_time (non-cumulative) < (k_35_time - k_30_time - 5) OR k_35_time (non-cumulative) > (k_35_time - k_30_time + 5)\n",
      "Total Invalid: 9 || First 3 Indices: [1236 1687 1784]\n",
      "--------------------------------------------------\n",
      "Invalid split time diff: k_40_time (non-cumulative) < (k_40_time - k_35_time - 5) OR k_40_time (non-cumulative) > (k_40_time - k_35_time + 5)\n",
      "Total Invalid: 8 || First 3 Indices: [ 196 1068 1609]\n",
      "Invalid split time: k_35_time > k_40_time\n",
      "Total Invalid: 2 || First 3 Indices: [6950 8518]\n",
      "--------------------------------------------------\n",
      "Invalid split time diff: k_finish_time (non-cumulative) < (k_finish_time - k_40_time - 5) OR k_finish_time (non-cumulative) > (k_finish_time - k_40_time + 5)\n",
      "Total Invalid: 32 || First 3 Indices: [639 651 758]\n",
      "\n",
      "** Dropping invalid splits, Total Count: 292 || Finished: 275 || Started: 17\n"
     ]
    },
    {
     "name": "stderr",
     "output_type": "stream",
     "text": [
      "/Users/sika/miniforge3/envs/ML_mac_23/lib/python3.10/site-packages/sklearn/impute/_iterative.py:785: ConvergenceWarning: [IterativeImputer] Early stopping criterion not reached.\n",
      "  warnings.warn(\n"
     ]
    }
   ],
   "source": [
    "df_iter = preprocess_impute_fill(df_ham, missing_indices, iter_imputer, mms, SPLITS_KEYS, drop_invalid_splits=True)"
   ]
  },
  {
   "cell_type": "code",
   "execution_count": 62,
   "metadata": {},
   "outputs": [],
   "source": [
    "save_df(df_knn, ham_file_knn_imp_path)\n",
    "save_df(df_iter, ham_file_iter_imp_path)"
   ]
  },
  {
   "cell_type": "code",
   "execution_count": 63,
   "metadata": {},
   "outputs": [],
   "source": [
    "del ham_file_raw_path, ham_file_cln_path, ham_file_knn_imp_path, ham_file_iter_imp_path, df_ham, df_knn, df_iter"
   ]
  },
  {
   "attachments": {},
   "cell_type": "markdown",
   "metadata": {},
   "source": [
    "## Houston\n",
    "##### Pace and speed have been converted from min/mile and miles/h to sec/km and km/h respectively."
   ]
  },
  {
   "cell_type": "code",
   "execution_count": 4,
   "metadata": {},
   "outputs": [],
   "source": [
    "HOU_COLS_TO_DROP = [\"idp\", \"finish\", \"run_no\"] "
   ]
  },
  {
   "cell_type": "markdown",
   "metadata": {},
   "source": [
    "### 2018"
   ]
  },
  {
   "cell_type": "code",
   "execution_count": 5,
   "metadata": {},
   "outputs": [],
   "source": [
    "hou_file_raw_path = f\"{HOU_RAW_PATH}/{HOU}{YEAR_18}/{HOU}{YEAR_18}_full.csv\"\n",
    "hou_file_cln_path = f\"{HOU_CLN_PATH}/{HOU}{YEAR_18}/{HOU}{YEAR_18}_clean.csv\"\n",
    "hou_file_imp_path = f\"{HOU_IMP_PATH}/{HOU}{YEAR_18}/{HOU}{YEAR_18}_imputed.csv\""
   ]
  },
  {
   "cell_type": "markdown",
   "metadata": {},
   "source": [
    "#### Cleaning"
   ]
  },
  {
   "cell_type": "code",
   "execution_count": 6,
   "metadata": {},
   "outputs": [
    {
     "name": "stdout",
     "output_type": "stream",
     "text": [
      "** Removing Runners That did not start:\n",
      "Original rows count: 7547 || New rows count: 7526 || Dropped Rows: 21\n",
      "** Dropping rows with null values in `age_cat` and `gender` columns:\n",
      "Original rows count: 7526 || New rows count: 7526 || Dropped rows based on   age_cat  : 0\n",
      "Original rows count: 7526 || New rows count: 7526 || Dropped rows based on    gender  : 0\n",
      "** Dropping rows with invalid age categories [12-15, 16-19, Elites]:\n",
      "Original rows count: 7526 || New rows count: 7388 || Dropped rows: 138\n",
      "** Replacing these age categories '20-24', '25-29', '30-34', and '35-39' by '18-39'\n",
      "** Replacing these age categories '70-74', '75-79', '80+' by '70+'\n",
      "** Dropping rows with invalid race state ['Other', 'DQ - No Reason Was Given', 'DQ - SWITCH from HALF to MARA']:\n",
      "Original rows count: 7388 || New rows count: 7374 || Dropped rows: 14\n",
      "** Dropping rows with splits that only contain time: Finished: 0 || Started: 4\n",
      "** File has been saved in: `Marathons_Data/Clean/Houston/Houston2018/Houston2018_clean.csv`\n"
     ]
    }
   ],
   "source": [
    "df_hou = pd.read_csv(hou_file_raw_path)\n",
    "# Cleaning the DataFrame.\n",
    "df_hou = houston_cleaner(df_hou, SPLITS_KEYS, HOU_COLS_TO_DROP, SPLIT_NAME_DICT, COLS_ORDER)\n",
    "# Check if the DataFrame is valid before saving it.\n",
    "if valid_df(df_hou):\n",
    "    save_df(df_hou, hou_file_cln_path)\n",
    "    print(f\"** File has been saved in: `{hou_file_cln_path}`\")"
   ]
  },
  {
   "cell_type": "markdown",
   "metadata": {},
   "source": [
    "#### Imputation"
   ]
  },
  {
   "cell_type": "code",
   "execution_count": 7,
   "metadata": {},
   "outputs": [],
   "source": [
    "del hou_file_raw_path, hou_file_cln_path, hou_file_imp_path, df_hou"
   ]
  },
  {
   "cell_type": "markdown",
   "metadata": {},
   "source": [
    "### 2019"
   ]
  },
  {
   "cell_type": "code",
   "execution_count": 8,
   "metadata": {},
   "outputs": [],
   "source": [
    "hou_file_raw_path = f\"{HOU_RAW_PATH}/{HOU}{YEAR_19}/{HOU}{YEAR_19}_full.csv\"\n",
    "hou_file_cln_path = f\"{HOU_CLN_PATH}/{HOU}{YEAR_19}/{HOU}{YEAR_19}_clean.csv\"\n",
    "hou_file_imp_path = f\"{HOU_IMP_PATH}/{HOU}{YEAR_19}/{HOU}{YEAR_19}_imputed.csv\""
   ]
  },
  {
   "cell_type": "markdown",
   "metadata": {},
   "source": [
    "#### Cleaning"
   ]
  },
  {
   "cell_type": "code",
   "execution_count": 9,
   "metadata": {},
   "outputs": [
    {
     "name": "stdout",
     "output_type": "stream",
     "text": [
      "** Removing Runners That did not start:\n",
      "Original rows count: 7159 || New rows count: 7145 || Dropped Rows: 14\n",
      "** Dropping rows with null values in `age_cat` and `gender` columns:\n",
      "Original rows count: 7145 || New rows count: 7145 || Dropped rows based on   age_cat  : 0\n",
      "Original rows count: 7145 || New rows count: 7145 || Dropped rows based on    gender  : 0\n",
      "** Dropping rows with invalid age categories [12-15, 16-19, Elites]:\n",
      "Original rows count: 7145 || New rows count: 7015 || Dropped rows: 130\n",
      "** Replacing these age categories '20-24', '25-29', '30-34', and '35-39' by '18-39'\n",
      "** Replacing these age categories '70-74', '75-79', '80+' by '70+'\n",
      "** Dropping rows with invalid race state ['Other', 'DQ - No Reason Was Given', 'DQ - SWITCH from HALF to MARA']:\n",
      "Original rows count: 7015 || New rows count: 7003 || Dropped rows: 12\n",
      "** Dropping rows with splits that only contain time: Finished: 0 || Started: 4\n",
      "** File has been saved in: `Marathons_Data/Clean/Houston/Houston2019/Houston2019_clean.csv`\n"
     ]
    }
   ],
   "source": [
    "df_hou = pd.read_csv(hou_file_raw_path)\n",
    "# Cleaning the DataFrame.\n",
    "df_hou = houston_cleaner(df_hou, SPLITS_KEYS, HOU_COLS_TO_DROP, SPLIT_NAME_DICT, COLS_ORDER)\n",
    "# Check if the DataFrame is valid before saving it.\n",
    "if valid_df(df_hou):\n",
    "    save_df(df_hou, hou_file_cln_path)\n",
    "    print(f\"** File has been saved in: `{hou_file_cln_path}`\")"
   ]
  },
  {
   "cell_type": "markdown",
   "metadata": {},
   "source": [
    "#### Imputation"
   ]
  },
  {
   "cell_type": "code",
   "execution_count": 10,
   "metadata": {},
   "outputs": [],
   "source": [
    "del hou_file_raw_path, hou_file_cln_path, hou_file_imp_path, df_hou"
   ]
  },
  {
   "attachments": {},
   "cell_type": "markdown",
   "metadata": {},
   "source": [
    "## Stockholm"
   ]
  },
  {
   "cell_type": "code",
   "execution_count": 64,
   "metadata": {},
   "outputs": [],
   "source": [
    "STO_COLS_TO_DROP = [\"idp\", \"finish\", \"run_no\"] "
   ]
  },
  {
   "cell_type": "markdown",
   "metadata": {},
   "source": [
    "### 2021"
   ]
  },
  {
   "cell_type": "code",
   "execution_count": 65,
   "metadata": {},
   "outputs": [],
   "source": [
    "sto_file_raw_path = f\"{STO_RAW_PATH}/{STO}{YEAR_21}/{STO}{YEAR_21}_full.csv\"\n",
    "sto_file_cln_path = f\"{STO_CLN_PATH}/{STO}{YEAR_21}/{STO}{YEAR_21}_clean.csv\"\n",
    "sto_file_knn_imp_path = f\"{STO_IMP_PATH}/{STO}{YEAR_21}/{STO}{YEAR_21}_knn_impute.csv\"\n",
    "sto_file_iter_imp_path = f\"{STO_IMP_PATH}/{STO}{YEAR_21}/{STO}{YEAR_21}_iter_impute.csv\""
   ]
  },
  {
   "cell_type": "markdown",
   "metadata": {},
   "source": [
    "#### Cleaning"
   ]
  },
  {
   "cell_type": "code",
   "execution_count": 6,
   "metadata": {},
   "outputs": [
    {
     "name": "stdout",
     "output_type": "stream",
     "text": [
      "** Removing Runners That did not start:\n",
      "Original rows count: 12179 || New rows count: 7177 || Dropped Rows: 5002\n",
      "** Dropping rows with null values in `yob` and `gender` columns:\n",
      "Original rows count: 7177 || New rows count: 7126 || Dropped rows based on     yob    : 51\n",
      "Original rows count: 7126 || New rows count: 7126 || Dropped rows based on    gender  : 0\n",
      "** Dropping rows with splits that only contain time: Finished: 0 || Started: 0\n",
      "** Dropping non-adult runners (age < 18):\n",
      "Original rows count: 7126 || New rows count: 7125 || Dropped rows: 1\n",
      "** column name `yob` changed to `age_cat`.\n",
      "** File has been saved in: `Marathons_Data/Clean/Stockholm/Stockholm2021/Stockholm2021_clean.csv`\n"
     ]
    }
   ],
   "source": [
    "df_sto = pd.read_csv(sto_file_raw_path)\n",
    "# Cleaning the DataFrame.\n",
    "df_sto = stockholm_cleaner(df_sto, SPLITS_KEYS, STO_COLS_TO_DROP, SPLIT_NAME_DICT, COLS_ORDER, year=2021)\n",
    "# Check if the DataFrame is valid before saving it.\n",
    "if valid_df(df_sto):\n",
    "    save_df(df_sto, sto_file_cln_path)\n",
    "    print(f\"** File has been saved in: `{sto_file_cln_path}`\")"
   ]
  },
  {
   "cell_type": "markdown",
   "metadata": {},
   "source": [
    "#### Imputation"
   ]
  },
  {
   "cell_type": "code",
   "execution_count": 66,
   "metadata": {},
   "outputs": [],
   "source": [
    "df_sto = pd.read_csv(sto_file_cln_path, dtype=DTYPE_DICT)\n",
    "missing_indices = get_indices_of_rows_missing_data(df_sto, SPLITS_KEYS)"
   ]
  },
  {
   "cell_type": "code",
   "execution_count": 67,
   "metadata": {},
   "outputs": [
    {
     "name": "stdout",
     "output_type": "stream",
     "text": [
      "--------------------------------------------------\n",
      "--------------------------------------------------\n",
      "Invalid split time diff: k_15_time (non-cumulative) < (k_15_time - k_10_time - 5) OR k_15_time (non-cumulative) > (k_15_time - k_10_time + 5)\n",
      "Total Invalid: 1 || First 3 Indices: [3282]\n",
      "--------------------------------------------------\n",
      "--------------------------------------------------\n",
      "Invalid split time diff: k_half_time (non-cumulative) < (k_half_time - k_20_time - 5) OR k_half_time (non-cumulative) > (k_half_time - k_20_time + 5)\n",
      "Total Invalid: 1 || First 3 Indices: [6939]\n",
      "--------------------------------------------------\n",
      "--------------------------------------------------\n",
      "Invalid split time diff: k_30_time (non-cumulative) < (k_30_time - k_25_time - 5) OR k_30_time (non-cumulative) > (k_30_time - k_25_time + 5)\n",
      "Total Invalid: 1 || First 3 Indices: [5298]\n",
      "--------------------------------------------------\n",
      "Invalid split time diff: k_35_time (non-cumulative) < (k_35_time - k_30_time - 5) OR k_35_time (non-cumulative) > (k_35_time - k_30_time + 5)\n",
      "Total Invalid: 8 || First 3 Indices: [ 873 3658 3943]\n",
      "Invalid split time: k_30_time > k_35_time\n",
      "Total Invalid: 3 || First 3 Indices: [3658 6168 6172]\n",
      "--------------------------------------------------\n",
      "Invalid split time diff: k_40_time (non-cumulative) < (k_40_time - k_35_time - 5) OR k_40_time (non-cumulative) > (k_40_time - k_35_time + 5)\n",
      "Total Invalid: 3 || First 3 Indices: [   4 1654 6939]\n",
      "--------------------------------------------------\n",
      "Invalid split time diff: k_finish_time (non-cumulative) < (k_finish_time - k_40_time - 5) OR k_finish_time (non-cumulative) > (k_finish_time - k_40_time + 5)\n",
      "Total Invalid: 5 || First 3 Indices: [ 994 4665 5494]\n",
      "\n",
      "** Dropping invalid splits, Total Count: 18 || Finished: 16 || Started: 2\n"
     ]
    }
   ],
   "source": [
    "df_knn = preprocess_impute_fill(df_sto, missing_indices, knn_imputer, mms, SPLITS_KEYS, drop_invalid_splits=True)"
   ]
  },
  {
   "cell_type": "code",
   "execution_count": 68,
   "metadata": {},
   "outputs": [
    {
     "name": "stdout",
     "output_type": "stream",
     "text": [
      "--------------------------------------------------\n",
      "--------------------------------------------------\n",
      "Invalid split time diff: k_15_time (non-cumulative) < (k_15_time - k_10_time - 5) OR k_15_time (non-cumulative) > (k_15_time - k_10_time + 5)\n",
      "Total Invalid: 1 || First 3 Indices: [3282]\n",
      "--------------------------------------------------\n",
      "--------------------------------------------------\n",
      "Invalid split time diff: k_half_time (non-cumulative) < (k_half_time - k_20_time - 5) OR k_half_time (non-cumulative) > (k_half_time - k_20_time + 5)\n",
      "Total Invalid: 1 || First 3 Indices: [6939]\n",
      "--------------------------------------------------\n",
      "--------------------------------------------------\n",
      "Invalid split time diff: k_30_time (non-cumulative) < (k_30_time - k_25_time - 5) OR k_30_time (non-cumulative) > (k_30_time - k_25_time + 5)\n",
      "Total Invalid: 1 || First 3 Indices: [5298]\n",
      "--------------------------------------------------\n",
      "Invalid split time diff: k_35_time (non-cumulative) < (k_35_time - k_30_time - 5) OR k_35_time (non-cumulative) > (k_35_time - k_30_time + 5)\n",
      "Total Invalid: 8 || First 3 Indices: [ 873 3658 3943]\n",
      "Invalid split time: k_30_time > k_35_time\n",
      "Total Invalid: 2 || First 3 Indices: [3658 6172]\n",
      "--------------------------------------------------\n",
      "Invalid split time diff: k_40_time (non-cumulative) < (k_40_time - k_35_time - 5) OR k_40_time (non-cumulative) > (k_40_time - k_35_time + 5)\n",
      "Total Invalid: 3 || First 3 Indices: [   4 1654 6939]\n",
      "--------------------------------------------------\n",
      "Invalid split time diff: k_finish_time (non-cumulative) < (k_finish_time - k_40_time - 5) OR k_finish_time (non-cumulative) > (k_finish_time - k_40_time + 5)\n",
      "Total Invalid: 6 || First 3 Indices: [ 994 3943 4665]\n",
      "\n",
      "** Dropping invalid splits, Total Count: 18 || Finished: 16 || Started: 2\n"
     ]
    },
    {
     "name": "stderr",
     "output_type": "stream",
     "text": [
      "/Users/sika/miniforge3/envs/ML_mac_23/lib/python3.10/site-packages/sklearn/impute/_iterative.py:785: ConvergenceWarning: [IterativeImputer] Early stopping criterion not reached.\n",
      "  warnings.warn(\n"
     ]
    }
   ],
   "source": [
    "df_iter = preprocess_impute_fill(df_sto, missing_indices, iter_imputer, mms, SPLITS_KEYS, drop_invalid_splits=True)"
   ]
  },
  {
   "cell_type": "code",
   "execution_count": 69,
   "metadata": {},
   "outputs": [],
   "source": [
    "save_df(df_knn, sto_file_knn_imp_path)\n",
    "save_df(df_iter, sto_file_iter_imp_path)"
   ]
  },
  {
   "cell_type": "code",
   "execution_count": 70,
   "metadata": {},
   "outputs": [],
   "source": [
    "del sto_file_raw_path, sto_file_cln_path, sto_file_knn_imp_path, sto_file_iter_imp_path, df_sto, df_knn, df_iter"
   ]
  },
  {
   "cell_type": "markdown",
   "metadata": {},
   "source": [
    "### 2022"
   ]
  },
  {
   "cell_type": "code",
   "execution_count": 71,
   "metadata": {},
   "outputs": [],
   "source": [
    "sto_file_raw_path = f\"{STO_RAW_PATH}/{STO}{YEAR_22}/{STO}{YEAR_22}_full.csv\"\n",
    "sto_file_cln_path = f\"{STO_CLN_PATH}/{STO}{YEAR_22}/{STO}{YEAR_22}_clean.csv\"\n",
    "sto_file_knn_imp_path = f\"{STO_IMP_PATH}/{STO}{YEAR_22}/{STO}{YEAR_22}_knn_impute.csv\"\n",
    "sto_file_iter_imp_path = f\"{STO_IMP_PATH}/{STO}{YEAR_22}/{STO}{YEAR_22}_iter_impute.csv\""
   ]
  },
  {
   "cell_type": "markdown",
   "metadata": {},
   "source": [
    "#### Cleaning"
   ]
  },
  {
   "cell_type": "code",
   "execution_count": 9,
   "metadata": {},
   "outputs": [
    {
     "name": "stdout",
     "output_type": "stream",
     "text": [
      "** Removing Runners That did not start:\n",
      "Original rows count: 13593 || New rows count: 10161 || Dropped Rows: 3432\n",
      "** Dropping rows with null values in `yob` and `gender` columns:\n",
      "Original rows count: 10161 || New rows count: 10057 || Dropped rows based on     yob    : 104\n",
      "Original rows count: 10057 || New rows count: 10057 || Dropped rows based on    gender  : 0\n",
      "** Dropping rows with splits that only contain time: Finished: 0 || Started: 0\n",
      "** Dropping non-adult runners (age < 18):\n",
      "Original rows count: 10057 || New rows count: 10057 || Dropped rows: 0\n",
      "** column name `yob` changed to `age_cat`.\n",
      "** File has been saved in: `Marathons_Data/Clean/Stockholm/Stockholm2022/Stockholm2022_clean.csv`\n"
     ]
    }
   ],
   "source": [
    "df_sto = pd.read_csv(sto_file_raw_path)\n",
    "# Cleaning the DataFrame.\n",
    "df_sto = stockholm_cleaner(df_sto, SPLITS_KEYS, STO_COLS_TO_DROP, SPLIT_NAME_DICT, COLS_ORDER, year=2022)\n",
    "# Check if the DataFrame is valid before saving it.\n",
    "if valid_df(df_sto):\n",
    "    save_df(df_sto, sto_file_cln_path)\n",
    "    print(f\"** File has been saved in: `{sto_file_cln_path}`\")"
   ]
  },
  {
   "cell_type": "markdown",
   "metadata": {},
   "source": [
    "#### Imputation"
   ]
  },
  {
   "cell_type": "code",
   "execution_count": 72,
   "metadata": {},
   "outputs": [],
   "source": [
    "df_sto = pd.read_csv(sto_file_cln_path, dtype=DTYPE_DICT)\n",
    "missing_indices = get_indices_of_rows_missing_data(df_sto, SPLITS_KEYS)"
   ]
  },
  {
   "cell_type": "code",
   "execution_count": 73,
   "metadata": {},
   "outputs": [
    {
     "name": "stdout",
     "output_type": "stream",
     "text": [
      "--------------------------------------------------\n",
      "--------------------------------------------------\n",
      "Invalid split time diff: k_15_time (non-cumulative) < (k_15_time - k_10_time - 5) OR k_15_time (non-cumulative) > (k_15_time - k_10_time + 5)\n",
      "Total Invalid: 9 || First 3 Indices: [3114 3621 4636]\n",
      "--------------------------------------------------\n",
      "Invalid split time diff: k_20_time (non-cumulative) < (k_20_time - k_15_time - 5) OR k_20_time (non-cumulative) > (k_20_time - k_15_time + 5)\n",
      "Total Invalid: 9 || First 3 Indices: [ 123 1310 3807]\n",
      "--------------------------------------------------\n",
      "Invalid split time diff: k_half_time (non-cumulative) < (k_half_time - k_20_time - 5) OR k_half_time (non-cumulative) > (k_half_time - k_20_time + 5)\n",
      "Total Invalid: 1 || First 3 Indices: [6499]\n",
      "--------------------------------------------------\n",
      "Invalid split time diff: k_25_time (non-cumulative) < (k_25_time - k_half_time - 5) OR k_25_time (non-cumulative) > (k_25_time - k_half_time + 5)\n",
      "Total Invalid: 6 || First 3 Indices: [ 123 2658 5613]\n",
      "--------------------------------------------------\n",
      "Invalid split time diff: k_30_time (non-cumulative) < (k_30_time - k_25_time - 5) OR k_30_time (non-cumulative) > (k_30_time - k_25_time + 5)\n",
      "Total Invalid: 2 || First 3 Indices: [ 8980 10040]\n",
      "--------------------------------------------------\n",
      "Invalid split time diff: k_35_time (non-cumulative) < (k_35_time - k_30_time - 5) OR k_35_time (non-cumulative) > (k_35_time - k_30_time + 5)\n",
      "Total Invalid: 7 || First 3 Indices: [ 812 1181 5141]\n",
      "--------------------------------------------------\n",
      "Invalid split time diff: k_40_time (non-cumulative) < (k_40_time - k_35_time - 5) OR k_40_time (non-cumulative) > (k_40_time - k_35_time + 5)\n",
      "Total Invalid: 11 || First 3 Indices: [ 171 2601 3114]\n",
      "Invalid split time: k_35_time > k_40_time\n",
      "Total Invalid: 1 || First 3 Indices: [7282]\n",
      "--------------------------------------------------\n",
      "Invalid split time diff: k_finish_time (non-cumulative) < (k_finish_time - k_40_time - 5) OR k_finish_time (non-cumulative) > (k_finish_time - k_40_time + 5)\n",
      "Total Invalid: 15 || First 3 Indices: [123 299 812]\n",
      "\n",
      "** Dropping invalid splits, Total Count: 49 || Finished: 47 || Started: 2\n"
     ]
    }
   ],
   "source": [
    "df_knn = preprocess_impute_fill(df_sto, missing_indices, knn_imputer, mms, SPLITS_KEYS, drop_invalid_splits=True)"
   ]
  },
  {
   "cell_type": "code",
   "execution_count": 74,
   "metadata": {},
   "outputs": [
    {
     "name": "stdout",
     "output_type": "stream",
     "text": [
      "--------------------------------------------------\n",
      "--------------------------------------------------\n",
      "Invalid split time diff: k_15_time (non-cumulative) < (k_15_time - k_10_time - 5) OR k_15_time (non-cumulative) > (k_15_time - k_10_time + 5)\n",
      "Total Invalid: 9 || First 3 Indices: [3114 3621 4636]\n",
      "--------------------------------------------------\n",
      "Invalid split time diff: k_20_time (non-cumulative) < (k_20_time - k_15_time - 5) OR k_20_time (non-cumulative) > (k_20_time - k_15_time + 5)\n",
      "Total Invalid: 9 || First 3 Indices: [ 123 1310 3807]\n",
      "--------------------------------------------------\n",
      "Invalid split time diff: k_half_time (non-cumulative) < (k_half_time - k_20_time - 5) OR k_half_time (non-cumulative) > (k_half_time - k_20_time + 5)\n",
      "Total Invalid: 1 || First 3 Indices: [6499]\n",
      "--------------------------------------------------\n",
      "Invalid split time diff: k_25_time (non-cumulative) < (k_25_time - k_half_time - 5) OR k_25_time (non-cumulative) > (k_25_time - k_half_time + 5)\n",
      "Total Invalid: 6 || First 3 Indices: [ 123 2658 5613]\n",
      "--------------------------------------------------\n",
      "Invalid split time diff: k_30_time (non-cumulative) < (k_30_time - k_25_time - 5) OR k_30_time (non-cumulative) > (k_30_time - k_25_time + 5)\n",
      "Total Invalid: 2 || First 3 Indices: [ 8980 10040]\n",
      "--------------------------------------------------\n",
      "Invalid split time diff: k_35_time (non-cumulative) < (k_35_time - k_30_time - 5) OR k_35_time (non-cumulative) > (k_35_time - k_30_time + 5)\n",
      "Total Invalid: 7 || First 3 Indices: [ 812 1181 5141]\n",
      "--------------------------------------------------\n",
      "Invalid split time diff: k_40_time (non-cumulative) < (k_40_time - k_35_time - 5) OR k_40_time (non-cumulative) > (k_40_time - k_35_time + 5)\n",
      "Total Invalid: 12 || First 3 Indices: [ 171 2846 3114]\n",
      "Invalid split time: k_35_time > k_40_time\n",
      "Total Invalid: 1 || First 3 Indices: [7282]\n",
      "--------------------------------------------------\n",
      "Invalid split time diff: k_finish_time (non-cumulative) < (k_finish_time - k_40_time - 5) OR k_finish_time (non-cumulative) > (k_finish_time - k_40_time + 5)\n",
      "Total Invalid: 18 || First 3 Indices: [123 282 299]\n",
      "\n",
      "** Dropping invalid splits, Total Count: 53 || Finished: 51 || Started: 2\n"
     ]
    },
    {
     "name": "stderr",
     "output_type": "stream",
     "text": [
      "/Users/sika/miniforge3/envs/ML_mac_23/lib/python3.10/site-packages/sklearn/impute/_iterative.py:785: ConvergenceWarning: [IterativeImputer] Early stopping criterion not reached.\n",
      "  warnings.warn(\n"
     ]
    }
   ],
   "source": [
    "df_iter = preprocess_impute_fill(df_sto, missing_indices, iter_imputer, mms, SPLITS_KEYS, drop_invalid_splits=True)"
   ]
  },
  {
   "cell_type": "code",
   "execution_count": 75,
   "metadata": {},
   "outputs": [],
   "source": [
    "save_df(df_knn, sto_file_knn_imp_path)\n",
    "save_df(df_iter, sto_file_iter_imp_path)"
   ]
  },
  {
   "cell_type": "code",
   "execution_count": 76,
   "metadata": {},
   "outputs": [],
   "source": [
    "del sto_file_raw_path, sto_file_cln_path, sto_file_knn_imp_path, sto_file_iter_imp_path, df_sto, df_knn, df_iter"
   ]
  },
  {
   "attachments": {},
   "cell_type": "markdown",
   "metadata": {},
   "source": [
    "## Boston\n",
    "##### Pace and speed have been converted from min/mile and miles/h to sec/km and km/h respectively."
   ]
  },
  {
   "cell_type": "code",
   "execution_count": 77,
   "metadata": {},
   "outputs": [],
   "source": [
    "BOS_COLS_TO_DROP = [\"idp\", \"finish\", \"run_no\"] "
   ]
  },
  {
   "cell_type": "markdown",
   "metadata": {},
   "source": [
    "### 2014"
   ]
  },
  {
   "cell_type": "code",
   "execution_count": 78,
   "metadata": {},
   "outputs": [],
   "source": [
    "bos_file_raw_path = f\"{BOS_RAW_PATH}/{BOS}{YEAR_14}/{BOS}{YEAR_14}_full.csv\"\n",
    "bos_file_cln_path = f\"{BOS_CLN_PATH}/{BOS}{YEAR_14}/{BOS}{YEAR_14}_clean.csv\"\n",
    "bos_file_knn_imp_path = f\"{BOS_IMP_PATH}/{BOS}{YEAR_14}/{BOS}{YEAR_14}_knn_impute.csv\"\n",
    "bos_file_iter_imp_path = f\"{BOS_IMP_PATH}/{BOS}{YEAR_14}/{BOS}{YEAR_14}_iter_impute.csv\""
   ]
  },
  {
   "cell_type": "markdown",
   "metadata": {},
   "source": [
    "#### Cleaning"
   ]
  },
  {
   "cell_type": "code",
   "execution_count": 8,
   "metadata": {},
   "outputs": [
    {
     "name": "stdout",
     "output_type": "stream",
     "text": [
      "** Removing Runners That did not start:\n",
      "Original rows count: 35671 || New rows count: 32447 || Dropped Rows: 3224\n",
      "** Dropping rows with splits that only contain time: Finished: 0 || Started: 0\n",
      "** Dropping rows with null values in `age_cat` and `gender` columns:\n",
      "Original rows count: 32123 || New rows count: 32123 || Dropped rows based on   age_cat  : 0\n",
      "Original rows count: 32123 || New rows count: 32123 || Dropped rows based on    gender  : 0\n",
      "** Replacing these age categories '70-74', '75-79', '80+' by '70+'\n",
      "** File has been saved in: `Marathons_Data/Clean/Boston/Boston2014/Boston2014_clean.csv`\n"
     ]
    }
   ],
   "source": [
    "df_bos = pd.read_csv(bos_file_raw_path, low_memory=False)\n",
    "# # Cleaning the DataFrame.\n",
    "df_bos = boston_cleaner(df_bos, SPLITS_KEYS, BOS_COLS_TO_DROP, COLS_ORDER)\n",
    "# Check if the DataFrame is valid before saving it.\n",
    "if valid_df(df_bos):\n",
    "    save_df(df_bos, bos_file_cln_path)\n",
    "    print(f\"** File has been saved in: `{bos_file_cln_path}`\")"
   ]
  },
  {
   "cell_type": "markdown",
   "metadata": {},
   "source": [
    "#### Imputation"
   ]
  },
  {
   "cell_type": "code",
   "execution_count": 79,
   "metadata": {},
   "outputs": [],
   "source": [
    "df_bos = pd.read_csv(bos_file_cln_path, dtype=DTYPE_DICT)\n",
    "missing_indices = get_indices_of_rows_missing_data(df_bos, SPLITS_KEYS)"
   ]
  },
  {
   "cell_type": "code",
   "execution_count": 80,
   "metadata": {},
   "outputs": [
    {
     "name": "stdout",
     "output_type": "stream",
     "text": [
      "--------------------------------------------------\n",
      "Invalid split time diff: k_10_time (non-cumulative) < (k_10_time - k_5_time - 5) OR k_10_time (non-cumulative) > (k_10_time - k_5_time + 5)\n",
      "Total Invalid: 17 || First 3 Indices: [4726 7897 9079]\n",
      "--------------------------------------------------\n",
      "Invalid split time diff: k_15_time (non-cumulative) < (k_15_time - k_10_time - 5) OR k_15_time (non-cumulative) > (k_15_time - k_10_time + 5)\n",
      "Total Invalid: 17 || First 3 Indices: [4649 6553 7485]\n",
      "--------------------------------------------------\n",
      "Invalid split time diff: k_20_time (non-cumulative) < (k_20_time - k_15_time - 5) OR k_20_time (non-cumulative) > (k_20_time - k_15_time + 5)\n",
      "Total Invalid: 14 || First 3 Indices: [ 568 5386 6549]\n",
      "--------------------------------------------------\n",
      "Invalid split time diff: k_half_time (non-cumulative) < (k_half_time - k_20_time - 5) OR k_half_time (non-cumulative) > (k_half_time - k_20_time + 5)\n",
      "Total Invalid: 27 || First 3 Indices: [ 4031 13369 15375]\n",
      "--------------------------------------------------\n",
      "Invalid split time diff: k_25_time (non-cumulative) < (k_25_time - k_half_time - 5) OR k_25_time (non-cumulative) > (k_25_time - k_half_time + 5)\n",
      "Total Invalid: 40 || First 3 Indices: [2028 2656 3731]\n",
      "--------------------------------------------------\n",
      "Invalid split time diff: k_30_time (non-cumulative) < (k_30_time - k_25_time - 5) OR k_30_time (non-cumulative) > (k_30_time - k_25_time + 5)\n",
      "Total Invalid: 180 || First 3 Indices: [ 1490  8792 13369]\n",
      "--------------------------------------------------\n",
      "Invalid split time diff: k_35_time (non-cumulative) < (k_35_time - k_30_time - 5) OR k_35_time (non-cumulative) > (k_35_time - k_30_time + 5)\n",
      "Total Invalid: 11 || First 3 Indices: [  449  4031 13697]\n",
      "Invalid split time: k_30_time > k_35_time\n",
      "Total Invalid: 2 || First 3 Indices: [16896 24234]\n",
      "--------------------------------------------------\n",
      "Invalid split time diff: k_40_time (non-cumulative) < (k_40_time - k_35_time - 5) OR k_40_time (non-cumulative) > (k_40_time - k_35_time + 5)\n",
      "Total Invalid: 18 || First 3 Indices: [ 318 3589 7838]\n",
      "Invalid split time: k_35_time > k_40_time\n",
      "Total Invalid: 2 || First 3 Indices: [10405 15591]\n",
      "--------------------------------------------------\n",
      "Invalid split time diff: k_finish_time (non-cumulative) < (k_finish_time - k_40_time - 5) OR k_finish_time (non-cumulative) > (k_finish_time - k_40_time + 5)\n",
      "Total Invalid: 7 || First 3 Indices: [ 4732 15181 19650]\n",
      "Invalid split time: k_40_time > k_finish_time\n",
      "Total Invalid: 3 || First 3 Indices: [19650 24430 25539]\n",
      "\n",
      "** Dropping invalid splits, Total Count: 319 || Finished: 192 || Started: 127\n"
     ]
    }
   ],
   "source": [
    "df_knn = preprocess_impute_fill(df_bos, missing_indices, knn_imputer, mms, SPLITS_KEYS, drop_invalid_splits=True)"
   ]
  },
  {
   "cell_type": "code",
   "execution_count": 82,
   "metadata": {},
   "outputs": [
    {
     "name": "stdout",
     "output_type": "stream",
     "text": [
      "--------------------------------------------------\n",
      "Invalid split time diff: k_10_time (non-cumulative) < (k_10_time - k_5_time - 5) OR k_10_time (non-cumulative) > (k_10_time - k_5_time + 5)\n",
      "Total Invalid: 17 || First 3 Indices: [4726 7897 9079]\n",
      "--------------------------------------------------\n",
      "Invalid split time diff: k_15_time (non-cumulative) < (k_15_time - k_10_time - 5) OR k_15_time (non-cumulative) > (k_15_time - k_10_time + 5)\n",
      "Total Invalid: 17 || First 3 Indices: [4649 6553 7485]\n",
      "--------------------------------------------------\n",
      "Invalid split time diff: k_20_time (non-cumulative) < (k_20_time - k_15_time - 5) OR k_20_time (non-cumulative) > (k_20_time - k_15_time + 5)\n",
      "Total Invalid: 14 || First 3 Indices: [ 568 5386 6549]\n",
      "--------------------------------------------------\n",
      "Invalid split time diff: k_half_time (non-cumulative) < (k_half_time - k_20_time - 5) OR k_half_time (non-cumulative) > (k_half_time - k_20_time + 5)\n",
      "Total Invalid: 26 || First 3 Indices: [ 4031 13369 15375]\n",
      "--------------------------------------------------\n",
      "Invalid split time diff: k_25_time (non-cumulative) < (k_25_time - k_half_time - 5) OR k_25_time (non-cumulative) > (k_25_time - k_half_time + 5)\n",
      "Total Invalid: 40 || First 3 Indices: [2028 2656 3731]\n",
      "--------------------------------------------------\n",
      "Invalid split time diff: k_30_time (non-cumulative) < (k_30_time - k_25_time - 5) OR k_30_time (non-cumulative) > (k_30_time - k_25_time + 5)\n",
      "Total Invalid: 180 || First 3 Indices: [ 1490  8792 12478]\n",
      "--------------------------------------------------\n",
      "Invalid split time diff: k_35_time (non-cumulative) < (k_35_time - k_30_time - 5) OR k_35_time (non-cumulative) > (k_35_time - k_30_time + 5)\n",
      "Total Invalid: 10 || First 3 Indices: [ 4031 13697 14930]\n",
      "Invalid split time: k_30_time > k_35_time\n",
      "Total Invalid: 1 || First 3 Indices: [16896]\n",
      "--------------------------------------------------\n",
      "Invalid split time diff: k_40_time (non-cumulative) < (k_40_time - k_35_time - 5) OR k_40_time (non-cumulative) > (k_40_time - k_35_time + 5)\n",
      "Total Invalid: 21 || First 3 Indices: [ 318 1466 3589]\n",
      "Invalid split time: k_35_time > k_40_time\n",
      "Total Invalid: 2 || First 3 Indices: [10405 15591]\n",
      "--------------------------------------------------\n",
      "Invalid split time diff: k_finish_time (non-cumulative) < (k_finish_time - k_40_time - 5) OR k_finish_time (non-cumulative) > (k_finish_time - k_40_time + 5)\n",
      "Total Invalid: 7 || First 3 Indices: [ 4732 15181 19650]\n",
      "Invalid split time: k_40_time > k_finish_time\n",
      "Total Invalid: 4 || First 3 Indices: [15181 19650 24430]\n",
      "\n",
      "** Dropping invalid splits, Total Count: 320 || Finished: 194 || Started: 126\n"
     ]
    },
    {
     "name": "stderr",
     "output_type": "stream",
     "text": [
      "/Users/sika/miniforge3/envs/ML_mac_23/lib/python3.10/site-packages/sklearn/impute/_iterative.py:785: ConvergenceWarning: [IterativeImputer] Early stopping criterion not reached.\n",
      "  warnings.warn(\n"
     ]
    }
   ],
   "source": [
    "df_iter = preprocess_impute_fill(df_bos, missing_indices, iter_imputer, mms, SPLITS_KEYS, drop_invalid_splits=True)"
   ]
  },
  {
   "cell_type": "code",
   "execution_count": 83,
   "metadata": {},
   "outputs": [],
   "source": [
    "save_df(df_knn, bos_file_knn_imp_path)\n",
    "save_df(df_iter, bos_file_iter_imp_path)"
   ]
  },
  {
   "cell_type": "code",
   "execution_count": 84,
   "metadata": {},
   "outputs": [],
   "source": [
    "del bos_file_raw_path, bos_file_cln_path, bos_file_knn_imp_path, bos_file_iter_imp_path, df_bos, df_knn, df_iter"
   ]
  },
  {
   "cell_type": "markdown",
   "metadata": {},
   "source": [
    "### 2015"
   ]
  },
  {
   "cell_type": "code",
   "execution_count": 85,
   "metadata": {},
   "outputs": [],
   "source": [
    "bos_file_raw_path = f\"{BOS_RAW_PATH}/{BOS}{YEAR_15}/{BOS}{YEAR_15}_full.csv\"\n",
    "bos_file_cln_path = f\"{BOS_CLN_PATH}/{BOS}{YEAR_15}/{BOS}{YEAR_15}_clean.csv\"\n",
    "bos_file_knn_imp_path = f\"{BOS_IMP_PATH}/{BOS}{YEAR_15}/{BOS}{YEAR_15}_knn_impute.csv\"\n",
    "bos_file_iter_imp_path = f\"{BOS_IMP_PATH}/{BOS}{YEAR_15}/{BOS}{YEAR_15}_iter_impute.csv\""
   ]
  },
  {
   "cell_type": "markdown",
   "metadata": {},
   "source": [
    "#### Cleaning"
   ]
  },
  {
   "cell_type": "code",
   "execution_count": 11,
   "metadata": {},
   "outputs": [
    {
     "name": "stdout",
     "output_type": "stream",
     "text": [
      "** Removing Runners That did not start:\n",
      "Original rows count: 30252 || New rows count: 27159 || Dropped Rows: 3093\n",
      "** Dropping rows with splits that only contain time: Finished: 0 || Started: 0\n",
      "** Dropping rows with null values in `age_cat` and `gender` columns:\n",
      "Original rows count: 26986 || New rows count: 26986 || Dropped rows based on   age_cat  : 0\n",
      "Original rows count: 26986 || New rows count: 26986 || Dropped rows based on    gender  : 0\n",
      "** Replacing these age categories '70-74', '75-79', '80+' by '70+'\n",
      "** File has been saved in: `Marathons_Data/Clean/Boston/Boston2015/Boston2015_clean.csv`\n"
     ]
    }
   ],
   "source": [
    "df_bos = pd.read_csv(bos_file_raw_path, low_memory=False)\n",
    "# # Cleaning the DataFrame.\n",
    "df_bos = boston_cleaner(df_bos, SPLITS_KEYS, BOS_COLS_TO_DROP, COLS_ORDER)\n",
    "# # Check if the DataFrame is valid before saving it.\n",
    "if valid_df(df_bos):\n",
    "    save_df(df_bos, bos_file_cln_path)\n",
    "    print(f\"** File has been saved in: `{bos_file_cln_path}`\")"
   ]
  },
  {
   "cell_type": "markdown",
   "metadata": {},
   "source": [
    "#### Imputation"
   ]
  },
  {
   "cell_type": "code",
   "execution_count": 86,
   "metadata": {},
   "outputs": [],
   "source": [
    "df_bos = pd.read_csv(bos_file_cln_path, dtype=DTYPE_DICT)\n",
    "missing_indices = get_indices_of_rows_missing_data(df_bos, SPLITS_KEYS)"
   ]
  },
  {
   "cell_type": "code",
   "execution_count": 87,
   "metadata": {},
   "outputs": [
    {
     "name": "stdout",
     "output_type": "stream",
     "text": [
      "--------------------------------------------------\n",
      "--------------------------------------------------\n",
      "Invalid split time diff: k_15_time (non-cumulative) < (k_15_time - k_10_time - 5) OR k_15_time (non-cumulative) > (k_15_time - k_10_time + 5)\n",
      "Total Invalid: 22 || First 3 Indices: [1300 1487 2492]\n",
      "--------------------------------------------------\n",
      "Invalid split time diff: k_20_time (non-cumulative) < (k_20_time - k_15_time - 5) OR k_20_time (non-cumulative) > (k_20_time - k_15_time + 5)\n",
      "Total Invalid: 4 || First 3 Indices: [ 4395 19968 21246]\n",
      "--------------------------------------------------\n",
      "Invalid split time diff: k_half_time (non-cumulative) < (k_half_time - k_20_time - 5) OR k_half_time (non-cumulative) > (k_half_time - k_20_time + 5)\n",
      "Total Invalid: 54 || First 3 Indices: [4677 5161 8290]\n",
      "--------------------------------------------------\n",
      "Invalid split time diff: k_25_time (non-cumulative) < (k_25_time - k_half_time - 5) OR k_25_time (non-cumulative) > (k_25_time - k_half_time + 5)\n",
      "Total Invalid: 11 || First 3 Indices: [3218 4395 9219]\n",
      "--------------------------------------------------\n",
      "Invalid split time diff: k_30_time (non-cumulative) < (k_30_time - k_25_time - 5) OR k_30_time (non-cumulative) > (k_30_time - k_25_time + 5)\n",
      "Total Invalid: 52 || First 3 Indices: [1145 2644 7523]\n",
      "--------------------------------------------------\n",
      "Invalid split time diff: k_35_time (non-cumulative) < (k_35_time - k_30_time - 5) OR k_35_time (non-cumulative) > (k_35_time - k_30_time + 5)\n",
      "Total Invalid: 26 || First 3 Indices: [ 164 1226 1886]\n",
      "--------------------------------------------------\n",
      "Invalid split time diff: k_40_time (non-cumulative) < (k_40_time - k_35_time - 5) OR k_40_time (non-cumulative) > (k_40_time - k_35_time + 5)\n",
      "Total Invalid: 35 || First 3 Indices: [1062 2306 2599]\n",
      "--------------------------------------------------\n",
      "Invalid split time diff: k_finish_time (non-cumulative) < (k_finish_time - k_40_time - 5) OR k_finish_time (non-cumulative) > (k_finish_time - k_40_time + 5)\n",
      "Total Invalid: 41 || First 3 Indices: [1395 1756 1889]\n",
      "Invalid split time: k_40_time > k_finish_time\n",
      "Total Invalid: 3 || First 3 Indices: [ 2994  7031 24341]\n",
      "\n",
      "** Dropping invalid splits, Total Count: 204 || Finished: 139 || Started: 65\n"
     ]
    }
   ],
   "source": [
    "df_knn = preprocess_impute_fill(df_bos, missing_indices, knn_imputer, mms, SPLITS_KEYS, drop_invalid_splits=True)"
   ]
  },
  {
   "cell_type": "code",
   "execution_count": 88,
   "metadata": {},
   "outputs": [
    {
     "name": "stdout",
     "output_type": "stream",
     "text": [
      "--------------------------------------------------\n",
      "--------------------------------------------------\n",
      "Invalid split time diff: k_15_time (non-cumulative) < (k_15_time - k_10_time - 5) OR k_15_time (non-cumulative) > (k_15_time - k_10_time + 5)\n",
      "Total Invalid: 23 || First 3 Indices: [1300 1487 2492]\n",
      "--------------------------------------------------\n",
      "Invalid split time diff: k_20_time (non-cumulative) < (k_20_time - k_15_time - 5) OR k_20_time (non-cumulative) > (k_20_time - k_15_time + 5)\n",
      "Total Invalid: 3 || First 3 Indices: [ 4395 19968 21246]\n",
      "--------------------------------------------------\n",
      "Invalid split time diff: k_half_time (non-cumulative) < (k_half_time - k_20_time - 5) OR k_half_time (non-cumulative) > (k_half_time - k_20_time + 5)\n",
      "Total Invalid: 50 || First 3 Indices: [4677 5161 8290]\n",
      "--------------------------------------------------\n",
      "Invalid split time diff: k_25_time (non-cumulative) < (k_25_time - k_half_time - 5) OR k_25_time (non-cumulative) > (k_25_time - k_half_time + 5)\n",
      "Total Invalid: 12 || First 3 Indices: [3218 4395 6581]\n",
      "--------------------------------------------------\n",
      "Invalid split time diff: k_30_time (non-cumulative) < (k_30_time - k_25_time - 5) OR k_30_time (non-cumulative) > (k_30_time - k_25_time + 5)\n",
      "Total Invalid: 48 || First 3 Indices: [1145 2644 7523]\n",
      "--------------------------------------------------\n",
      "Invalid split time diff: k_35_time (non-cumulative) < (k_35_time - k_30_time - 5) OR k_35_time (non-cumulative) > (k_35_time - k_30_time + 5)\n",
      "Total Invalid: 25 || First 3 Indices: [ 164 1226 1886]\n",
      "--------------------------------------------------\n",
      "Invalid split time diff: k_40_time (non-cumulative) < (k_40_time - k_35_time - 5) OR k_40_time (non-cumulative) > (k_40_time - k_35_time + 5)\n",
      "Total Invalid: 34 || First 3 Indices: [1062 2306 2599]\n",
      "--------------------------------------------------\n",
      "Invalid split time diff: k_finish_time (non-cumulative) < (k_finish_time - k_40_time - 5) OR k_finish_time (non-cumulative) > (k_finish_time - k_40_time + 5)\n",
      "Total Invalid: 41 || First 3 Indices: [1395 1756 1889]\n",
      "Invalid split time: k_40_time > k_finish_time\n",
      "Total Invalid: 1 || First 3 Indices: [7031]\n",
      "\n",
      "** Dropping invalid splits, Total Count: 199 || Finished: 137 || Started: 62\n"
     ]
    },
    {
     "name": "stderr",
     "output_type": "stream",
     "text": [
      "/Users/sika/miniforge3/envs/ML_mac_23/lib/python3.10/site-packages/sklearn/impute/_iterative.py:785: ConvergenceWarning: [IterativeImputer] Early stopping criterion not reached.\n",
      "  warnings.warn(\n"
     ]
    }
   ],
   "source": [
    "df_iter = preprocess_impute_fill(df_bos, missing_indices, iter_imputer, mms, SPLITS_KEYS, drop_invalid_splits=True)"
   ]
  },
  {
   "cell_type": "code",
   "execution_count": 89,
   "metadata": {},
   "outputs": [],
   "source": [
    "save_df(df_knn, bos_file_knn_imp_path)\n",
    "save_df(df_iter, bos_file_iter_imp_path)"
   ]
  },
  {
   "cell_type": "code",
   "execution_count": 90,
   "metadata": {},
   "outputs": [],
   "source": [
    "del bos_file_raw_path, bos_file_cln_path, bos_file_knn_imp_path, bos_file_iter_imp_path, df_bos, df_knn, df_iter"
   ]
  },
  {
   "cell_type": "markdown",
   "metadata": {},
   "source": [
    "### 2016"
   ]
  },
  {
   "cell_type": "code",
   "execution_count": 91,
   "metadata": {},
   "outputs": [],
   "source": [
    "bos_file_raw_path = f\"{BOS_RAW_PATH}/{BOS}{YEAR_16}/{BOS}{YEAR_16}_full.csv\"\n",
    "bos_file_cln_path = f\"{BOS_CLN_PATH}/{BOS}{YEAR_16}/{BOS}{YEAR_16}_clean.csv\"\n",
    "bos_file_knn_imp_path = f\"{BOS_IMP_PATH}/{BOS}{YEAR_16}/{BOS}{YEAR_16}_knn_impute.csv\"\n",
    "bos_file_iter_imp_path = f\"{BOS_IMP_PATH}/{BOS}{YEAR_16}/{BOS}{YEAR_16}_iter_impute.csv\""
   ]
  },
  {
   "cell_type": "markdown",
   "metadata": {},
   "source": [
    "#### Cleaning"
   ]
  },
  {
   "cell_type": "code",
   "execution_count": 14,
   "metadata": {},
   "outputs": [
    {
     "name": "stdout",
     "output_type": "stream",
     "text": [
      "** Removing Runners That did not start:\n",
      "Original rows count: 30743 || New rows count: 27487 || Dropped Rows: 3256\n",
      "** Dropping rows with splits that only contain time: Finished: 0 || Started: 0\n",
      "** Dropping rows with null values in `age_cat` and `gender` columns:\n",
      "Original rows count: 27421 || New rows count: 27421 || Dropped rows based on   age_cat  : 0\n",
      "Original rows count: 27421 || New rows count: 27421 || Dropped rows based on    gender  : 0\n",
      "** Replacing these age categories '70-74', '75-79', '80+' by '70+'\n",
      "** File has been saved in: `Marathons_Data/Clean/Boston/Boston2016/Boston2016_clean.csv`\n"
     ]
    }
   ],
   "source": [
    "df_bos = pd.read_csv(bos_file_raw_path, low_memory=False)\n",
    "# # Cleaning the DataFrame.\n",
    "df_bos = boston_cleaner(df_bos, SPLITS_KEYS, BOS_COLS_TO_DROP, COLS_ORDER)\n",
    "# # Check if the DataFrame is valid before saving it.\n",
    "if valid_df(df_bos):\n",
    "    save_df(df_bos, bos_file_cln_path)\n",
    "    print(f\"** File has been saved in: `{bos_file_cln_path}`\")"
   ]
  },
  {
   "cell_type": "markdown",
   "metadata": {},
   "source": [
    "#### Imputation"
   ]
  },
  {
   "cell_type": "code",
   "execution_count": 92,
   "metadata": {},
   "outputs": [],
   "source": [
    "df_bos = pd.read_csv(bos_file_cln_path, dtype=DTYPE_DICT)\n",
    "missing_indices = get_indices_of_rows_missing_data(df_bos, SPLITS_KEYS)"
   ]
  },
  {
   "cell_type": "code",
   "execution_count": 93,
   "metadata": {},
   "outputs": [
    {
     "name": "stdout",
     "output_type": "stream",
     "text": [
      "--------------------------------------------------\n",
      "--------------------------------------------------\n",
      "Invalid split time diff: k_15_time (non-cumulative) < (k_15_time - k_10_time - 5) OR k_15_time (non-cumulative) > (k_15_time - k_10_time + 5)\n",
      "Total Invalid: 23 || First 3 Indices: [ 526 1310 4996]\n",
      "--------------------------------------------------\n",
      "Invalid split time diff: k_20_time (non-cumulative) < (k_20_time - k_15_time - 5) OR k_20_time (non-cumulative) > (k_20_time - k_15_time + 5)\n",
      "Total Invalid: 7 || First 3 Indices: [ 8083 11459 12598]\n",
      "--------------------------------------------------\n",
      "Invalid split time diff: k_half_time (non-cumulative) < (k_half_time - k_20_time - 5) OR k_half_time (non-cumulative) > (k_half_time - k_20_time + 5)\n",
      "Total Invalid: 43 || First 3 Indices: [1621 1991 2092]\n",
      "--------------------------------------------------\n",
      "Invalid split time diff: k_25_time (non-cumulative) < (k_25_time - k_half_time - 5) OR k_25_time (non-cumulative) > (k_25_time - k_half_time + 5)\n",
      "Total Invalid: 12 || First 3 Indices: [1178 5367 8725]\n",
      "--------------------------------------------------\n",
      "Invalid split time diff: k_30_time (non-cumulative) < (k_30_time - k_25_time - 5) OR k_30_time (non-cumulative) > (k_30_time - k_25_time + 5)\n",
      "Total Invalid: 56 || First 3 Indices: [ 5143 12735 14207]\n",
      "--------------------------------------------------\n",
      "Invalid split time diff: k_35_time (non-cumulative) < (k_35_time - k_30_time - 5) OR k_35_time (non-cumulative) > (k_35_time - k_30_time + 5)\n",
      "Total Invalid: 18 || First 3 Indices: [1911 2650 3512]\n",
      "--------------------------------------------------\n",
      "Invalid split time diff: k_40_time (non-cumulative) < (k_40_time - k_35_time - 5) OR k_40_time (non-cumulative) > (k_40_time - k_35_time + 5)\n",
      "Total Invalid: 11 || First 3 Indices: [ 902 7230 7867]\n",
      "--------------------------------------------------\n",
      "Invalid split time diff: k_finish_time (non-cumulative) < (k_finish_time - k_40_time - 5) OR k_finish_time (non-cumulative) > (k_finish_time - k_40_time + 5)\n",
      "Total Invalid: 6 || First 3 Indices: [ 1645  8089 14173]\n",
      "\n",
      "** Dropping invalid splits, Total Count: 149 || Finished: 86 || Started: 63\n"
     ]
    }
   ],
   "source": [
    "df_knn = preprocess_impute_fill(df_bos, missing_indices, knn_imputer, mms, SPLITS_KEYS, drop_invalid_splits=True)"
   ]
  },
  {
   "cell_type": "code",
   "execution_count": 94,
   "metadata": {},
   "outputs": [
    {
     "name": "stdout",
     "output_type": "stream",
     "text": [
      "--------------------------------------------------\n",
      "--------------------------------------------------\n",
      "Invalid split time diff: k_15_time (non-cumulative) < (k_15_time - k_10_time - 5) OR k_15_time (non-cumulative) > (k_15_time - k_10_time + 5)\n",
      "Total Invalid: 23 || First 3 Indices: [ 526 1310 4996]\n",
      "--------------------------------------------------\n",
      "Invalid split time diff: k_20_time (non-cumulative) < (k_20_time - k_15_time - 5) OR k_20_time (non-cumulative) > (k_20_time - k_15_time + 5)\n",
      "Total Invalid: 7 || First 3 Indices: [ 8083 11459 12598]\n",
      "--------------------------------------------------\n",
      "Invalid split time diff: k_half_time (non-cumulative) < (k_half_time - k_20_time - 5) OR k_half_time (non-cumulative) > (k_half_time - k_20_time + 5)\n",
      "Total Invalid: 39 || First 3 Indices: [1621 1991 2092]\n",
      "--------------------------------------------------\n",
      "Invalid split time diff: k_25_time (non-cumulative) < (k_25_time - k_half_time - 5) OR k_25_time (non-cumulative) > (k_25_time - k_half_time + 5)\n",
      "Total Invalid: 12 || First 3 Indices: [1178 5367 8725]\n",
      "--------------------------------------------------\n",
      "Invalid split time diff: k_30_time (non-cumulative) < (k_30_time - k_25_time - 5) OR k_30_time (non-cumulative) > (k_30_time - k_25_time + 5)\n",
      "Total Invalid: 56 || First 3 Indices: [ 1872 12735 14207]\n",
      "--------------------------------------------------\n",
      "Invalid split time diff: k_35_time (non-cumulative) < (k_35_time - k_30_time - 5) OR k_35_time (non-cumulative) > (k_35_time - k_30_time + 5)\n",
      "Total Invalid: 19 || First 3 Indices: [1911 2650 3512]\n",
      "Invalid split time: k_30_time > k_35_time\n",
      "Total Invalid: 1 || First 3 Indices: [20606]\n",
      "--------------------------------------------------\n",
      "Invalid split time diff: k_40_time (non-cumulative) < (k_40_time - k_35_time - 5) OR k_40_time (non-cumulative) > (k_40_time - k_35_time + 5)\n",
      "Total Invalid: 11 || First 3 Indices: [ 902 7230 7867]\n",
      "Invalid split time: k_35_time > k_40_time\n",
      "Total Invalid: 1 || First 3 Indices: [16202]\n",
      "--------------------------------------------------\n",
      "Invalid split time diff: k_finish_time (non-cumulative) < (k_finish_time - k_40_time - 5) OR k_finish_time (non-cumulative) > (k_finish_time - k_40_time + 5)\n",
      "Total Invalid: 7 || First 3 Indices: [1645 4191 8089]\n",
      "\n",
      "** Dropping invalid splits, Total Count: 147 || Finished: 86 || Started: 61\n"
     ]
    },
    {
     "name": "stderr",
     "output_type": "stream",
     "text": [
      "/Users/sika/miniforge3/envs/ML_mac_23/lib/python3.10/site-packages/sklearn/impute/_iterative.py:785: ConvergenceWarning: [IterativeImputer] Early stopping criterion not reached.\n",
      "  warnings.warn(\n"
     ]
    }
   ],
   "source": [
    "df_iter = preprocess_impute_fill(df_bos, missing_indices, iter_imputer, mms, SPLITS_KEYS, drop_invalid_splits=True)"
   ]
  },
  {
   "cell_type": "code",
   "execution_count": 95,
   "metadata": {},
   "outputs": [],
   "source": [
    "save_df(df_knn, bos_file_knn_imp_path)\n",
    "save_df(df_iter, bos_file_iter_imp_path)"
   ]
  },
  {
   "cell_type": "code",
   "execution_count": 96,
   "metadata": {},
   "outputs": [],
   "source": [
    "del bos_file_raw_path, bos_file_cln_path, bos_file_knn_imp_path, bos_file_iter_imp_path, df_bos, df_knn, df_iter"
   ]
  },
  {
   "cell_type": "markdown",
   "metadata": {},
   "source": [
    "### 2017"
   ]
  },
  {
   "cell_type": "code",
   "execution_count": 117,
   "metadata": {},
   "outputs": [],
   "source": [
    "bos_file_raw_path = f\"{BOS_RAW_PATH}/{BOS}{YEAR_17}/{BOS}{YEAR_17}_full.csv\"\n",
    "bos_file_cln_path = f\"{BOS_CLN_PATH}/{BOS}{YEAR_17}/{BOS}{YEAR_17}_clean.csv\"\n",
    "bos_file_knn_imp_path = f\"{BOS_IMP_PATH}/{BOS}{YEAR_17}/{BOS}{YEAR_17}_knn_impute.csv\"\n",
    "bos_file_iter_imp_path = f\"{BOS_IMP_PATH}/{BOS}{YEAR_17}/{BOS}{YEAR_17}_iter_impute.csv\""
   ]
  },
  {
   "cell_type": "markdown",
   "metadata": {},
   "source": [
    "#### Cleaning"
   ]
  },
  {
   "cell_type": "code",
   "execution_count": 17,
   "metadata": {},
   "outputs": [
    {
     "name": "stdout",
     "output_type": "stream",
     "text": [
      "** Removing Runners That did not start:\n",
      "Original rows count: 30074 || New rows count: 27220 || Dropped Rows: 2854\n",
      "** Dropping rows with splits that only contain time: Finished: 0 || Started: 0\n",
      "** Dropping rows with null values in `age_cat` and `gender` columns:\n",
      "Original rows count: 27189 || New rows count: 27189 || Dropped rows based on   age_cat  : 0\n",
      "Original rows count: 27189 || New rows count: 27189 || Dropped rows based on    gender  : 0\n",
      "** Replacing these age categories '70-74', '75-79', '80+' by '70+'\n",
      "** File has been saved in: `Marathons_Data/Clean/Boston/Boston2017/Boston2017_clean.csv`\n"
     ]
    }
   ],
   "source": [
    "df_bos = pd.read_csv(bos_file_raw_path, low_memory=False)\n",
    "# # Cleaning the DataFrame.\n",
    "df_bos = boston_cleaner(df_bos, SPLITS_KEYS, BOS_COLS_TO_DROP, COLS_ORDER)\n",
    "# # Check if the DataFrame is valid before saving it.\n",
    "if valid_df(df_bos):\n",
    "    save_df(df_bos, bos_file_cln_path)\n",
    "    print(f\"** File has been saved in: `{bos_file_cln_path}`\")"
   ]
  },
  {
   "cell_type": "markdown",
   "metadata": {},
   "source": [
    "#### Imputation"
   ]
  },
  {
   "cell_type": "code",
   "execution_count": 118,
   "metadata": {},
   "outputs": [],
   "source": [
    "df_bos = pd.read_csv(bos_file_cln_path, dtype=DTYPE_DICT)\n",
    "missing_indices = get_indices_of_rows_missing_data(df_bos, SPLITS_KEYS)"
   ]
  },
  {
   "cell_type": "code",
   "execution_count": 99,
   "metadata": {},
   "outputs": [
    {
     "name": "stdout",
     "output_type": "stream",
     "text": [
      "--------------------------------------------------\n",
      "--------------------------------------------------\n",
      "Invalid split time diff: k_15_time (non-cumulative) < (k_15_time - k_10_time - 5) OR k_15_time (non-cumulative) > (k_15_time - k_10_time + 5)\n",
      "Total Invalid: 44 || First 3 Indices: [ 786  986 1026]\n",
      "--------------------------------------------------\n",
      "Invalid split time diff: k_20_time (non-cumulative) < (k_20_time - k_15_time - 5) OR k_20_time (non-cumulative) > (k_20_time - k_15_time + 5)\n",
      "Total Invalid: 10 || First 3 Indices: [ 675 6135 6296]\n",
      "--------------------------------------------------\n",
      "Invalid split time diff: k_half_time (non-cumulative) < (k_half_time - k_20_time - 5) OR k_half_time (non-cumulative) > (k_half_time - k_20_time + 5)\n",
      "Total Invalid: 41 || First 3 Indices: [   8 1499 1962]\n",
      "--------------------------------------------------\n",
      "Invalid split time diff: k_25_time (non-cumulative) < (k_25_time - k_half_time - 5) OR k_25_time (non-cumulative) > (k_25_time - k_half_time + 5)\n",
      "Total Invalid: 6 || First 3 Indices: [ 2194 16192 17349]\n",
      "--------------------------------------------------\n",
      "Invalid split time diff: k_30_time (non-cumulative) < (k_30_time - k_25_time - 5) OR k_30_time (non-cumulative) > (k_30_time - k_25_time + 5)\n",
      "Total Invalid: 24 || First 3 Indices: [ 834 1284 1499]\n",
      "--------------------------------------------------\n",
      "Invalid split time diff: k_35_time (non-cumulative) < (k_35_time - k_30_time - 5) OR k_35_time (non-cumulative) > (k_35_time - k_30_time + 5)\n",
      "Total Invalid: 8 || First 3 Indices: [ 3601  7423 10040]\n",
      "--------------------------------------------------\n",
      "Invalid split time diff: k_40_time (non-cumulative) < (k_40_time - k_35_time - 5) OR k_40_time (non-cumulative) > (k_40_time - k_35_time + 5)\n",
      "Total Invalid: 18 || First 3 Indices: [ 675 2663 2764]\n",
      "--------------------------------------------------\n",
      "Invalid split time diff: k_finish_time (non-cumulative) < (k_finish_time - k_40_time - 5) OR k_finish_time (non-cumulative) > (k_finish_time - k_40_time + 5)\n",
      "Total Invalid: 5 || First 3 Indices: [ 3892 14347 17834]\n",
      "Invalid split time: k_40_time > k_finish_time\n",
      "Total Invalid: 1 || First 3 Indices: [14347]\n",
      "\n",
      "** Dropping invalid splits, Total Count: 149 || Finished: 122 || Started: 27\n"
     ]
    }
   ],
   "source": [
    "df_knn = preprocess_impute_fill(df_bos, missing_indices, knn_imputer, mms, SPLITS_KEYS, drop_invalid_splits=True)"
   ]
  },
  {
   "cell_type": "code",
   "execution_count": 100,
   "metadata": {},
   "outputs": [
    {
     "name": "stdout",
     "output_type": "stream",
     "text": [
      "--------------------------------------------------\n",
      "--------------------------------------------------\n",
      "Invalid split time diff: k_15_time (non-cumulative) < (k_15_time - k_10_time - 5) OR k_15_time (non-cumulative) > (k_15_time - k_10_time + 5)\n",
      "Total Invalid: 44 || First 3 Indices: [ 786  986 1026]\n",
      "--------------------------------------------------\n",
      "Invalid split time diff: k_20_time (non-cumulative) < (k_20_time - k_15_time - 5) OR k_20_time (non-cumulative) > (k_20_time - k_15_time + 5)\n",
      "Total Invalid: 11 || First 3 Indices: [ 675 6135 6296]\n",
      "--------------------------------------------------\n",
      "Invalid split time diff: k_half_time (non-cumulative) < (k_half_time - k_20_time - 5) OR k_half_time (non-cumulative) > (k_half_time - k_20_time + 5)\n",
      "Total Invalid: 41 || First 3 Indices: [   8 1499 1962]\n",
      "Invalid split time: k_20_time > k_half_time\n",
      "Total Invalid: 1 || First 3 Indices: [13326]\n",
      "--------------------------------------------------\n",
      "Invalid split time diff: k_25_time (non-cumulative) < (k_25_time - k_half_time - 5) OR k_25_time (non-cumulative) > (k_25_time - k_half_time + 5)\n",
      "Total Invalid: 6 || First 3 Indices: [ 2194 16192 17349]\n",
      "--------------------------------------------------\n",
      "Invalid split time diff: k_30_time (non-cumulative) < (k_30_time - k_25_time - 5) OR k_30_time (non-cumulative) > (k_30_time - k_25_time + 5)\n",
      "Total Invalid: 22 || First 3 Indices: [ 834 1284 1499]\n",
      "--------------------------------------------------\n",
      "Invalid split time diff: k_35_time (non-cumulative) < (k_35_time - k_30_time - 5) OR k_35_time (non-cumulative) > (k_35_time - k_30_time + 5)\n",
      "Total Invalid: 8 || First 3 Indices: [ 3601  7423 10040]\n",
      "--------------------------------------------------\n",
      "Invalid split time diff: k_40_time (non-cumulative) < (k_40_time - k_35_time - 5) OR k_40_time (non-cumulative) > (k_40_time - k_35_time + 5)\n",
      "Total Invalid: 18 || First 3 Indices: [ 675 2663 2764]\n",
      "Invalid split time: k_35_time > k_40_time\n",
      "Total Invalid: 1 || First 3 Indices: [13631]\n",
      "--------------------------------------------------\n",
      "Invalid split time diff: k_finish_time (non-cumulative) < (k_finish_time - k_40_time - 5) OR k_finish_time (non-cumulative) > (k_finish_time - k_40_time + 5)\n",
      "Total Invalid: 5 || First 3 Indices: [ 3892 14347 17834]\n",
      "Invalid split time: k_40_time > k_finish_time\n",
      "Total Invalid: 1 || First 3 Indices: [14347]\n",
      "\n",
      "** Dropping invalid splits, Total Count: 149 || Finished: 122 || Started: 27\n"
     ]
    },
    {
     "name": "stderr",
     "output_type": "stream",
     "text": [
      "/Users/sika/miniforge3/envs/ML_mac_23/lib/python3.10/site-packages/sklearn/impute/_iterative.py:785: ConvergenceWarning: [IterativeImputer] Early stopping criterion not reached.\n",
      "  warnings.warn(\n"
     ]
    }
   ],
   "source": [
    "df_iter = preprocess_impute_fill(df_bos, missing_indices, iter_imputer, mms, SPLITS_KEYS, drop_invalid_splits=True)"
   ]
  },
  {
   "cell_type": "code",
   "execution_count": 101,
   "metadata": {},
   "outputs": [],
   "source": [
    "save_df(df_knn, bos_file_knn_imp_path)\n",
    "save_df(df_iter, bos_file_iter_imp_path)"
   ]
  },
  {
   "cell_type": "code",
   "execution_count": 102,
   "metadata": {},
   "outputs": [],
   "source": [
    "del bos_file_raw_path, bos_file_cln_path, bos_file_knn_imp_path, bos_file_iter_imp_path, df_bos, df_knn, df_iter"
   ]
  },
  {
   "cell_type": "markdown",
   "metadata": {},
   "source": [
    "### 2018 (ISSUE WITH IMPUTATION)"
   ]
  },
  {
   "cell_type": "code",
   "execution_count": 103,
   "metadata": {},
   "outputs": [],
   "source": [
    "bos_file_raw_path = f\"{BOS_RAW_PATH}/{BOS}{YEAR_18}/{BOS}{YEAR_18}_full.csv\"\n",
    "bos_file_cln_path = f\"{BOS_CLN_PATH}/{BOS}{YEAR_18}/{BOS}{YEAR_18}_clean.csv\"\n",
    "bos_file_knn_imp_path = f\"{BOS_IMP_PATH}/{BOS}{YEAR_18}/{BOS}{YEAR_18}_knn_impute.csv\"\n",
    "bos_file_iter_imp_path = f\"{BOS_IMP_PATH}/{BOS}{YEAR_18}/{BOS}{YEAR_18}_iter_impute.csv\""
   ]
  },
  {
   "cell_type": "markdown",
   "metadata": {},
   "source": [
    "#### Cleaning"
   ]
  },
  {
   "cell_type": "code",
   "execution_count": 20,
   "metadata": {},
   "outputs": [
    {
     "name": "stdout",
     "output_type": "stream",
     "text": [
      "** Removing Runners That did not start:\n",
      "Original rows count: 29978 || New rows count: 26919 || Dropped Rows: 3059\n",
      "** Dropping rows with splits that only contain time: Finished: 9 || Started: 0\n",
      "** Dropping rows with null values in `age_cat` and `gender` columns:\n",
      "Original rows count: 26910 || New rows count: 26910 || Dropped rows based on   age_cat  : 0\n",
      "Original rows count: 26910 || New rows count: 26910 || Dropped rows based on    gender  : 0\n",
      "** Replacing these age categories '70-74', '75-79', '80+' by '70+'\n",
      "** File has been saved in: `Marathons_Data/Clean/Boston/Boston2018/Boston2018_clean.csv`\n"
     ]
    }
   ],
   "source": [
    "df_bos = pd.read_csv(bos_file_raw_path, low_memory=False)\n",
    "# # Cleaning the DataFrame.\n",
    "df_bos = boston_cleaner(df_bos, SPLITS_KEYS, BOS_COLS_TO_DROP, COLS_ORDER)\n",
    "# # Check if the DataFrame is valid before saving it.\n",
    "if valid_df(df_bos):\n",
    "    save_df(df_bos, bos_file_cln_path)\n",
    "    print(f\"** File has been saved in: `{bos_file_cln_path}`\")"
   ]
  },
  {
   "cell_type": "markdown",
   "metadata": {},
   "source": [
    "#### Imputation"
   ]
  },
  {
   "cell_type": "code",
   "execution_count": 104,
   "metadata": {},
   "outputs": [],
   "source": [
    "df_bos = pd.read_csv(bos_file_cln_path, dtype=DTYPE_DICT)\n",
    "missing_indices = get_indices_of_rows_missing_data(df_bos, SPLITS_KEYS)"
   ]
  },
  {
   "cell_type": "code",
   "execution_count": 105,
   "metadata": {},
   "outputs": [
    {
     "name": "stdout",
     "output_type": "stream",
     "text": [
      "--------------------------------------------------\n",
      "--------------------------------------------------\n",
      "Invalid split time diff: k_15_time (non-cumulative) < (k_15_time - k_10_time - 5) OR k_15_time (non-cumulative) > (k_15_time - k_10_time + 5)\n",
      "Total Invalid: 519 || First 3 Indices: [  7 127 201]\n",
      "Invalid split time: k_10_time > k_15_time\n",
      "Total Invalid: 17 || First 3 Indices: [ 201  569 1486]\n",
      "--------------------------------------------------\n",
      "Invalid split time diff: k_20_time (non-cumulative) < (k_20_time - k_15_time - 5) OR k_20_time (non-cumulative) > (k_20_time - k_15_time + 5)\n",
      "Total Invalid: 1623 || First 3 Indices: [ 4 17 35]\n",
      "Invalid split time: k_15_time > k_20_time\n",
      "Total Invalid: 23 || First 3 Indices: [ 388  934 1268]\n",
      "--------------------------------------------------\n",
      "Invalid split time diff: k_half_time (non-cumulative) < (k_half_time - k_20_time - 5) OR k_half_time (non-cumulative) > (k_half_time - k_20_time + 5)\n",
      "Total Invalid: 78 || First 3 Indices: [421 691 812]\n",
      "Invalid split time: k_20_time > k_half_time\n",
      "Total Invalid: 23 || First 3 Indices: [ 421 1376 1435]\n",
      "--------------------------------------------------\n",
      "Invalid split time diff: k_25_time (non-cumulative) < (k_25_time - k_half_time - 5) OR k_25_time (non-cumulative) > (k_25_time - k_half_time + 5)\n",
      "Total Invalid: 900 || First 3 Indices: [ 7 51 56]\n",
      "Invalid split time: k_half_time > k_25_time\n",
      "Total Invalid: 2 || First 3 Indices: [ 475 4712]\n",
      "--------------------------------------------------\n",
      "Invalid split time diff: k_30_time (non-cumulative) < (k_30_time - k_25_time - 5) OR k_30_time (non-cumulative) > (k_30_time - k_25_time + 5)\n",
      "Total Invalid: 270 || First 3 Indices: [ 0 49 95]\n",
      "Invalid split time: k_25_time > k_30_time\n",
      "Total Invalid: 1 || First 3 Indices: [9309]\n",
      "--------------------------------------------------\n",
      "Invalid split time diff: k_35_time (non-cumulative) < (k_35_time - k_30_time - 5) OR k_35_time (non-cumulative) > (k_35_time - k_30_time + 5)\n",
      "Total Invalid: 24042 || First 3 Indices: [0 1 2]\n",
      "Invalid split time: k_30_time > k_35_time\n",
      "Total Invalid: 3 || First 3 Indices: [ 5572 22411 23136]\n",
      "--------------------------------------------------\n",
      "Invalid split time diff: k_40_time (non-cumulative) < (k_40_time - k_35_time - 5) OR k_40_time (non-cumulative) > (k_40_time - k_35_time + 5)\n",
      "Total Invalid: 1140 || First 3 Indices: [188 198 278]\n",
      "Invalid split time: k_35_time > k_40_time\n",
      "Total Invalid: 1 || First 3 Indices: [10281]\n",
      "--------------------------------------------------\n",
      "Invalid split time diff: k_finish_time (non-cumulative) < (k_finish_time - k_40_time - 5) OR k_finish_time (non-cumulative) > (k_finish_time - k_40_time + 5)\n",
      "Total Invalid: 24260 || First 3 Indices: [0 1 2]\n",
      "Invalid split time: k_40_time > k_finish_time\n",
      "Total Invalid: 10 || First 3 Indices: [ 3360  6567 11336]\n",
      "\n",
      "** Dropping invalid splits, Total Count: 25978 || Finished: 25714 || Started: 264\n"
     ]
    }
   ],
   "source": [
    "df_knn = preprocess_impute_fill(df_bos, missing_indices, knn_imputer, mms, SPLITS_KEYS, drop_invalid_splits=True)"
   ]
  },
  {
   "cell_type": "code",
   "execution_count": null,
   "metadata": {},
   "outputs": [],
   "source": [
    "df_iter = preprocess_impute_fill(df_bos, missing_indices, iter_imputer, mms, SPLITS_KEYS, drop_invalid_splits=True)"
   ]
  },
  {
   "cell_type": "code",
   "execution_count": null,
   "metadata": {},
   "outputs": [],
   "source": [
    "save_df(df_knn, bos_file_knn_imp_path)\n",
    "save_df(df_iter, bos_file_iter_imp_path)"
   ]
  },
  {
   "cell_type": "code",
   "execution_count": null,
   "metadata": {},
   "outputs": [],
   "source": [
    "del bos_file_raw_path, bos_file_cln_path, bos_file_knn_imp_path, bos_file_iter_imp_path, df_bos, df_knn, df_iter"
   ]
  },
  {
   "cell_type": "markdown",
   "metadata": {},
   "source": [
    "### 2019"
   ]
  },
  {
   "cell_type": "code",
   "execution_count": 120,
   "metadata": {},
   "outputs": [],
   "source": [
    "bos_file_raw_path = f\"{BOS_RAW_PATH}/{BOS}{YEAR_19}/{BOS}{YEAR_19}_full.csv\"\n",
    "bos_file_cln_path = f\"{BOS_CLN_PATH}/{BOS}{YEAR_19}/{BOS}{YEAR_19}_clean.csv\"\n",
    "bos_file_knn_imp_path = f\"{BOS_IMP_PATH}/{BOS}{YEAR_19}/{BOS}{YEAR_19}_knn_impute.csv\"\n",
    "bos_file_iter_imp_path = f\"{BOS_IMP_PATH}/{BOS}{YEAR_19}/{BOS}{YEAR_19}_iter_impute.csv\""
   ]
  },
  {
   "cell_type": "markdown",
   "metadata": {},
   "source": [
    "#### Cleaning"
   ]
  },
  {
   "cell_type": "code",
   "execution_count": 23,
   "metadata": {},
   "outputs": [
    {
     "name": "stdout",
     "output_type": "stream",
     "text": [
      "** Removing Runners That did not start:\n",
      "Original rows count: 30234 || New rows count: 27337 || Dropped Rows: 2897\n",
      "** Dropping rows with splits that only contain time: Finished: 37 || Started: 1\n",
      "** Dropping rows with null values in `age_cat` and `gender` columns:\n",
      "Original rows count: 27299 || New rows count: 27299 || Dropped rows based on   age_cat  : 0\n",
      "Original rows count: 27299 || New rows count: 27299 || Dropped rows based on    gender  : 0\n",
      "** Replacing these age categories '70-74', '75-79', '80+' by '70+'\n",
      "** File has been saved in: `Marathons_Data/Clean/Boston/Boston2019/Boston2019_clean.csv`\n"
     ]
    }
   ],
   "source": [
    "df_bos = pd.read_csv(bos_file_raw_path, low_memory=False)\n",
    "# # Cleaning the DataFrame.\n",
    "df_bos = boston_cleaner(df_bos, SPLITS_KEYS, BOS_COLS_TO_DROP, COLS_ORDER)\n",
    "# # Check if the DataFrame is valid before saving it.\n",
    "if valid_df(df_bos):\n",
    "    save_df(df_bos, bos_file_cln_path)\n",
    "    print(f\"** File has been saved in: `{bos_file_cln_path}`\")"
   ]
  },
  {
   "cell_type": "markdown",
   "metadata": {},
   "source": [
    "#### Imputation"
   ]
  },
  {
   "cell_type": "code",
   "execution_count": 121,
   "metadata": {},
   "outputs": [],
   "source": [
    "df_bos = pd.read_csv(bos_file_cln_path, dtype=DTYPE_DICT)\n",
    "missing_indices = get_indices_of_rows_missing_data(df_bos, SPLITS_KEYS)"
   ]
  },
  {
   "cell_type": "code",
   "execution_count": null,
   "metadata": {},
   "outputs": [],
   "source": [
    "df_knn = preprocess_impute_fill(df_bos, missing_indices, knn_imputer, mms, SPLITS_KEYS, drop_invalid_splits=True)"
   ]
  },
  {
   "cell_type": "code",
   "execution_count": null,
   "metadata": {},
   "outputs": [],
   "source": [
    "df_iter = preprocess_impute_fill(df_bos, missing_indices, iter_imputer, mms, SPLITS_KEYS, drop_invalid_splits=True)"
   ]
  },
  {
   "cell_type": "code",
   "execution_count": null,
   "metadata": {},
   "outputs": [],
   "source": [
    "save_df(df_knn, bos_file_knn_imp_path)\n",
    "save_df(df_iter, bos_file_iter_imp_path)"
   ]
  },
  {
   "cell_type": "code",
   "execution_count": null,
   "metadata": {},
   "outputs": [],
   "source": [
    "del bos_file_raw_path, bos_file_cln_path, bos_file_knn_imp_path, bos_file_iter_imp_path, df_bos, df_knn, df_iter"
   ]
  },
  {
   "cell_type": "markdown",
   "metadata": {},
   "source": [
    "### 2021"
   ]
  },
  {
   "cell_type": "code",
   "execution_count": 25,
   "metadata": {},
   "outputs": [],
   "source": [
    "bos_file_raw_path = f\"{BOS_RAW_PATH}/{BOS}{YEAR_21}/{BOS}{YEAR_21}_full.csv\"\n",
    "bos_file_cln_path = f\"{BOS_CLN_PATH}/{BOS}{YEAR_21}/{BOS}{YEAR_21}_clean.csv\"\n",
    "bos_file_knn_imp_path = f\"{BOS_IMP_PATH}/{BOS}{YEAR_21}/{BOS}{YEAR_21}_knn_impute.csv\"\n",
    "bos_file_iter_imp_path = f\"{BOS_IMP_PATH}/{BOS}{YEAR_21}/{BOS}{YEAR_21}_iter_impute.csv\""
   ]
  },
  {
   "cell_type": "markdown",
   "metadata": {},
   "source": [
    "#### Cleaning"
   ]
  },
  {
   "cell_type": "code",
   "execution_count": 26,
   "metadata": {},
   "outputs": [
    {
     "name": "stdout",
     "output_type": "stream",
     "text": [
      "** Removing Runners That did not start:\n",
      "Original rows count: 18074 || New rows count: 15645 || Dropped Rows: 2429\n",
      "** Dropping rows with splits that only contain time: Finished: 1 || Started: 0\n",
      "** Dropping rows with null values in `age_cat` and `gender` columns:\n",
      "Original rows count: 15644 || New rows count: 15644 || Dropped rows based on   age_cat  : 0\n",
      "Original rows count: 15644 || New rows count: 15644 || Dropped rows based on    gender  : 0\n",
      "** Replacing these age categories '70-74', '75-79', '80+' by '70+'\n",
      "** File has been saved in: `Marathons_Data/Clean/Boston/Boston2021/Boston2021_clean.csv`\n"
     ]
    }
   ],
   "source": [
    "df_bos = pd.read_csv(bos_file_raw_path, low_memory=False)\n",
    "# # Cleaning the DataFrame.\n",
    "df_bos = boston_cleaner(df_bos, SPLITS_KEYS, BOS_COLS_TO_DROP, COLS_ORDER)\n",
    "# # Check if the DataFrame is valid before saving it.\n",
    "if valid_df(df_bos):\n",
    "    save_df(df_bos, bos_file_cln_path)\n",
    "    print(f\"** File has been saved in: `{bos_file_cln_path}`\")"
   ]
  },
  {
   "cell_type": "markdown",
   "metadata": {},
   "source": [
    "#### Imputation"
   ]
  },
  {
   "cell_type": "code",
   "execution_count": 27,
   "metadata": {},
   "outputs": [],
   "source": [
    "del bos_file_raw_path, bos_file_cln_path, bos_file_imp_path, df_bos"
   ]
  },
  {
   "cell_type": "markdown",
   "metadata": {},
   "source": [
    "### 2022"
   ]
  },
  {
   "cell_type": "code",
   "execution_count": 28,
   "metadata": {},
   "outputs": [],
   "source": [
    "bos_file_raw_path = f\"{BOS_RAW_PATH}/{BOS}{YEAR_22}/{BOS}{YEAR_22}_full.csv\"\n",
    "bos_file_cln_path = f\"{BOS_CLN_PATH}/{BOS}{YEAR_22}/{BOS}{YEAR_22}_clean.csv\"\n",
    "bos_file_knn_imp_path = f\"{BOS_IMP_PATH}/{BOS}{YEAR_22}/{BOS}{YEAR_22}_knn_impute.csv\"\n",
    "bos_file_iter_imp_path = f\"{BOS_IMP_PATH}/{BOS}{YEAR_22}/{BOS}{YEAR_22}_iter_impute.csv\""
   ]
  },
  {
   "cell_type": "markdown",
   "metadata": {},
   "source": [
    "#### Cleaning"
   ]
  },
  {
   "cell_type": "code",
   "execution_count": 29,
   "metadata": {},
   "outputs": [
    {
     "name": "stdout",
     "output_type": "stream",
     "text": [
      "** Removing Runners That did not start:\n",
      "Original rows count: 28500 || New rows count: 25217 || Dropped Rows: 3283\n",
      "** Dropping rows with splits that only contain time: Finished: 4 || Started: 0\n",
      "** Dropping rows with null values in `age_cat` and `gender` columns:\n",
      "Original rows count: 25213 || New rows count: 25213 || Dropped rows based on   age_cat  : 0\n",
      "Original rows count: 25213 || New rows count: 25213 || Dropped rows based on    gender  : 0\n",
      "** Replacing these age categories '70-74', '75-79', '80+' by '70+'\n",
      "** File has been saved in: `Marathons_Data/Clean/Boston/Boston2022/Boston2022_clean.csv`\n"
     ]
    }
   ],
   "source": [
    "df_bos = pd.read_csv(bos_file_raw_path, low_memory=False)\n",
    "# # Cleaning the DataFrame.\n",
    "df_bos = boston_cleaner(df_bos, SPLITS_KEYS, BOS_COLS_TO_DROP, COLS_ORDER)\n",
    "# # Check if the DataFrame is valid before saving it.\n",
    "if valid_df(df_bos):\n",
    "    save_df(df_bos, bos_file_cln_path)\n",
    "    print(f\"** File has been saved in: `{bos_file_cln_path}`\")"
   ]
  },
  {
   "cell_type": "markdown",
   "metadata": {},
   "source": [
    "#### Imputation"
   ]
  },
  {
   "cell_type": "code",
   "execution_count": 30,
   "metadata": {},
   "outputs": [],
   "source": [
    "del bos_file_raw_path, bos_file_cln_path, bos_file_imp_path, df_bos"
   ]
  },
  {
   "cell_type": "markdown",
   "metadata": {},
   "source": [
    "### 2023"
   ]
  },
  {
   "cell_type": "code",
   "execution_count": 31,
   "metadata": {},
   "outputs": [],
   "source": [
    "bos_file_raw_path = f\"{BOS_RAW_PATH}/{BOS}{YEAR_23}/{BOS}{YEAR_23}_full.csv\"\n",
    "bos_file_cln_path = f\"{BOS_CLN_PATH}/{BOS}{YEAR_23}/{BOS}{YEAR_23}_clean.csv\"\n",
    "bos_file_knn_imp_path = f\"{BOS_IMP_PATH}/{BOS}{YEAR_23}/{BOS}{YEAR_23}_knn_impute.csv\"\n",
    "bos_file_iter_imp_path = f\"{BOS_IMP_PATH}/{BOS}{YEAR_23}/{BOS}{YEAR_23}_iter_impute.csv\""
   ]
  },
  {
   "cell_type": "markdown",
   "metadata": {},
   "source": [
    "#### Cleaning"
   ]
  },
  {
   "cell_type": "code",
   "execution_count": 32,
   "metadata": {},
   "outputs": [
    {
     "name": "stdout",
     "output_type": "stream",
     "text": [
      "** Removing Runners That did not start:\n",
      "Original rows count: 30105 || New rows count: 27058 || Dropped Rows: 3047\n",
      "** Dropping rows with splits that only contain time: Finished: 3 || Started: 0\n",
      "** Dropping rows with null values in `age_cat` and `gender` columns:\n",
      "Original rows count: 27055 || New rows count: 27055 || Dropped rows based on   age_cat  : 0\n",
      "Original rows count: 27055 || New rows count: 27055 || Dropped rows based on    gender  : 0\n",
      "** Replacing these age categories '70-74', '75-79', '80+' by '70+'\n",
      "** File has been saved in: `Marathons_Data/Clean/Boston/Boston2023/Boston2023_clean.csv`\n"
     ]
    }
   ],
   "source": [
    "df_bos = pd.read_csv(bos_file_raw_path, low_memory=False)\n",
    "# # Cleaning the DataFrame.\n",
    "df_bos = boston_cleaner(df_bos, SPLITS_KEYS, BOS_COLS_TO_DROP, COLS_ORDER)\n",
    "# # Check if the DataFrame is valid before saving it.\n",
    "if valid_df(df_bos):\n",
    "    save_df(df_bos, bos_file_cln_path)\n",
    "    print(f\"** File has been saved in: `{bos_file_cln_path}`\")"
   ]
  },
  {
   "cell_type": "markdown",
   "metadata": {},
   "source": [
    "#### Imputation"
   ]
  },
  {
   "cell_type": "code",
   "execution_count": 33,
   "metadata": {},
   "outputs": [],
   "source": [
    "del bos_file_raw_path, bos_file_cln_path, bos_file_imp_path, df_bos"
   ]
  },
  {
   "attachments": {},
   "cell_type": "markdown",
   "metadata": {},
   "source": [
    "## Chicago"
   ]
  },
  {
   "cell_type": "code",
   "execution_count": 4,
   "metadata": {},
   "outputs": [],
   "source": [
    "CHI_COLS_TO_DROP = [\"idp\", \"finish\", \"run_no\"] "
   ]
  },
  {
   "cell_type": "markdown",
   "metadata": {},
   "source": [
    "### 2014"
   ]
  },
  {
   "cell_type": "code",
   "execution_count": 5,
   "metadata": {},
   "outputs": [],
   "source": [
    "chi_file_raw_path = f\"{CHI_RAW_PATH}/{CHI}{YEAR_14}/{CHI}{YEAR_14}_full.csv\"\n",
    "chi_file_cln_path = f\"{CHI_CLN_PATH}/{CHI}{YEAR_14}/{CHI}{YEAR_14}_clean.csv\"\n",
    "chi_file_knn_imp_path = f\"{CHI_IMP_PATH}/{CHI}{YEAR_14}/{CHI}{YEAR_14}_knn_impute.csv\"\n",
    "chi_file_iter_imp_path = f\"{CHI_IMP_PATH}/{CHI}{YEAR_14}/{CHI}{YEAR_14}_iter_impute.csv\""
   ]
  },
  {
   "cell_type": "markdown",
   "metadata": {},
   "source": [
    "#### Cleaning"
   ]
  },
  {
   "cell_type": "code",
   "execution_count": 6,
   "metadata": {},
   "outputs": [
    {
     "name": "stdout",
     "output_type": "stream",
     "text": [
      "** Removing Runners That did not start:\n",
      "Original rows count: 50216 || New rows count: 41715 || Dropped Rows: 8501\n",
      "** Dropping rows with null values in `age_cat` and `gender` columns:\n",
      "Original rows count: 41715 || New rows count: 41715 || Dropped rows based on   age_cat  : 0\n",
      "Original rows count: 41715 || New rows count: 41715 || Dropped rows based on    gender  : 0\n",
      "** Dropping rows with splits that only contain time: Finished: 27 || Started: 0\n",
      "** Dropping rows with invalid age categories [W-15, M-15, 19 and under]:\n",
      "Original rows count: 41688 || New rows count: 41323 || Dropped rows: 365\n",
      "** Replacing these age categories '20-24', '25-29', '30-34', and '35-39' by '18-39'\n",
      "** Replacing these age categories '70-74', '75-79', '80+' by '70+'\n",
      "** File has been saved in: `Marathons_Data/Clean/Chicago/Chicago2014/Chicago2014_clean.csv`\n"
     ]
    }
   ],
   "source": [
    "df_chi = pd.read_csv(chi_file_raw_path)\n",
    "# Cleaning the DataFrame.\n",
    "df_chi = chicago_cleaner(df_chi, SPLITS_KEYS, CHI_COLS_TO_DROP, SPLIT_NAME_DICT, COLS_ORDER)\n",
    "# Check if the DataFrame is valid before saving it.\n",
    "if valid_df(df_chi):\n",
    "    save_df(df_chi, chi_file_cln_path)\n",
    "    print(f\"** File has been saved in: `{chi_file_cln_path}`\")"
   ]
  },
  {
   "cell_type": "markdown",
   "metadata": {},
   "source": [
    "#### Imputation"
   ]
  },
  {
   "cell_type": "code",
   "execution_count": 6,
   "metadata": {},
   "outputs": [],
   "source": [
    "df_chi = pd.read_csv(chi_file_cln_path, dtype=DTYPE_DICT)\n",
    "missing_indices = get_indices_of_rows_missing_data(df_chi, SPLITS_KEYS)"
   ]
  },
  {
   "cell_type": "code",
   "execution_count": 7,
   "metadata": {},
   "outputs": [
    {
     "name": "stdout",
     "output_type": "stream",
     "text": [
      "--------------------------------------------------\n",
      "--------------------------------------------------\n",
      "Invalid split time diff: k_15_time (non-cumulative) < (k_15_time - k_10_time - 5) OR k_15_time (non-cumulative) > (k_15_time - k_10_time + 5)\n",
      "Total Invalid: 100 || First 3 Indices: [  64  941 3306]\n",
      "Invalid split time: k_10_time > k_15_time\n",
      "Total Invalid: 11 || First 3 Indices: [  64  941 3306]\n",
      "--------------------------------------------------\n",
      "Invalid split time diff: k_20_time (non-cumulative) < (k_20_time - k_15_time - 5) OR k_20_time (non-cumulative) > (k_20_time - k_15_time + 5)\n",
      "Total Invalid: 59 || First 3 Indices: [ 810  976 1347]\n",
      "Invalid split time: k_15_time > k_20_time\n",
      "Total Invalid: 7 || First 3 Indices: [ 7928 19273 20284]\n",
      "--------------------------------------------------\n",
      "Invalid split time diff: k_half_time (non-cumulative) < (k_half_time - k_20_time - 5) OR k_half_time (non-cumulative) > (k_half_time - k_20_time + 5)\n",
      "Total Invalid: 64 || First 3 Indices: [171 348 704]\n",
      "Invalid split time: k_20_time > k_half_time\n",
      "Total Invalid: 18 || First 3 Indices: [ 171 1136 1382]\n",
      "--------------------------------------------------\n",
      "Invalid split time diff: k_25_time (non-cumulative) < (k_25_time - k_half_time - 5) OR k_25_time (non-cumulative) > (k_25_time - k_half_time + 5)\n",
      "Total Invalid: 135 || First 3 Indices: [ 147 1176 1237]\n",
      "Invalid split time: k_half_time > k_25_time\n",
      "Total Invalid: 21 || First 3 Indices: [ 147 1176 1237]\n",
      "--------------------------------------------------\n",
      "Invalid split time diff: k_30_time (non-cumulative) < (k_30_time - k_25_time - 5) OR k_30_time (non-cumulative) > (k_30_time - k_25_time + 5)\n",
      "Total Invalid: 89 || First 3 Indices: [163 171 348]\n",
      "Invalid split time: k_25_time > k_30_time\n",
      "Total Invalid: 6 || First 3 Indices: [ 171 4425 8408]\n",
      "--------------------------------------------------\n",
      "Invalid split time diff: k_35_time (non-cumulative) < (k_35_time - k_30_time - 5) OR k_35_time (non-cumulative) > (k_35_time - k_30_time + 5)\n",
      "Total Invalid: 85 || First 3 Indices: [1136 2634 3999]\n",
      "Invalid split time: k_30_time > k_35_time\n",
      "Total Invalid: 28 || First 3 Indices: [4197 4627 5101]\n",
      "--------------------------------------------------\n",
      "Invalid split time diff: k_40_time (non-cumulative) < (k_40_time - k_35_time - 5) OR k_40_time (non-cumulative) > (k_40_time - k_35_time + 5)\n",
      "Total Invalid: 121 || First 3 Indices: [ 231 2303 2327]\n",
      "Invalid split time: k_35_time > k_40_time\n",
      "Total Invalid: 27 || First 3 Indices: [ 231 2303 2327]\n",
      "--------------------------------------------------\n",
      "Invalid split time diff: k_finish_time (non-cumulative) < (k_finish_time - k_40_time - 5) OR k_finish_time (non-cumulative) > (k_finish_time - k_40_time + 5)\n",
      "Total Invalid: 406 || First 3 Indices: [658 699 708]\n",
      "Invalid split time: k_40_time > k_finish_time\n",
      "Total Invalid: 64 || First 3 Indices: [658 699 708]\n",
      "\n",
      "** Dropping invalid splits, Total Count: 918 || Finished: 847 || Started: 71\n"
     ]
    }
   ],
   "source": [
    "df_knn = preprocess_impute_fill(df_chi, missing_indices, knn_imputer, mms, SPLITS_KEYS, drop_invalid_splits=True)"
   ]
  },
  {
   "cell_type": "code",
   "execution_count": 8,
   "metadata": {},
   "outputs": [
    {
     "name": "stdout",
     "output_type": "stream",
     "text": [
      "--------------------------------------------------\n",
      "--------------------------------------------------\n",
      "Invalid split time diff: k_15_time (non-cumulative) < (k_15_time - k_10_time - 5) OR k_15_time (non-cumulative) > (k_15_time - k_10_time + 5)\n",
      "Total Invalid: 99 || First 3 Indices: [  64  941 3306]\n",
      "Invalid split time: k_10_time > k_15_time\n",
      "Total Invalid: 1 || First 3 Indices: [17613]\n",
      "--------------------------------------------------\n",
      "Invalid split time diff: k_20_time (non-cumulative) < (k_20_time - k_15_time - 5) OR k_20_time (non-cumulative) > (k_20_time - k_15_time + 5)\n",
      "Total Invalid: 60 || First 3 Indices: [ 810  976 1347]\n",
      "Invalid split time: k_15_time > k_20_time\n",
      "Total Invalid: 1 || First 3 Indices: [26238]\n",
      "--------------------------------------------------\n",
      "Invalid split time diff: k_half_time (non-cumulative) < (k_half_time - k_20_time - 5) OR k_half_time (non-cumulative) > (k_half_time - k_20_time + 5)\n",
      "Total Invalid: 64 || First 3 Indices: [171 348 704]\n",
      "Invalid split time: k_20_time > k_half_time\n",
      "Total Invalid: 11 || First 3 Indices: [ 171  348 1382]\n",
      "--------------------------------------------------\n",
      "Invalid split time diff: k_25_time (non-cumulative) < (k_25_time - k_half_time - 5) OR k_25_time (non-cumulative) > (k_25_time - k_half_time + 5)\n",
      "Total Invalid: 135 || First 3 Indices: [ 147 1176 1237]\n",
      "Invalid split time: k_half_time > k_25_time\n",
      "Total Invalid: 22 || First 3 Indices: [ 147 1176 1237]\n",
      "--------------------------------------------------\n",
      "Invalid split time diff: k_30_time (non-cumulative) < (k_30_time - k_25_time - 5) OR k_30_time (non-cumulative) > (k_30_time - k_25_time + 5)\n",
      "Total Invalid: 89 || First 3 Indices: [163 171 348]\n",
      "Invalid split time: k_25_time > k_30_time\n",
      "Total Invalid: 4 || First 3 Indices: [ 4425  8408 13339]\n",
      "--------------------------------------------------\n",
      "Invalid split time diff: k_35_time (non-cumulative) < (k_35_time - k_30_time - 5) OR k_35_time (non-cumulative) > (k_35_time - k_30_time + 5)\n",
      "Total Invalid: 85 || First 3 Indices: [1136 2634 3999]\n",
      "Invalid split time: k_30_time > k_35_time\n",
      "Total Invalid: 22 || First 3 Indices: [4197 5101 5243]\n",
      "--------------------------------------------------\n",
      "Invalid split time diff: k_40_time (non-cumulative) < (k_40_time - k_35_time - 5) OR k_40_time (non-cumulative) > (k_40_time - k_35_time + 5)\n",
      "Total Invalid: 120 || First 3 Indices: [ 231 2303 2327]\n",
      "Invalid split time: k_35_time > k_40_time\n",
      "Total Invalid: 28 || First 3 Indices: [ 231 2303 2327]\n",
      "--------------------------------------------------\n",
      "Invalid split time diff: k_finish_time (non-cumulative) < (k_finish_time - k_40_time - 5) OR k_finish_time (non-cumulative) > (k_finish_time - k_40_time + 5)\n",
      "Total Invalid: 405 || First 3 Indices: [658 699 708]\n",
      "Invalid split time: k_40_time > k_finish_time\n",
      "Total Invalid: 82 || First 3 Indices: [ 658  699 3867]\n",
      "\n",
      "** Dropping invalid splits, Total Count: 918 || Finished: 847 || Started: 71\n"
     ]
    },
    {
     "name": "stderr",
     "output_type": "stream",
     "text": [
      "/Users/sika/miniforge3/envs/ML_mac_23/lib/python3.10/site-packages/sklearn/impute/_iterative.py:785: ConvergenceWarning: [IterativeImputer] Early stopping criterion not reached.\n",
      "  warnings.warn(\n"
     ]
    }
   ],
   "source": [
    "df_iter = preprocess_impute_fill(df_chi, missing_indices, iter_imputer, mms, SPLITS_KEYS, drop_invalid_splits=True)"
   ]
  },
  {
   "cell_type": "code",
   "execution_count": 9,
   "metadata": {},
   "outputs": [],
   "source": [
    "save_df(df_knn, chi_file_knn_imp_path)\n",
    "save_df(df_iter, chi_file_iter_imp_path)"
   ]
  },
  {
   "cell_type": "code",
   "execution_count": 10,
   "metadata": {},
   "outputs": [],
   "source": [
    "del chi_file_raw_path, chi_file_cln_path, chi_file_knn_imp_path, chi_file_iter_imp_path, df_chi, df_knn, df_iter"
   ]
  },
  {
   "cell_type": "markdown",
   "metadata": {},
   "source": [
    "### 2015"
   ]
  },
  {
   "cell_type": "code",
   "execution_count": 11,
   "metadata": {},
   "outputs": [],
   "source": [
    "chi_file_raw_path = f\"{CHI_RAW_PATH}/{CHI}{YEAR_15}/{CHI}{YEAR_15}_full.csv\"\n",
    "chi_file_cln_path = f\"{CHI_CLN_PATH}/{CHI}{YEAR_15}/{CHI}{YEAR_15}_clean.csv\"\n",
    "chi_file_knn_imp_path = f\"{CHI_IMP_PATH}/{CHI}{YEAR_15}/{CHI}{YEAR_15}_knn_impute.csv\"\n",
    "chi_file_iter_imp_path = f\"{CHI_IMP_PATH}/{CHI}{YEAR_15}/{CHI}{YEAR_15}_iter_impute.csv\""
   ]
  },
  {
   "cell_type": "markdown",
   "metadata": {},
   "source": [
    "#### Cleaning"
   ]
  },
  {
   "cell_type": "code",
   "execution_count": 9,
   "metadata": {},
   "outputs": [
    {
     "name": "stdout",
     "output_type": "stream",
     "text": [
      "** Removing Runners That did not start:\n",
      "Original rows count: 46032 || New rows count: 39219 || Dropped Rows: 6813\n",
      "** Dropping rows with null values in `age_cat` and `gender` columns:\n",
      "Original rows count: 39219 || New rows count: 39219 || Dropped rows based on   age_cat  : 0\n",
      "Original rows count: 39219 || New rows count: 39219 || Dropped rows based on    gender  : 0\n",
      "** Dropping rows with splits that only contain time: Finished: 18 || Started: 1\n",
      "** Dropping rows with invalid age categories [W-15, M-15, 19 and under]:\n",
      "Original rows count: 39200 || New rows count: 38868 || Dropped rows: 332\n",
      "** Replacing these age categories '20-24', '25-29', '30-34', and '35-39' by '18-39'\n",
      "** Replacing these age categories '70-74', '75-79', '80+' by '70+'\n",
      "** File has been saved in: `Marathons_Data/Clean/Chicago/Chicago2015/Chicago2015_clean.csv`\n"
     ]
    }
   ],
   "source": [
    "df_chi = pd.read_csv(chi_file_raw_path)\n",
    "# Cleaning the DataFrame.\n",
    "df_chi = chicago_cleaner(df_chi, SPLITS_KEYS, CHI_COLS_TO_DROP, SPLIT_NAME_DICT, COLS_ORDER)\n",
    "# Check if the DataFrame is valid before saving it.\n",
    "if valid_df(df_chi):\n",
    "    save_df(df_chi, chi_file_cln_path)\n",
    "    print(f\"** File has been saved in: `{chi_file_cln_path}`\")"
   ]
  },
  {
   "cell_type": "markdown",
   "metadata": {},
   "source": [
    "#### Imputation"
   ]
  },
  {
   "cell_type": "code",
   "execution_count": 12,
   "metadata": {},
   "outputs": [],
   "source": [
    "df_chi = pd.read_csv(chi_file_cln_path, dtype=DTYPE_DICT)\n",
    "missing_indices = get_indices_of_rows_missing_data(df_chi, SPLITS_KEYS)"
   ]
  },
  {
   "cell_type": "code",
   "execution_count": 13,
   "metadata": {},
   "outputs": [
    {
     "name": "stdout",
     "output_type": "stream",
     "text": [
      "--------------------------------------------------\n",
      "--------------------------------------------------\n",
      "Invalid split time diff: k_15_time (non-cumulative) < (k_15_time - k_10_time - 5) OR k_15_time (non-cumulative) > (k_15_time - k_10_time + 5)\n",
      "Total Invalid: 45 || First 3 Indices: [ 77 575 986]\n",
      "Invalid split time: k_10_time > k_15_time\n",
      "Total Invalid: 13 || First 3 Indices: [  77  986 1402]\n",
      "--------------------------------------------------\n",
      "Invalid split time diff: k_20_time (non-cumulative) < (k_20_time - k_15_time - 5) OR k_20_time (non-cumulative) > (k_20_time - k_15_time + 5)\n",
      "Total Invalid: 51 || First 3 Indices: [ 836 1098 2554]\n",
      "Invalid split time: k_15_time > k_20_time\n",
      "Total Invalid: 7 || First 3 Indices: [ 8797 16389 16950]\n",
      "--------------------------------------------------\n",
      "Invalid split time diff: k_half_time (non-cumulative) < (k_half_time - k_20_time - 5) OR k_half_time (non-cumulative) > (k_half_time - k_20_time + 5)\n",
      "Total Invalid: 35 || First 3 Indices: [ 196 2410 2443]\n",
      "Invalid split time: k_20_time > k_half_time\n",
      "Total Invalid: 8 || First 3 Indices: [2443 3494 9148]\n",
      "--------------------------------------------------\n",
      "Invalid split time diff: k_25_time (non-cumulative) < (k_25_time - k_half_time - 5) OR k_25_time (non-cumulative) > (k_25_time - k_half_time + 5)\n",
      "Total Invalid: 122 || First 3 Indices: [1424 5985 6386]\n",
      "Invalid split time: k_half_time > k_25_time\n",
      "Total Invalid: 8 || First 3 Indices: [ 8463  8545 11319]\n",
      "--------------------------------------------------\n",
      "Invalid split time diff: k_30_time (non-cumulative) < (k_30_time - k_25_time - 5) OR k_30_time (non-cumulative) > (k_30_time - k_25_time + 5)\n",
      "Total Invalid: 187 || First 3 Indices: [ 736 1098 2404]\n",
      "Invalid split time: k_25_time > k_30_time\n",
      "Total Invalid: 14 || First 3 Indices: [10159 12058 13889]\n",
      "--------------------------------------------------\n",
      "Invalid split time diff: k_35_time (non-cumulative) < (k_35_time - k_30_time - 5) OR k_35_time (non-cumulative) > (k_35_time - k_30_time + 5)\n",
      "Total Invalid: 64 || First 3 Indices: [ 646 2235 6852]\n",
      "Invalid split time: k_30_time > k_35_time\n",
      "Total Invalid: 10 || First 3 Indices: [  646  9154 10061]\n",
      "--------------------------------------------------\n",
      "Invalid split time diff: k_40_time (non-cumulative) < (k_40_time - k_35_time - 5) OR k_40_time (non-cumulative) > (k_40_time - k_35_time + 5)\n",
      "Total Invalid: 80 || First 3 Indices: [  50  718 1282]\n",
      "Invalid split time: k_35_time > k_40_time\n",
      "Total Invalid: 10 || First 3 Indices: [   50  3978 13316]\n",
      "--------------------------------------------------\n",
      "Invalid split time diff: k_finish_time (non-cumulative) < (k_finish_time - k_40_time - 5) OR k_finish_time (non-cumulative) > (k_finish_time - k_40_time + 5)\n",
      "Total Invalid: 151 || First 3 Indices: [1267 1402 1800]\n",
      "Invalid split time: k_40_time > k_finish_time\n",
      "Total Invalid: 53 || First 3 Indices: [1800 2443 3930]\n",
      "\n",
      "** Dropping invalid splits, Total Count: 672 || Finished: 540 || Started: 132\n"
     ]
    }
   ],
   "source": [
    "df_knn = preprocess_impute_fill(df_chi, missing_indices, knn_imputer, mms, SPLITS_KEYS, drop_invalid_splits=True)"
   ]
  },
  {
   "cell_type": "code",
   "execution_count": 14,
   "metadata": {},
   "outputs": [
    {
     "name": "stdout",
     "output_type": "stream",
     "text": [
      "--------------------------------------------------\n",
      "--------------------------------------------------\n",
      "Invalid split time diff: k_15_time (non-cumulative) < (k_15_time - k_10_time - 5) OR k_15_time (non-cumulative) > (k_15_time - k_10_time + 5)\n",
      "Total Invalid: 44 || First 3 Indices: [ 77 575 986]\n",
      "--------------------------------------------------\n",
      "Invalid split time diff: k_20_time (non-cumulative) < (k_20_time - k_15_time - 5) OR k_20_time (non-cumulative) > (k_20_time - k_15_time + 5)\n",
      "Total Invalid: 52 || First 3 Indices: [ 836 1098 1378]\n",
      "Invalid split time: k_15_time > k_20_time\n",
      "Total Invalid: 2 || First 3 Indices: [16389 16950]\n",
      "--------------------------------------------------\n",
      "Invalid split time diff: k_half_time (non-cumulative) < (k_half_time - k_20_time - 5) OR k_half_time (non-cumulative) > (k_half_time - k_20_time + 5)\n",
      "Total Invalid: 36 || First 3 Indices: [ 196 2410 2443]\n",
      "Invalid split time: k_20_time > k_half_time\n",
      "Total Invalid: 6 || First 3 Indices: [ 2443 21267 36406]\n",
      "--------------------------------------------------\n",
      "Invalid split time diff: k_25_time (non-cumulative) < (k_25_time - k_half_time - 5) OR k_25_time (non-cumulative) > (k_25_time - k_half_time + 5)\n",
      "Total Invalid: 118 || First 3 Indices: [1424 5985 6386]\n",
      "Invalid split time: k_half_time > k_25_time\n",
      "Total Invalid: 6 || First 3 Indices: [ 8545 11319 17166]\n",
      "--------------------------------------------------\n",
      "Invalid split time diff: k_30_time (non-cumulative) < (k_30_time - k_25_time - 5) OR k_30_time (non-cumulative) > (k_30_time - k_25_time + 5)\n",
      "Total Invalid: 186 || First 3 Indices: [ 736 1098 2404]\n",
      "Invalid split time: k_25_time > k_30_time\n",
      "Total Invalid: 6 || First 3 Indices: [10159 16809 17964]\n",
      "--------------------------------------------------\n",
      "Invalid split time diff: k_35_time (non-cumulative) < (k_35_time - k_30_time - 5) OR k_35_time (non-cumulative) > (k_35_time - k_30_time + 5)\n",
      "Total Invalid: 64 || First 3 Indices: [ 646 2235 6852]\n",
      "Invalid split time: k_30_time > k_35_time\n",
      "Total Invalid: 9 || First 3 Indices: [  646  9154 10061]\n",
      "--------------------------------------------------\n",
      "Invalid split time diff: k_40_time (non-cumulative) < (k_40_time - k_35_time - 5) OR k_40_time (non-cumulative) > (k_40_time - k_35_time + 5)\n",
      "Total Invalid: 78 || First 3 Indices: [  50  718 1282]\n",
      "Invalid split time: k_35_time > k_40_time\n",
      "Total Invalid: 11 || First 3 Indices: [ 3978 13316 15666]\n",
      "--------------------------------------------------\n",
      "Invalid split time diff: k_finish_time (non-cumulative) < (k_finish_time - k_40_time - 5) OR k_finish_time (non-cumulative) > (k_finish_time - k_40_time + 5)\n",
      "Total Invalid: 153 || First 3 Indices: [1267 1402 1800]\n",
      "Invalid split time: k_40_time > k_finish_time\n",
      "Total Invalid: 60 || First 3 Indices: [1267 1800 3812]\n",
      "\n",
      "** Dropping invalid splits, Total Count: 669 || Finished: 538 || Started: 131\n"
     ]
    },
    {
     "name": "stderr",
     "output_type": "stream",
     "text": [
      "/Users/sika/miniforge3/envs/ML_mac_23/lib/python3.10/site-packages/sklearn/impute/_iterative.py:785: ConvergenceWarning: [IterativeImputer] Early stopping criterion not reached.\n",
      "  warnings.warn(\n"
     ]
    }
   ],
   "source": [
    "df_iter = preprocess_impute_fill(df_chi, missing_indices, iter_imputer, mms, SPLITS_KEYS, drop_invalid_splits=True)"
   ]
  },
  {
   "cell_type": "code",
   "execution_count": 15,
   "metadata": {},
   "outputs": [],
   "source": [
    "save_df(df_knn, chi_file_knn_imp_path)\n",
    "save_df(df_iter, chi_file_iter_imp_path)"
   ]
  },
  {
   "cell_type": "code",
   "execution_count": 16,
   "metadata": {},
   "outputs": [],
   "source": [
    "del chi_file_raw_path, chi_file_cln_path, chi_file_knn_imp_path, chi_file_iter_imp_path, df_chi, df_knn, df_iter"
   ]
  },
  {
   "cell_type": "markdown",
   "metadata": {},
   "source": [
    "### 2016"
   ]
  },
  {
   "cell_type": "code",
   "execution_count": 17,
   "metadata": {},
   "outputs": [],
   "source": [
    "chi_file_raw_path = f\"{CHI_RAW_PATH}/{CHI}{YEAR_16}/{CHI}{YEAR_16}_full.csv\"\n",
    "chi_file_cln_path = f\"{CHI_CLN_PATH}/{CHI}{YEAR_16}/{CHI}{YEAR_16}_clean.csv\"\n",
    "chi_file_knn_imp_path = f\"{CHI_IMP_PATH}/{CHI}{YEAR_16}/{CHI}{YEAR_16}_knn_impute.csv\"\n",
    "chi_file_iter_imp_path = f\"{CHI_IMP_PATH}/{CHI}{YEAR_16}/{CHI}{YEAR_16}_iter_impute.csv\""
   ]
  },
  {
   "cell_type": "markdown",
   "metadata": {},
   "source": [
    "#### Cleaning"
   ]
  },
  {
   "cell_type": "code",
   "execution_count": 12,
   "metadata": {},
   "outputs": [
    {
     "name": "stdout",
     "output_type": "stream",
     "text": [
      "** Removing Runners That did not start:\n",
      "Original rows count: 49067 || New rows count: 41469 || Dropped Rows: 7598\n",
      "** Dropping rows with null values in `age_cat` and `gender` columns:\n",
      "Original rows count: 41469 || New rows count: 41468 || Dropped rows based on   age_cat  : 1\n",
      "Original rows count: 41468 || New rows count: 41468 || Dropped rows based on    gender  : 0\n",
      "** Dropping rows with splits that only contain time: Finished: 22 || Started: 0\n",
      "** Dropping rows with invalid age categories [W-15, M-15, 19 and under]:\n",
      "Original rows count: 41446 || New rows count: 41141 || Dropped rows: 305\n",
      "** Replacing these age categories '20-24', '25-29', '30-34', and '35-39' by '18-39'\n",
      "** Replacing these age categories '70-74', '75-79', '80+' by '70+'\n",
      "** File has been saved in: `Marathons_Data/Clean/Chicago/Chicago2016/Chicago2016_clean.csv`\n"
     ]
    }
   ],
   "source": [
    "df_chi = pd.read_csv(chi_file_raw_path)\n",
    "# Cleaning the DataFrame.\n",
    "df_chi = chicago_cleaner(df_chi, SPLITS_KEYS, CHI_COLS_TO_DROP, SPLIT_NAME_DICT, COLS_ORDER)\n",
    "# Check if the DataFrame is valid before saving it.\n",
    "if valid_df(df_chi):\n",
    "    save_df(df_chi, chi_file_cln_path)\n",
    "    print(f\"** File has been saved in: `{chi_file_cln_path}`\")"
   ]
  },
  {
   "cell_type": "markdown",
   "metadata": {},
   "source": [
    "#### Imputation"
   ]
  },
  {
   "cell_type": "code",
   "execution_count": 18,
   "metadata": {},
   "outputs": [],
   "source": [
    "df_chi = pd.read_csv(chi_file_cln_path, dtype=DTYPE_DICT)\n",
    "missing_indices = get_indices_of_rows_missing_data(df_chi, SPLITS_KEYS)"
   ]
  },
  {
   "cell_type": "code",
   "execution_count": 19,
   "metadata": {},
   "outputs": [
    {
     "name": "stdout",
     "output_type": "stream",
     "text": [
      "--------------------------------------------------\n",
      "--------------------------------------------------\n",
      "Invalid split time diff: k_15_time (non-cumulative) < (k_15_time - k_10_time - 5) OR k_15_time (non-cumulative) > (k_15_time - k_10_time + 5)\n",
      "Total Invalid: 67 || First 3 Indices: [1945 2366 2908]\n",
      "Invalid split time: k_10_time > k_15_time\n",
      "Total Invalid: 5 || First 3 Indices: [ 4411  7962 15862]\n",
      "--------------------------------------------------\n",
      "Invalid split time diff: k_20_time (non-cumulative) < (k_20_time - k_15_time - 5) OR k_20_time (non-cumulative) > (k_20_time - k_15_time + 5)\n",
      "Total Invalid: 78 || First 3 Indices: [ 776 1528 1538]\n",
      "Invalid split time: k_15_time > k_20_time\n",
      "Total Invalid: 9 || First 3 Indices: [ 1538 11723 13998]\n",
      "--------------------------------------------------\n",
      "Invalid split time diff: k_half_time (non-cumulative) < (k_half_time - k_20_time - 5) OR k_half_time (non-cumulative) > (k_half_time - k_20_time + 5)\n",
      "Total Invalid: 62 || First 3 Indices: [ 73 703 938]\n",
      "Invalid split time: k_20_time > k_half_time\n",
      "Total Invalid: 12 || First 3 Indices: [ 1004  4534 10493]\n",
      "--------------------------------------------------\n",
      "Invalid split time diff: k_25_time (non-cumulative) < (k_25_time - k_half_time - 5) OR k_25_time (non-cumulative) > (k_25_time - k_half_time + 5)\n",
      "Total Invalid: 86 || First 3 Indices: [1115 1192 3659]\n",
      "Invalid split time: k_half_time > k_25_time\n",
      "Total Invalid: 7 || First 3 Indices: [ 1115  5562 36109]\n",
      "--------------------------------------------------\n",
      "Invalid split time diff: k_30_time (non-cumulative) < (k_30_time - k_25_time - 5) OR k_30_time (non-cumulative) > (k_30_time - k_25_time + 5)\n",
      "Total Invalid: 154 || First 3 Indices: [134 176 776]\n",
      "Invalid split time: k_25_time > k_30_time\n",
      "Total Invalid: 12 || First 3 Indices: [ 176 4758 5859]\n",
      "--------------------------------------------------\n",
      "Invalid split time diff: k_35_time (non-cumulative) < (k_35_time - k_30_time - 5) OR k_35_time (non-cumulative) > (k_35_time - k_30_time + 5)\n",
      "Total Invalid: 57 || First 3 Indices: [1151 1828 5818]\n",
      "Invalid split time: k_30_time > k_35_time\n",
      "Total Invalid: 10 || First 3 Indices: [ 9522 11308 15215]\n",
      "--------------------------------------------------\n",
      "Invalid split time diff: k_40_time (non-cumulative) < (k_40_time - k_35_time - 5) OR k_40_time (non-cumulative) > (k_40_time - k_35_time + 5)\n",
      "Total Invalid: 519 || First 3 Indices: [ 132 1819 2150]\n",
      "Invalid split time: k_35_time > k_40_time\n",
      "Total Invalid: 13 || First 3 Indices: [3356 3378 4005]\n",
      "--------------------------------------------------\n",
      "Invalid split time diff: k_finish_time (non-cumulative) < (k_finish_time - k_40_time - 5) OR k_finish_time (non-cumulative) > (k_finish_time - k_40_time + 5)\n",
      "Total Invalid: 205 || First 3 Indices: [272 590 681]\n",
      "Invalid split time: k_40_time > k_finish_time\n",
      "Total Invalid: 40 || First 3 Indices: [ 590 5314 6021]\n",
      "\n",
      "** Dropping invalid splits, Total Count: 1080 || Finished: 1045 || Started: 35\n"
     ]
    }
   ],
   "source": [
    "df_knn = preprocess_impute_fill(df_chi, missing_indices, knn_imputer, mms, SPLITS_KEYS, drop_invalid_splits=True)"
   ]
  },
  {
   "cell_type": "code",
   "execution_count": 20,
   "metadata": {},
   "outputs": [
    {
     "name": "stdout",
     "output_type": "stream",
     "text": [
      "--------------------------------------------------\n",
      "--------------------------------------------------\n",
      "Invalid split time diff: k_15_time (non-cumulative) < (k_15_time - k_10_time - 5) OR k_15_time (non-cumulative) > (k_15_time - k_10_time + 5)\n",
      "Total Invalid: 67 || First 3 Indices: [1945 2366 2908]\n",
      "Invalid split time: k_10_time > k_15_time\n",
      "Total Invalid: 1 || First 3 Indices: [39943]\n",
      "--------------------------------------------------\n",
      "Invalid split time diff: k_20_time (non-cumulative) < (k_20_time - k_15_time - 5) OR k_20_time (non-cumulative) > (k_20_time - k_15_time + 5)\n",
      "Total Invalid: 82 || First 3 Indices: [ 776 1528 1538]\n",
      "Invalid split time: k_15_time > k_20_time\n",
      "Total Invalid: 2 || First 3 Indices: [24467 39564]\n",
      "--------------------------------------------------\n",
      "Invalid split time diff: k_half_time (non-cumulative) < (k_half_time - k_20_time - 5) OR k_half_time (non-cumulative) > (k_half_time - k_20_time + 5)\n",
      "Total Invalid: 62 || First 3 Indices: [ 73 703 938]\n",
      "Invalid split time: k_20_time > k_half_time\n",
      "Total Invalid: 8 || First 3 Indices: [ 1004  4534 10493]\n",
      "--------------------------------------------------\n",
      "Invalid split time diff: k_25_time (non-cumulative) < (k_25_time - k_half_time - 5) OR k_25_time (non-cumulative) > (k_25_time - k_half_time + 5)\n",
      "Total Invalid: 86 || First 3 Indices: [1115 1192 3659]\n",
      "Invalid split time: k_half_time > k_25_time\n",
      "Total Invalid: 9 || First 3 Indices: [ 1115  5562 35345]\n",
      "--------------------------------------------------\n",
      "Invalid split time diff: k_30_time (non-cumulative) < (k_30_time - k_25_time - 5) OR k_30_time (non-cumulative) > (k_30_time - k_25_time + 5)\n",
      "Total Invalid: 153 || First 3 Indices: [134 176 776]\n",
      "Invalid split time: k_25_time > k_30_time\n",
      "Total Invalid: 8 || First 3 Indices: [  176  5859 16159]\n",
      "--------------------------------------------------\n",
      "Invalid split time diff: k_35_time (non-cumulative) < (k_35_time - k_30_time - 5) OR k_35_time (non-cumulative) > (k_35_time - k_30_time + 5)\n",
      "Total Invalid: 57 || First 3 Indices: [1151 1828 5818]\n",
      "Invalid split time: k_30_time > k_35_time\n",
      "Total Invalid: 12 || First 3 Indices: [ 1151  9522 11308]\n",
      "--------------------------------------------------\n",
      "Invalid split time diff: k_40_time (non-cumulative) < (k_40_time - k_35_time - 5) OR k_40_time (non-cumulative) > (k_40_time - k_35_time + 5)\n",
      "Total Invalid: 509 || First 3 Indices: [1819 2150 2741]\n",
      "Invalid split time: k_35_time > k_40_time\n",
      "Total Invalid: 16 || First 3 Indices: [3356 3378 4005]\n",
      "--------------------------------------------------\n",
      "Invalid split time diff: k_finish_time (non-cumulative) < (k_finish_time - k_40_time - 5) OR k_finish_time (non-cumulative) > (k_finish_time - k_40_time + 5)\n",
      "Total Invalid: 206 || First 3 Indices: [272 590 681]\n",
      "Invalid split time: k_40_time > k_finish_time\n",
      "Total Invalid: 52 || First 3 Indices: [ 590  681 5314]\n",
      "\n",
      "** Dropping invalid splits, Total Count: 1072 || Finished: 1037 || Started: 35\n"
     ]
    },
    {
     "name": "stderr",
     "output_type": "stream",
     "text": [
      "/Users/sika/miniforge3/envs/ML_mac_23/lib/python3.10/site-packages/sklearn/impute/_iterative.py:785: ConvergenceWarning: [IterativeImputer] Early stopping criterion not reached.\n",
      "  warnings.warn(\n"
     ]
    }
   ],
   "source": [
    "df_iter = preprocess_impute_fill(df_chi, missing_indices, iter_imputer, mms, SPLITS_KEYS, drop_invalid_splits=True)"
   ]
  },
  {
   "cell_type": "code",
   "execution_count": 21,
   "metadata": {},
   "outputs": [],
   "source": [
    "save_df(df_knn, chi_file_knn_imp_path)\n",
    "save_df(df_iter, chi_file_iter_imp_path)"
   ]
  },
  {
   "cell_type": "code",
   "execution_count": 22,
   "metadata": {},
   "outputs": [],
   "source": [
    "del chi_file_raw_path, chi_file_cln_path, chi_file_knn_imp_path, chi_file_iter_imp_path, df_chi, df_knn, df_iter"
   ]
  },
  {
   "cell_type": "markdown",
   "metadata": {},
   "source": [
    "### 2017"
   ]
  },
  {
   "cell_type": "code",
   "execution_count": 25,
   "metadata": {},
   "outputs": [],
   "source": [
    "chi_file_raw_path = f\"{CHI_RAW_PATH}/{CHI}{YEAR_17}/{CHI}{YEAR_17}_full.csv\"\n",
    "chi_file_cln_path = f\"{CHI_CLN_PATH}/{CHI}{YEAR_17}/{CHI}{YEAR_17}_clean.csv\"\n",
    "chi_file_knn_imp_path = f\"{CHI_IMP_PATH}/{CHI}{YEAR_17}/{CHI}{YEAR_17}_knn_impute.csv\"\n",
    "chi_file_iter_imp_path = f\"{CHI_IMP_PATH}/{CHI}{YEAR_17}/{CHI}{YEAR_17}_iter_impute.csv\""
   ]
  },
  {
   "cell_type": "markdown",
   "metadata": {},
   "source": [
    "#### Cleaning"
   ]
  },
  {
   "cell_type": "code",
   "execution_count": 15,
   "metadata": {},
   "outputs": [
    {
     "name": "stdout",
     "output_type": "stream",
     "text": [
      "** Removing Runners That did not start:\n",
      "Original rows count: 54326 || New rows count: 45565 || Dropped Rows: 8761\n",
      "** Dropping rows with null values in `age_cat` and `gender` columns:\n",
      "Original rows count: 45565 || New rows count: 45565 || Dropped rows based on   age_cat  : 0\n",
      "Original rows count: 45565 || New rows count: 45565 || Dropped rows based on    gender  : 0\n",
      "** Dropping rows with splits that only contain time: Finished: 34 || Started: 3\n",
      "** Dropping rows with invalid age categories [W-15, M-15, 19 and under]:\n",
      "Original rows count: 45528 || New rows count: 45289 || Dropped rows: 239\n",
      "** Replacing these age categories '20-24', '25-29', '30-34', and '35-39' by '18-39'\n",
      "** Replacing these age categories '70-74', '75-79', '80+' by '70+'\n",
      "** File has been saved in: `Marathons_Data/Clean/Chicago/Chicago2017/Chicago2017_clean.csv`\n"
     ]
    }
   ],
   "source": [
    "df_chi = pd.read_csv(chi_file_raw_path)\n",
    "# Cleaning the DataFrame.\n",
    "df_chi = chicago_cleaner(df_chi, SPLITS_KEYS, CHI_COLS_TO_DROP, SPLIT_NAME_DICT, COLS_ORDER)\n",
    "# Check if the DataFrame is valid before saving it.\n",
    "if valid_df(df_chi):\n",
    "    save_df(df_chi, chi_file_cln_path)\n",
    "    print(f\"** File has been saved in: `{chi_file_cln_path}`\")"
   ]
  },
  {
   "cell_type": "markdown",
   "metadata": {},
   "source": [
    "#### Imputation"
   ]
  },
  {
   "cell_type": "code",
   "execution_count": 26,
   "metadata": {},
   "outputs": [],
   "source": [
    "df_chi = pd.read_csv(chi_file_cln_path, dtype=DTYPE_DICT)\n",
    "missing_indices = get_indices_of_rows_missing_data(df_chi, SPLITS_KEYS)"
   ]
  },
  {
   "cell_type": "code",
   "execution_count": 27,
   "metadata": {},
   "outputs": [
    {
     "name": "stdout",
     "output_type": "stream",
     "text": [
      "--------------------------------------------------\n",
      "--------------------------------------------------\n",
      "Invalid split time diff: k_15_time (non-cumulative) < (k_15_time - k_10_time - 5) OR k_15_time (non-cumulative) > (k_15_time - k_10_time + 5)\n",
      "Total Invalid: 122 || First 3 Indices: [ 96 456 471]\n",
      "Invalid split time: k_10_time > k_15_time\n",
      "Total Invalid: 12 || First 3 Indices: [  96  728 3212]\n",
      "--------------------------------------------------\n",
      "Invalid split time diff: k_20_time (non-cumulative) < (k_20_time - k_15_time - 5) OR k_20_time (non-cumulative) > (k_20_time - k_15_time + 5)\n",
      "Total Invalid: 113 || First 3 Indices: [ 43 268 496]\n",
      "Invalid split time: k_15_time > k_20_time\n",
      "Total Invalid: 10 || First 3 Indices: [ 749 3525 4957]\n",
      "--------------------------------------------------\n",
      "Invalid split time diff: k_half_time (non-cumulative) < (k_half_time - k_20_time - 5) OR k_half_time (non-cumulative) > (k_half_time - k_20_time + 5)\n",
      "Total Invalid: 175 || First 3 Indices: [ 30  96 164]\n",
      "Invalid split time: k_20_time > k_half_time\n",
      "Total Invalid: 25 || First 3 Indices: [ 164  569 1280]\n",
      "--------------------------------------------------\n",
      "Invalid split time diff: k_25_time (non-cumulative) < (k_25_time - k_half_time - 5) OR k_25_time (non-cumulative) > (k_25_time - k_half_time + 5)\n",
      "Total Invalid: 41 || First 3 Indices: [  190  6764 10360]\n",
      "Invalid split time: k_half_time > k_25_time\n",
      "Total Invalid: 8 || First 3 Indices: [  190 10360 14987]\n",
      "--------------------------------------------------\n",
      "Invalid split time diff: k_30_time (non-cumulative) < (k_30_time - k_25_time - 5) OR k_30_time (non-cumulative) > (k_30_time - k_25_time + 5)\n",
      "Total Invalid: 380 || First 3 Indices: [142 749 886]\n",
      "Invalid split time: k_25_time > k_30_time\n",
      "Total Invalid: 12 || First 3 Indices: [ 3337  6493 13214]\n",
      "--------------------------------------------------\n",
      "Invalid split time diff: k_35_time (non-cumulative) < (k_35_time - k_30_time - 5) OR k_35_time (non-cumulative) > (k_35_time - k_30_time + 5)\n",
      "Total Invalid: 148 || First 3 Indices: [  92  490 1636]\n",
      "Invalid split time: k_30_time > k_35_time\n",
      "Total Invalid: 13 || First 3 Indices: [3282 6922 9667]\n",
      "--------------------------------------------------\n",
      "Invalid split time diff: k_40_time (non-cumulative) < (k_40_time - k_35_time - 5) OR k_40_time (non-cumulative) > (k_40_time - k_35_time + 5)\n",
      "Total Invalid: 810 || First 3 Indices: [213 275 406]\n",
      "Invalid split time: k_35_time > k_40_time\n",
      "Total Invalid: 18 || First 3 Indices: [ 213 2457 3914]\n",
      "--------------------------------------------------\n",
      "Invalid split time diff: k_finish_time (non-cumulative) < (k_finish_time - k_40_time - 5) OR k_finish_time (non-cumulative) > (k_finish_time - k_40_time + 5)\n",
      "Total Invalid: 297 || First 3 Indices: [ 572  749 1494]\n",
      "Invalid split time: k_40_time > k_finish_time\n",
      "Total Invalid: 52 || First 3 Indices: [2291 2554 2990]\n",
      "\n",
      "** Dropping invalid splits, Total Count: 1660 || Finished: 1599 || Started: 61\n"
     ]
    }
   ],
   "source": [
    "df_knn = preprocess_impute_fill(df_chi, missing_indices, knn_imputer, mms, SPLITS_KEYS, drop_invalid_splits=True)"
   ]
  },
  {
   "cell_type": "code",
   "execution_count": 28,
   "metadata": {},
   "outputs": [
    {
     "name": "stdout",
     "output_type": "stream",
     "text": [
      "--------------------------------------------------\n",
      "--------------------------------------------------\n",
      "Invalid split time diff: k_15_time (non-cumulative) < (k_15_time - k_10_time - 5) OR k_15_time (non-cumulative) > (k_15_time - k_10_time + 5)\n",
      "Total Invalid: 123 || First 3 Indices: [ 96 456 471]\n",
      "Invalid split time: k_10_time > k_15_time\n",
      "Total Invalid: 1 || First 3 Indices: [40551]\n",
      "--------------------------------------------------\n",
      "Invalid split time diff: k_20_time (non-cumulative) < (k_20_time - k_15_time - 5) OR k_20_time (non-cumulative) > (k_20_time - k_15_time + 5)\n",
      "Total Invalid: 115 || First 3 Indices: [ 43 268 496]\n",
      "--------------------------------------------------\n",
      "Invalid split time diff: k_half_time (non-cumulative) < (k_half_time - k_20_time - 5) OR k_half_time (non-cumulative) > (k_half_time - k_20_time + 5)\n",
      "Total Invalid: 178 || First 3 Indices: [ 96 164 275]\n",
      "Invalid split time: k_20_time > k_half_time\n",
      "Total Invalid: 14 || First 3 Indices: [ 164 1494 1636]\n",
      "--------------------------------------------------\n",
      "Invalid split time diff: k_25_time (non-cumulative) < (k_25_time - k_half_time - 5) OR k_25_time (non-cumulative) > (k_25_time - k_half_time + 5)\n",
      "Total Invalid: 44 || First 3 Indices: [  190  6764 10360]\n",
      "Invalid split time: k_half_time > k_25_time\n",
      "Total Invalid: 7 || First 3 Indices: [  190 15811 24785]\n",
      "--------------------------------------------------\n",
      "Invalid split time diff: k_30_time (non-cumulative) < (k_30_time - k_25_time - 5) OR k_30_time (non-cumulative) > (k_30_time - k_25_time + 5)\n",
      "Total Invalid: 379 || First 3 Indices: [142 749 886]\n",
      "Invalid split time: k_25_time > k_30_time\n",
      "Total Invalid: 9 || First 3 Indices: [ 3337  6493 12166]\n",
      "--------------------------------------------------\n",
      "Invalid split time diff: k_35_time (non-cumulative) < (k_35_time - k_30_time - 5) OR k_35_time (non-cumulative) > (k_35_time - k_30_time + 5)\n",
      "Total Invalid: 149 || First 3 Indices: [  92  490 1636]\n",
      "Invalid split time: k_30_time > k_35_time\n",
      "Total Invalid: 10 || First 3 Indices: [ 3282  6922 19229]\n",
      "--------------------------------------------------\n",
      "Invalid split time diff: k_40_time (non-cumulative) < (k_40_time - k_35_time - 5) OR k_40_time (non-cumulative) > (k_40_time - k_35_time + 5)\n",
      "Total Invalid: 804 || First 3 Indices: [213 275 406]\n",
      "Invalid split time: k_35_time > k_40_time\n",
      "Total Invalid: 26 || First 3 Indices: [ 213 2457 3914]\n",
      "--------------------------------------------------\n",
      "Invalid split time diff: k_finish_time (non-cumulative) < (k_finish_time - k_40_time - 5) OR k_finish_time (non-cumulative) > (k_finish_time - k_40_time + 5)\n",
      "Total Invalid: 294 || First 3 Indices: [ 572  749 1494]\n",
      "Invalid split time: k_40_time > k_finish_time\n",
      "Total Invalid: 65 || First 3 Indices: [2291 2554 4494]\n",
      "\n",
      "** Dropping invalid splits, Total Count: 1662 || Finished: 1602 || Started: 60\n"
     ]
    },
    {
     "name": "stderr",
     "output_type": "stream",
     "text": [
      "/Users/sika/miniforge3/envs/ML_mac_23/lib/python3.10/site-packages/sklearn/impute/_iterative.py:785: ConvergenceWarning: [IterativeImputer] Early stopping criterion not reached.\n",
      "  warnings.warn(\n"
     ]
    }
   ],
   "source": [
    "df_iter = preprocess_impute_fill(df_chi, missing_indices, iter_imputer, mms, SPLITS_KEYS, drop_invalid_splits=True)"
   ]
  },
  {
   "cell_type": "code",
   "execution_count": 29,
   "metadata": {},
   "outputs": [],
   "source": [
    "save_df(df_knn, chi_file_knn_imp_path)\n",
    "save_df(df_iter, chi_file_iter_imp_path)"
   ]
  },
  {
   "cell_type": "code",
   "execution_count": 30,
   "metadata": {},
   "outputs": [],
   "source": [
    "del chi_file_raw_path, chi_file_cln_path, chi_file_knn_imp_path, chi_file_iter_imp_path, df_chi, df_knn, df_iter"
   ]
  },
  {
   "cell_type": "markdown",
   "metadata": {},
   "source": [
    "### 2018"
   ]
  },
  {
   "cell_type": "code",
   "execution_count": 32,
   "metadata": {},
   "outputs": [],
   "source": [
    "chi_file_raw_path = f\"{CHI_RAW_PATH}/{CHI}{YEAR_18}/{CHI}{YEAR_18}_full.csv\"\n",
    "chi_file_cln_path = f\"{CHI_CLN_PATH}/{CHI}{YEAR_18}/{CHI}{YEAR_18}_clean.csv\"\n",
    "chi_file_knn_imp_path = f\"{CHI_IMP_PATH}/{CHI}{YEAR_18}/{CHI}{YEAR_18}_knn_impute.csv\"\n",
    "chi_file_iter_imp_path = f\"{CHI_IMP_PATH}/{CHI}{YEAR_18}/{CHI}{YEAR_18}_iter_impute.csv\""
   ]
  },
  {
   "cell_type": "markdown",
   "metadata": {},
   "source": [
    "#### Cleaning"
   ]
  },
  {
   "cell_type": "code",
   "execution_count": 18,
   "metadata": {},
   "outputs": [
    {
     "name": "stdout",
     "output_type": "stream",
     "text": [
      "** Removing Runners That did not start:\n",
      "Original rows count: 55621 || New rows count: 45380 || Dropped Rows: 10241\n",
      "** Dropping rows with null values in `age_cat` and `gender` columns:\n",
      "Original rows count: 45380 || New rows count: 45380 || Dropped rows based on   age_cat  : 0\n",
      "Original rows count: 45380 || New rows count: 45380 || Dropped rows based on    gender  : 0\n",
      "** Dropping rows with splits that only contain time: Finished: 25 || Started: 1\n",
      "** Dropping rows with invalid age categories [W-15, M-15, 19 and under]:\n",
      "Original rows count: 45354 || New rows count: 45119 || Dropped rows: 235\n",
      "** Replacing these age categories '20-24', '25-29', '30-34', and '35-39' by '18-39'\n",
      "** Replacing these age categories '70-74', '75-79', '80+' by '70+'\n",
      "** File has been saved in: `Marathons_Data/Clean/Chicago/Chicago2018/Chicago2018_clean.csv`\n"
     ]
    }
   ],
   "source": [
    "df_chi = pd.read_csv(chi_file_raw_path)\n",
    "# Cleaning the DataFrame.\n",
    "df_chi = chicago_cleaner(df_chi, SPLITS_KEYS, CHI_COLS_TO_DROP, SPLIT_NAME_DICT, COLS_ORDER)\n",
    "# Check if the DataFrame is valid before saving it.\n",
    "if valid_df(df_chi):\n",
    "    save_df(df_chi, chi_file_cln_path)\n",
    "    print(f\"** File has been saved in: `{chi_file_cln_path}`\")"
   ]
  },
  {
   "cell_type": "markdown",
   "metadata": {},
   "source": [
    "#### Imputation"
   ]
  },
  {
   "cell_type": "code",
   "execution_count": 33,
   "metadata": {},
   "outputs": [],
   "source": [
    "df_chi = pd.read_csv(chi_file_cln_path, dtype=DTYPE_DICT)\n",
    "missing_indices = get_indices_of_rows_missing_data(df_chi, SPLITS_KEYS)"
   ]
  },
  {
   "cell_type": "code",
   "execution_count": 34,
   "metadata": {},
   "outputs": [
    {
     "name": "stdout",
     "output_type": "stream",
     "text": [
      "--------------------------------------------------\n",
      "--------------------------------------------------\n",
      "Invalid split time diff: k_15_time (non-cumulative) < (k_15_time - k_10_time - 5) OR k_15_time (non-cumulative) > (k_15_time - k_10_time + 5)\n",
      "Total Invalid: 227 || First 3 Indices: [313 334 337]\n",
      "Invalid split time: k_10_time > k_15_time\n",
      "Total Invalid: 27 || First 3 Indices: [1092 1979 2936]\n",
      "--------------------------------------------------\n",
      "Invalid split time diff: k_20_time (non-cumulative) < (k_20_time - k_15_time - 5) OR k_20_time (non-cumulative) > (k_20_time - k_15_time + 5)\n",
      "Total Invalid: 232 || First 3 Indices: [ 471 1356 2378]\n",
      "Invalid split time: k_15_time > k_20_time\n",
      "Total Invalid: 10 || First 3 Indices: [3477 6530 9082]\n",
      "--------------------------------------------------\n",
      "Invalid split time diff: k_half_time (non-cumulative) < (k_half_time - k_20_time - 5) OR k_half_time (non-cumulative) > (k_half_time - k_20_time + 5)\n",
      "Total Invalid: 166 || First 3 Indices: [ 125  206 1374]\n",
      "Invalid split time: k_20_time > k_half_time\n",
      "Total Invalid: 9 || First 3 Indices: [15665 18972 29536]\n",
      "--------------------------------------------------\n",
      "Invalid split time diff: k_25_time (non-cumulative) < (k_25_time - k_half_time - 5) OR k_25_time (non-cumulative) > (k_25_time - k_half_time + 5)\n",
      "Total Invalid: 89 || First 3 Indices: [2280 4571 8022]\n",
      "Invalid split time: k_half_time > k_25_time\n",
      "Total Invalid: 4 || First 3 Indices: [ 4571 12213 15759]\n",
      "--------------------------------------------------\n",
      "Invalid split time diff: k_30_time (non-cumulative) < (k_30_time - k_25_time - 5) OR k_30_time (non-cumulative) > (k_30_time - k_25_time + 5)\n",
      "Total Invalid: 135 || First 3 Indices: [1619 2383 2607]\n",
      "Invalid split time: k_25_time > k_30_time\n",
      "Total Invalid: 7 || First 3 Indices: [10959 11988 12547]\n",
      "--------------------------------------------------\n",
      "Invalid split time diff: k_35_time (non-cumulative) < (k_35_time - k_30_time - 5) OR k_35_time (non-cumulative) > (k_35_time - k_30_time + 5)\n",
      "Total Invalid: 323 || First 3 Indices: [125 649 662]\n",
      "Invalid split time: k_30_time > k_35_time\n",
      "Total Invalid: 9 || First 3 Indices: [ 7996  8319 13238]\n",
      "--------------------------------------------------\n",
      "Invalid split time diff: k_40_time (non-cumulative) < (k_40_time - k_35_time - 5) OR k_40_time (non-cumulative) > (k_40_time - k_35_time + 5)\n",
      "Total Invalid: 250 || First 3 Indices: [313 331 362]\n",
      "Invalid split time: k_35_time > k_40_time\n",
      "Total Invalid: 10 || First 3 Indices: [2468 5685 6856]\n",
      "--------------------------------------------------\n",
      "Invalid split time diff: k_finish_time (non-cumulative) < (k_finish_time - k_40_time - 5) OR k_finish_time (non-cumulative) > (k_finish_time - k_40_time + 5)\n",
      "Total Invalid: 432 || First 3 Indices: [ 460 1173 1406]\n",
      "Invalid split time: k_40_time > k_finish_time\n",
      "Total Invalid: 27 || First 3 Indices: [1417 5122 6873]\n",
      "\n",
      "** Dropping invalid splits, Total Count: 1607 || Finished: 1536 || Started: 71\n"
     ]
    }
   ],
   "source": [
    "df_knn = preprocess_impute_fill(df_chi, missing_indices, knn_imputer, mms, SPLITS_KEYS, drop_invalid_splits=True)"
   ]
  },
  {
   "cell_type": "code",
   "execution_count": 35,
   "metadata": {},
   "outputs": [
    {
     "name": "stdout",
     "output_type": "stream",
     "text": [
      "--------------------------------------------------\n",
      "--------------------------------------------------\n",
      "Invalid split time diff: k_15_time (non-cumulative) < (k_15_time - k_10_time - 5) OR k_15_time (non-cumulative) > (k_15_time - k_10_time + 5)\n",
      "Total Invalid: 220 || First 3 Indices: [313 334 337]\n",
      "--------------------------------------------------\n",
      "Invalid split time diff: k_20_time (non-cumulative) < (k_20_time - k_15_time - 5) OR k_20_time (non-cumulative) > (k_20_time - k_15_time + 5)\n",
      "Total Invalid: 235 || First 3 Indices: [ 471 1356 2378]\n",
      "--------------------------------------------------\n",
      "Invalid split time diff: k_half_time (non-cumulative) < (k_half_time - k_20_time - 5) OR k_half_time (non-cumulative) > (k_half_time - k_20_time + 5)\n",
      "Total Invalid: 167 || First 3 Indices: [ 125  206 1374]\n",
      "Invalid split time: k_20_time > k_half_time\n",
      "Total Invalid: 6 || First 3 Indices: [ 8241 16869 29787]\n",
      "--------------------------------------------------\n",
      "Invalid split time diff: k_25_time (non-cumulative) < (k_25_time - k_half_time - 5) OR k_25_time (non-cumulative) > (k_25_time - k_half_time + 5)\n",
      "Total Invalid: 89 || First 3 Indices: [2280 4571 8022]\n",
      "Invalid split time: k_half_time > k_25_time\n",
      "Total Invalid: 5 || First 3 Indices: [ 4571 12213 15759]\n",
      "--------------------------------------------------\n",
      "Invalid split time diff: k_30_time (non-cumulative) < (k_30_time - k_25_time - 5) OR k_30_time (non-cumulative) > (k_30_time - k_25_time + 5)\n",
      "Total Invalid: 135 || First 3 Indices: [1619 2383 2607]\n",
      "Invalid split time: k_25_time > k_30_time\n",
      "Total Invalid: 8 || First 3 Indices: [10959 11988 12547]\n",
      "--------------------------------------------------\n",
      "Invalid split time diff: k_35_time (non-cumulative) < (k_35_time - k_30_time - 5) OR k_35_time (non-cumulative) > (k_35_time - k_30_time + 5)\n",
      "Total Invalid: 312 || First 3 Indices: [125 649 662]\n",
      "Invalid split time: k_30_time > k_35_time\n",
      "Total Invalid: 7 || First 3 Indices: [ 7996  8319 13238]\n",
      "--------------------------------------------------\n",
      "Invalid split time diff: k_40_time (non-cumulative) < (k_40_time - k_35_time - 5) OR k_40_time (non-cumulative) > (k_40_time - k_35_time + 5)\n",
      "Total Invalid: 251 || First 3 Indices: [255 313 331]\n",
      "Invalid split time: k_35_time > k_40_time\n",
      "Total Invalid: 15 || First 3 Indices: [2468 5685 5782]\n",
      "--------------------------------------------------\n",
      "Invalid split time diff: k_finish_time (non-cumulative) < (k_finish_time - k_40_time - 5) OR k_finish_time (non-cumulative) > (k_finish_time - k_40_time + 5)\n",
      "Total Invalid: 432 || First 3 Indices: [ 460 1406 1417]\n",
      "Invalid split time: k_40_time > k_finish_time\n",
      "Total Invalid: 36 || First 3 Indices: [4168 5122 6873]\n",
      "\n",
      "** Dropping invalid splits, Total Count: 1594 || Finished: 1524 || Started: 70\n"
     ]
    },
    {
     "name": "stderr",
     "output_type": "stream",
     "text": [
      "/Users/sika/miniforge3/envs/ML_mac_23/lib/python3.10/site-packages/sklearn/impute/_iterative.py:785: ConvergenceWarning: [IterativeImputer] Early stopping criterion not reached.\n",
      "  warnings.warn(\n"
     ]
    }
   ],
   "source": [
    "df_iter = preprocess_impute_fill(df_chi, missing_indices, iter_imputer, mms, SPLITS_KEYS, drop_invalid_splits=True)"
   ]
  },
  {
   "cell_type": "code",
   "execution_count": 36,
   "metadata": {},
   "outputs": [],
   "source": [
    "save_df(df_knn, chi_file_knn_imp_path)\n",
    "save_df(df_iter, chi_file_iter_imp_path)"
   ]
  },
  {
   "cell_type": "code",
   "execution_count": 37,
   "metadata": {},
   "outputs": [],
   "source": [
    "del chi_file_raw_path, chi_file_cln_path, chi_file_knn_imp_path, chi_file_iter_imp_path, df_chi, df_knn, df_iter"
   ]
  },
  {
   "cell_type": "markdown",
   "metadata": {},
   "source": [
    "### 2019"
   ]
  },
  {
   "cell_type": "code",
   "execution_count": 38,
   "metadata": {},
   "outputs": [],
   "source": [
    "chi_file_raw_path = f\"{CHI_RAW_PATH}/{CHI}{YEAR_19}/{CHI}{YEAR_19}_full.csv\"\n",
    "chi_file_cln_path = f\"{CHI_CLN_PATH}/{CHI}{YEAR_19}/{CHI}{YEAR_19}_clean.csv\"\n",
    "chi_file_knn_imp_path = f\"{CHI_IMP_PATH}/{CHI}{YEAR_19}/{CHI}{YEAR_19}_knn_impute.csv\"\n",
    "chi_file_iter_imp_path = f\"{CHI_IMP_PATH}/{CHI}{YEAR_19}/{CHI}{YEAR_19}_iter_impute.csv\""
   ]
  },
  {
   "cell_type": "markdown",
   "metadata": {},
   "source": [
    "#### Cleaning"
   ]
  },
  {
   "cell_type": "code",
   "execution_count": 21,
   "metadata": {},
   "outputs": [
    {
     "name": "stdout",
     "output_type": "stream",
     "text": [
      "** Removing Runners That did not start:\n",
      "Original rows count: 55395 || New rows count: 46513 || Dropped Rows: 8882\n",
      "** Dropping rows with null values in `age_cat` and `gender` columns:\n",
      "Original rows count: 46513 || New rows count: 46512 || Dropped rows based on   age_cat  : 1\n",
      "Original rows count: 46512 || New rows count: 46512 || Dropped rows based on    gender  : 0\n",
      "** Dropping rows with splits that only contain time: Finished: 4 || Started: 0\n",
      "** Dropping rows with invalid age categories [W-15, M-15, 19 and under]:\n",
      "Original rows count: 46508 || New rows count: 46265 || Dropped rows: 243\n",
      "** Replacing these age categories '20-24', '25-29', '30-34', and '35-39' by '18-39'\n",
      "** Replacing these age categories '70-74', '75-79', '80+' by '70+'\n",
      "** File has been saved in: `Marathons_Data/Clean/Chicago/Chicago2019/Chicago2019_clean.csv`\n"
     ]
    }
   ],
   "source": [
    "df_chi = pd.read_csv(chi_file_raw_path)\n",
    "# Cleaning the DataFrame.\n",
    "df_chi = chicago_cleaner(df_chi, SPLITS_KEYS, CHI_COLS_TO_DROP, SPLIT_NAME_DICT, COLS_ORDER)\n",
    "# Check if the DataFrame is valid before saving it.\n",
    "if valid_df(df_chi):\n",
    "    save_df(df_chi, chi_file_cln_path)\n",
    "    print(f\"** File has been saved in: `{chi_file_cln_path}`\")"
   ]
  },
  {
   "cell_type": "markdown",
   "metadata": {},
   "source": [
    "#### Imputation"
   ]
  },
  {
   "cell_type": "code",
   "execution_count": 39,
   "metadata": {},
   "outputs": [],
   "source": [
    "df_chi = pd.read_csv(chi_file_cln_path, dtype=DTYPE_DICT)\n",
    "missing_indices = get_indices_of_rows_missing_data(df_chi, SPLITS_KEYS)"
   ]
  },
  {
   "cell_type": "code",
   "execution_count": 40,
   "metadata": {},
   "outputs": [
    {
     "name": "stdout",
     "output_type": "stream",
     "text": [
      "--------------------------------------------------\n",
      "--------------------------------------------------\n",
      "Invalid split time diff: k_15_time (non-cumulative) < (k_15_time - k_10_time - 5) OR k_15_time (non-cumulative) > (k_15_time - k_10_time + 5)\n",
      "Total Invalid: 134 || First 3 Indices: [119 531 533]\n",
      "Invalid split time: k_10_time > k_15_time\n",
      "Total Invalid: 22 || First 3 Indices: [ 119  531 2102]\n",
      "--------------------------------------------------\n",
      "Invalid split time diff: k_20_time (non-cumulative) < (k_20_time - k_15_time - 5) OR k_20_time (non-cumulative) > (k_20_time - k_15_time + 5)\n",
      "Total Invalid: 26 || First 3 Indices: [ 323 2782 3318]\n",
      "Invalid split time: k_15_time > k_20_time\n",
      "Total Invalid: 5 || First 3 Indices: [ 3318  5314 13262]\n",
      "--------------------------------------------------\n",
      "Invalid split time diff: k_half_time (non-cumulative) < (k_half_time - k_20_time - 5) OR k_half_time (non-cumulative) > (k_half_time - k_20_time + 5)\n",
      "Total Invalid: 140 || First 3 Indices: [ 267  735 1054]\n",
      "Invalid split time: k_20_time > k_half_time\n",
      "Total Invalid: 8 || First 3 Indices: [ 267 1054 9769]\n",
      "--------------------------------------------------\n",
      "Invalid split time diff: k_25_time (non-cumulative) < (k_25_time - k_half_time - 5) OR k_25_time (non-cumulative) > (k_25_time - k_half_time + 5)\n",
      "Total Invalid: 29 || First 3 Indices: [403 655 821]\n",
      "Invalid split time: k_half_time > k_25_time\n",
      "Total Invalid: 2 || First 3 Indices: [  403 16174]\n",
      "--------------------------------------------------\n",
      "Invalid split time diff: k_30_time (non-cumulative) < (k_30_time - k_25_time - 5) OR k_30_time (non-cumulative) > (k_30_time - k_25_time + 5)\n",
      "Total Invalid: 133 || First 3 Indices: [ 290  663 1174]\n",
      "Invalid split time: k_25_time > k_30_time\n",
      "Total Invalid: 1 || First 3 Indices: [16176]\n",
      "--------------------------------------------------\n",
      "Invalid split time diff: k_35_time (non-cumulative) < (k_35_time - k_30_time - 5) OR k_35_time (non-cumulative) > (k_35_time - k_30_time + 5)\n",
      "Total Invalid: 76 || First 3 Indices: [  83  914 1054]\n",
      "Invalid split time: k_30_time > k_35_time\n",
      "Total Invalid: 4 || First 3 Indices: [13897 19059 40318]\n",
      "--------------------------------------------------\n",
      "Invalid split time diff: k_40_time (non-cumulative) < (k_40_time - k_35_time - 5) OR k_40_time (non-cumulative) > (k_40_time - k_35_time + 5)\n",
      "Total Invalid: 60 || First 3 Indices: [267 533 855]\n",
      "Invalid split time: k_35_time > k_40_time\n",
      "Total Invalid: 3 || First 3 Indices: [28471 31827 42969]\n",
      "--------------------------------------------------\n",
      "Invalid split time diff: k_finish_time (non-cumulative) < (k_finish_time - k_40_time - 5) OR k_finish_time (non-cumulative) > (k_finish_time - k_40_time + 5)\n",
      "Total Invalid: 790 || First 3 Indices: [246 375 376]\n",
      "Invalid split time: k_40_time > k_finish_time\n",
      "Total Invalid: 10 || First 3 Indices: [  246   493 15048]\n",
      "\n",
      "** Dropping invalid splits, Total Count: 1210 || Finished: 1201 || Started: 9\n"
     ]
    }
   ],
   "source": [
    "df_knn = preprocess_impute_fill(df_chi, missing_indices, knn_imputer, mms, SPLITS_KEYS, drop_invalid_splits=True)"
   ]
  },
  {
   "cell_type": "code",
   "execution_count": 41,
   "metadata": {},
   "outputs": [
    {
     "name": "stdout",
     "output_type": "stream",
     "text": [
      "--------------------------------------------------\n",
      "--------------------------------------------------\n",
      "Invalid split time diff: k_15_time (non-cumulative) < (k_15_time - k_10_time - 5) OR k_15_time (non-cumulative) > (k_15_time - k_10_time + 5)\n",
      "Total Invalid: 131 || First 3 Indices: [119 531 533]\n",
      "--------------------------------------------------\n",
      "Invalid split time diff: k_20_time (non-cumulative) < (k_20_time - k_15_time - 5) OR k_20_time (non-cumulative) > (k_20_time - k_15_time + 5)\n",
      "Total Invalid: 26 || First 3 Indices: [ 323 2782 3318]\n",
      "--------------------------------------------------\n",
      "Invalid split time diff: k_half_time (non-cumulative) < (k_half_time - k_20_time - 5) OR k_half_time (non-cumulative) > (k_half_time - k_20_time + 5)\n",
      "Total Invalid: 142 || First 3 Indices: [ 267  735 1054]\n",
      "Invalid split time: k_20_time > k_half_time\n",
      "Total Invalid: 5 || First 3 Indices: [  267  9769 19082]\n",
      "--------------------------------------------------\n",
      "Invalid split time diff: k_25_time (non-cumulative) < (k_25_time - k_half_time - 5) OR k_25_time (non-cumulative) > (k_25_time - k_half_time + 5)\n",
      "Total Invalid: 26 || First 3 Indices: [403 655 821]\n",
      "Invalid split time: k_half_time > k_25_time\n",
      "Total Invalid: 2 || First 3 Indices: [16174 32977]\n",
      "--------------------------------------------------\n",
      "Invalid split time diff: k_30_time (non-cumulative) < (k_30_time - k_25_time - 5) OR k_30_time (non-cumulative) > (k_30_time - k_25_time + 5)\n",
      "Total Invalid: 139 || First 3 Indices: [158 290 663]\n",
      "--------------------------------------------------\n",
      "Invalid split time diff: k_35_time (non-cumulative) < (k_35_time - k_30_time - 5) OR k_35_time (non-cumulative) > (k_35_time - k_30_time + 5)\n",
      "Total Invalid: 76 || First 3 Indices: [  83  914 1054]\n",
      "Invalid split time: k_30_time > k_35_time\n",
      "Total Invalid: 3 || First 3 Indices: [13897 19059 40318]\n",
      "--------------------------------------------------\n",
      "Invalid split time diff: k_40_time (non-cumulative) < (k_40_time - k_35_time - 5) OR k_40_time (non-cumulative) > (k_40_time - k_35_time + 5)\n",
      "Total Invalid: 59 || First 3 Indices: [267 533 855]\n",
      "Invalid split time: k_35_time > k_40_time\n",
      "Total Invalid: 2 || First 3 Indices: [  267 42969]\n",
      "--------------------------------------------------\n",
      "Invalid split time diff: k_finish_time (non-cumulative) < (k_finish_time - k_40_time - 5) OR k_finish_time (non-cumulative) > (k_finish_time - k_40_time + 5)\n",
      "Total Invalid: 787 || First 3 Indices: [246 375 376]\n",
      "Invalid split time: k_40_time > k_finish_time\n",
      "Total Invalid: 16 || First 3 Indices: [246 407 493]\n",
      "\n",
      "** Dropping invalid splits, Total Count: 1205 || Finished: 1196 || Started: 9\n"
     ]
    },
    {
     "name": "stderr",
     "output_type": "stream",
     "text": [
      "/Users/sika/miniforge3/envs/ML_mac_23/lib/python3.10/site-packages/sklearn/impute/_iterative.py:785: ConvergenceWarning: [IterativeImputer] Early stopping criterion not reached.\n",
      "  warnings.warn(\n"
     ]
    }
   ],
   "source": [
    "df_iter = preprocess_impute_fill(df_chi, missing_indices, iter_imputer, mms, SPLITS_KEYS, drop_invalid_splits=True)"
   ]
  },
  {
   "cell_type": "code",
   "execution_count": 42,
   "metadata": {},
   "outputs": [],
   "source": [
    "save_df(df_knn, chi_file_knn_imp_path)\n",
    "save_df(df_iter, chi_file_iter_imp_path)"
   ]
  },
  {
   "cell_type": "code",
   "execution_count": 43,
   "metadata": {},
   "outputs": [],
   "source": [
    "del chi_file_raw_path, chi_file_cln_path, chi_file_knn_imp_path, chi_file_iter_imp_path, df_chi, df_knn, df_iter"
   ]
  },
  {
   "cell_type": "markdown",
   "metadata": {},
   "source": [
    "### 2021"
   ]
  },
  {
   "cell_type": "code",
   "execution_count": 44,
   "metadata": {},
   "outputs": [],
   "source": [
    "chi_file_raw_path = f\"{CHI_RAW_PATH}/{CHI}{YEAR_21}/{CHI}{YEAR_21}_full.csv\"\n",
    "chi_file_cln_path = f\"{CHI_CLN_PATH}/{CHI}{YEAR_21}/{CHI}{YEAR_21}_clean.csv\"\n",
    "chi_file_knn_imp_path = f\"{CHI_IMP_PATH}/{CHI}{YEAR_21}/{CHI}{YEAR_21}_knn_impute.csv\"\n",
    "chi_file_iter_imp_path = f\"{CHI_IMP_PATH}/{CHI}{YEAR_21}/{CHI}{YEAR_21}_iter_impute.csv\""
   ]
  },
  {
   "cell_type": "markdown",
   "metadata": {},
   "source": [
    "#### Cleaning"
   ]
  },
  {
   "cell_type": "code",
   "execution_count": 24,
   "metadata": {},
   "outputs": [
    {
     "name": "stdout",
     "output_type": "stream",
     "text": [
      "** Removing Runners That did not start:\n",
      "Original rows count: 33502 || New rows count: 26864 || Dropped Rows: 6638\n",
      "** Dropping rows with null values in `age_cat` and `gender` columns:\n",
      "Original rows count: 26864 || New rows count: 26864 || Dropped rows based on   age_cat  : 0\n",
      "Original rows count: 26864 || New rows count: 26864 || Dropped rows based on    gender  : 0\n",
      "** Dropping rows with splits that only contain time: Finished: 19 || Started: 0\n",
      "** Dropping rows with invalid age categories [W-15, M-15, 19 and under]:\n",
      "Original rows count: 26845 || New rows count: 26730 || Dropped rows: 115\n",
      "** Replacing these age categories '20-24', '25-29', '30-34', and '35-39' by '18-39'\n",
      "** Replacing these age categories '70-74', '75-79', '80+' by '70+'\n",
      "** File has been saved in: `Marathons_Data/Clean/Chicago/Chicago2021/Chicago2021_clean.csv`\n"
     ]
    }
   ],
   "source": [
    "df_chi = pd.read_csv(chi_file_raw_path)\n",
    "# Cleaning the DataFrame.\n",
    "df_chi = chicago_cleaner(df_chi, SPLITS_KEYS, CHI_COLS_TO_DROP, SPLIT_NAME_DICT, COLS_ORDER)\n",
    "# Check if the DataFrame is valid before saving it.\n",
    "if valid_df(df_chi):\n",
    "    save_df(df_chi, chi_file_cln_path)\n",
    "    print(f\"** File has been saved in: `{chi_file_cln_path}`\")"
   ]
  },
  {
   "cell_type": "markdown",
   "metadata": {},
   "source": [
    "#### Imputation"
   ]
  },
  {
   "cell_type": "code",
   "execution_count": 45,
   "metadata": {},
   "outputs": [],
   "source": [
    "df_chi = pd.read_csv(chi_file_cln_path, dtype=DTYPE_DICT)\n",
    "missing_indices = get_indices_of_rows_missing_data(df_chi, SPLITS_KEYS)"
   ]
  },
  {
   "cell_type": "code",
   "execution_count": 46,
   "metadata": {},
   "outputs": [
    {
     "name": "stdout",
     "output_type": "stream",
     "text": [
      "--------------------------------------------------\n",
      "--------------------------------------------------\n",
      "Invalid split time diff: k_15_time (non-cumulative) < (k_15_time - k_10_time - 5) OR k_15_time (non-cumulative) > (k_15_time - k_10_time + 5)\n",
      "Total Invalid: 83 || First 3 Indices: [692 844 959]\n",
      "Invalid split time: k_10_time > k_15_time\n",
      "Total Invalid: 4 || First 3 Indices: [ 959 1283 7778]\n",
      "--------------------------------------------------\n",
      "Invalid split time diff: k_20_time (non-cumulative) < (k_20_time - k_15_time - 5) OR k_20_time (non-cumulative) > (k_20_time - k_15_time + 5)\n",
      "Total Invalid: 108 || First 3 Indices: [ 82 103 213]\n",
      "Invalid split time: k_15_time > k_20_time\n",
      "Total Invalid: 8 || First 3 Indices: [3589 6589 7200]\n",
      "--------------------------------------------------\n",
      "Invalid split time diff: k_half_time (non-cumulative) < (k_half_time - k_20_time - 5) OR k_half_time (non-cumulative) > (k_half_time - k_20_time + 5)\n",
      "Total Invalid: 50 || First 3 Indices: [251 341 831]\n",
      "Invalid split time: k_20_time > k_half_time\n",
      "Total Invalid: 10 || First 3 Indices: [ 341 1091 3924]\n",
      "--------------------------------------------------\n",
      "Invalid split time diff: k_25_time (non-cumulative) < (k_25_time - k_half_time - 5) OR k_25_time (non-cumulative) > (k_25_time - k_half_time + 5)\n",
      "Total Invalid: 54 || First 3 Indices: [176 505 692]\n",
      "Invalid split time: k_half_time > k_25_time\n",
      "Total Invalid: 1 || First 3 Indices: [14377]\n",
      "--------------------------------------------------\n",
      "Invalid split time diff: k_30_time (non-cumulative) < (k_30_time - k_25_time - 5) OR k_30_time (non-cumulative) > (k_30_time - k_25_time + 5)\n",
      "Total Invalid: 122 || First 3 Indices: [602 627 670]\n",
      "Invalid split time: k_25_time > k_30_time\n",
      "Total Invalid: 1 || First 3 Indices: [7512]\n",
      "--------------------------------------------------\n",
      "Invalid split time diff: k_35_time (non-cumulative) < (k_35_time - k_30_time - 5) OR k_35_time (non-cumulative) > (k_35_time - k_30_time + 5)\n",
      "Total Invalid: 65 || First 3 Indices: [179 226 280]\n",
      "Invalid split time: k_30_time > k_35_time\n",
      "Total Invalid: 4 || First 3 Indices: [2059 5151 7954]\n",
      "--------------------------------------------------\n",
      "Invalid split time diff: k_40_time (non-cumulative) < (k_40_time - k_35_time - 5) OR k_40_time (non-cumulative) > (k_40_time - k_35_time + 5)\n",
      "Total Invalid: 58 || First 3 Indices: [213 251 467]\n",
      "Invalid split time: k_35_time > k_40_time\n",
      "Total Invalid: 7 || First 3 Indices: [5306 5818 7449]\n",
      "--------------------------------------------------\n",
      "Invalid split time diff: k_finish_time (non-cumulative) < (k_finish_time - k_40_time - 5) OR k_finish_time (non-cumulative) > (k_finish_time - k_40_time + 5)\n",
      "Total Invalid: 526 || First 3 Indices: [159 851 883]\n",
      "Invalid split time: k_40_time > k_finish_time\n",
      "Total Invalid: 241 || First 3 Indices: [ 883 1085 1639]\n",
      "\n",
      "** Dropping invalid splits, Total Count: 969 || Finished: 952 || Started: 17\n"
     ]
    }
   ],
   "source": [
    "df_knn = preprocess_impute_fill(df_chi, missing_indices, knn_imputer, mms, SPLITS_KEYS, drop_invalid_splits=True)"
   ]
  },
  {
   "cell_type": "code",
   "execution_count": 47,
   "metadata": {},
   "outputs": [
    {
     "name": "stdout",
     "output_type": "stream",
     "text": [
      "--------------------------------------------------\n",
      "--------------------------------------------------\n",
      "Invalid split time diff: k_15_time (non-cumulative) < (k_15_time - k_10_time - 5) OR k_15_time (non-cumulative) > (k_15_time - k_10_time + 5)\n",
      "Total Invalid: 80 || First 3 Indices: [692 771 844]\n",
      "--------------------------------------------------\n",
      "Invalid split time diff: k_20_time (non-cumulative) < (k_20_time - k_15_time - 5) OR k_20_time (non-cumulative) > (k_20_time - k_15_time + 5)\n",
      "Total Invalid: 110 || First 3 Indices: [ 82 103 213]\n",
      "--------------------------------------------------\n",
      "Invalid split time diff: k_half_time (non-cumulative) < (k_half_time - k_20_time - 5) OR k_half_time (non-cumulative) > (k_half_time - k_20_time + 5)\n",
      "Total Invalid: 50 || First 3 Indices: [251 341 831]\n",
      "Invalid split time: k_20_time > k_half_time\n",
      "Total Invalid: 6 || First 3 Indices: [ 341 1091 3924]\n",
      "--------------------------------------------------\n",
      "Invalid split time diff: k_25_time (non-cumulative) < (k_25_time - k_half_time - 5) OR k_25_time (non-cumulative) > (k_25_time - k_half_time + 5)\n",
      "Total Invalid: 50 || First 3 Indices: [176 505 692]\n",
      "Invalid split time: k_half_time > k_25_time\n",
      "Total Invalid: 2 || First 3 Indices: [14377 20800]\n",
      "--------------------------------------------------\n",
      "Invalid split time diff: k_30_time (non-cumulative) < (k_30_time - k_25_time - 5) OR k_30_time (non-cumulative) > (k_30_time - k_25_time + 5)\n",
      "Total Invalid: 126 || First 3 Indices: [602 627 670]\n",
      "Invalid split time: k_25_time > k_30_time\n",
      "Total Invalid: 1 || First 3 Indices: [7512]\n",
      "--------------------------------------------------\n",
      "Invalid split time diff: k_35_time (non-cumulative) < (k_35_time - k_30_time - 5) OR k_35_time (non-cumulative) > (k_35_time - k_30_time + 5)\n",
      "Total Invalid: 66 || First 3 Indices: [179 226 280]\n",
      "Invalid split time: k_30_time > k_35_time\n",
      "Total Invalid: 6 || First 3 Indices: [ 752 2059 5151]\n",
      "--------------------------------------------------\n",
      "Invalid split time diff: k_40_time (non-cumulative) < (k_40_time - k_35_time - 5) OR k_40_time (non-cumulative) > (k_40_time - k_35_time + 5)\n",
      "Total Invalid: 58 || First 3 Indices: [213 251 467]\n",
      "Invalid split time: k_35_time > k_40_time\n",
      "Total Invalid: 8 || First 3 Indices: [5306 5818 7449]\n",
      "--------------------------------------------------\n",
      "Invalid split time diff: k_finish_time (non-cumulative) < (k_finish_time - k_40_time - 5) OR k_finish_time (non-cumulative) > (k_finish_time - k_40_time + 5)\n",
      "Total Invalid: 530 || First 3 Indices: [159 851 883]\n",
      "Invalid split time: k_40_time > k_finish_time\n",
      "Total Invalid: 278 || First 3 Indices: [ 883 1085 1091]\n",
      "\n",
      "** Dropping invalid splits, Total Count: 977 || Finished: 959 || Started: 18\n"
     ]
    },
    {
     "name": "stderr",
     "output_type": "stream",
     "text": [
      "/Users/sika/miniforge3/envs/ML_mac_23/lib/python3.10/site-packages/sklearn/impute/_iterative.py:785: ConvergenceWarning: [IterativeImputer] Early stopping criterion not reached.\n",
      "  warnings.warn(\n"
     ]
    }
   ],
   "source": [
    "df_iter = preprocess_impute_fill(df_chi, missing_indices, iter_imputer, mms, SPLITS_KEYS, drop_invalid_splits=True)"
   ]
  },
  {
   "cell_type": "code",
   "execution_count": 48,
   "metadata": {},
   "outputs": [],
   "source": [
    "save_df(df_knn, chi_file_knn_imp_path)\n",
    "save_df(df_iter, chi_file_iter_imp_path)"
   ]
  },
  {
   "cell_type": "code",
   "execution_count": 49,
   "metadata": {},
   "outputs": [],
   "source": [
    "del chi_file_raw_path, chi_file_cln_path, chi_file_knn_imp_path, chi_file_iter_imp_path, df_chi, df_knn, df_iter"
   ]
  },
  {
   "cell_type": "markdown",
   "metadata": {},
   "source": [
    "### 2022"
   ]
  },
  {
   "cell_type": "code",
   "execution_count": 50,
   "metadata": {},
   "outputs": [],
   "source": [
    "chi_file_raw_path = f\"{CHI_RAW_PATH}/{CHI}{YEAR_22}/{CHI}{YEAR_22}_full.csv\"\n",
    "chi_file_cln_path = f\"{CHI_CLN_PATH}/{CHI}{YEAR_22}/{CHI}{YEAR_22}_clean.csv\"\n",
    "chi_file_knn_imp_path = f\"{CHI_IMP_PATH}/{CHI}{YEAR_22}/{CHI}{YEAR_22}_knn_impute.csv\"\n",
    "chi_file_iter_imp_path = f\"{CHI_IMP_PATH}/{CHI}{YEAR_22}/{CHI}{YEAR_22}_iter_impute.csv\""
   ]
  },
  {
   "cell_type": "markdown",
   "metadata": {},
   "source": [
    "#### Cleaning"
   ]
  },
  {
   "cell_type": "code",
   "execution_count": 27,
   "metadata": {},
   "outputs": [
    {
     "name": "stdout",
     "output_type": "stream",
     "text": [
      "** Removing Runners That did not start:\n",
      "Original rows count: 51087 || New rows count: 39939 || Dropped Rows: 11148\n",
      "** Dropping rows with null values in `age_cat` and `gender` columns:\n",
      "Original rows count: 39939 || New rows count: 39938 || Dropped rows based on   age_cat  : 1\n",
      "Original rows count: 39938 || New rows count: 39938 || Dropped rows based on    gender  : 0\n",
      "** Dropping rows with splits that only contain time: Finished: 7 || Started: 0\n",
      "** Dropping rows with invalid age categories [W-15, M-15, 19 and under]:\n",
      "Original rows count: 39931 || New rows count: 39790 || Dropped rows: 141\n",
      "** Replacing these age categories '20-24', '25-29', '30-34', and '35-39' by '18-39'\n",
      "** Replacing these age categories '70-74', '75-79', '80+' by '70+'\n",
      "** File has been saved in: `Marathons_Data/Clean/Chicago/Chicago2022/Chicago2022_clean.csv`\n"
     ]
    }
   ],
   "source": [
    "df_chi = pd.read_csv(chi_file_raw_path)\n",
    "# Cleaning the DataFrame.\n",
    "df_chi = chicago_cleaner(df_chi, SPLITS_KEYS, CHI_COLS_TO_DROP, SPLIT_NAME_DICT, COLS_ORDER)\n",
    "# Check if the DataFrame is valid before saving it.\n",
    "if valid_df(df_chi):\n",
    "    save_df(df_chi, chi_file_cln_path)\n",
    "    print(f\"** File has been saved in: `{chi_file_cln_path}`\")"
   ]
  },
  {
   "cell_type": "markdown",
   "metadata": {},
   "source": [
    "#### Imputation"
   ]
  },
  {
   "cell_type": "code",
   "execution_count": 51,
   "metadata": {},
   "outputs": [],
   "source": [
    "df_chi = pd.read_csv(chi_file_cln_path, dtype=DTYPE_DICT)\n",
    "missing_indices = get_indices_of_rows_missing_data(df_chi, SPLITS_KEYS)"
   ]
  },
  {
   "cell_type": "code",
   "execution_count": 52,
   "metadata": {},
   "outputs": [
    {
     "name": "stdout",
     "output_type": "stream",
     "text": [
      "--------------------------------------------------\n",
      "--------------------------------------------------\n",
      "Invalid split time diff: k_15_time (non-cumulative) < (k_15_time - k_10_time - 5) OR k_15_time (non-cumulative) > (k_15_time - k_10_time + 5)\n",
      "Total Invalid: 229 || First 3 Indices: [249 296 310]\n",
      "Invalid split time: k_10_time > k_15_time\n",
      "Total Invalid: 76 || First 3 Indices: [296 310 389]\n",
      "--------------------------------------------------\n",
      "Invalid split time diff: k_20_time (non-cumulative) < (k_20_time - k_15_time - 5) OR k_20_time (non-cumulative) > (k_20_time - k_15_time + 5)\n",
      "Total Invalid: 68 || First 3 Indices: [193 277 448]\n",
      "Invalid split time: k_15_time > k_20_time\n",
      "Total Invalid: 14 || First 3 Indices: [ 277  478 1081]\n",
      "--------------------------------------------------\n",
      "Invalid split time diff: k_half_time (non-cumulative) < (k_half_time - k_20_time - 5) OR k_half_time (non-cumulative) > (k_half_time - k_20_time + 5)\n",
      "Total Invalid: 126 || First 3 Indices: [  75  748 1267]\n",
      "Invalid split time: k_20_time > k_half_time\n",
      "Total Invalid: 15 || First 3 Indices: [5182 6038 6480]\n",
      "--------------------------------------------------\n",
      "Invalid split time diff: k_25_time (non-cumulative) < (k_25_time - k_half_time - 5) OR k_25_time (non-cumulative) > (k_25_time - k_half_time + 5)\n",
      "Total Invalid: 68 || First 3 Indices: [ 324  452 1696]\n",
      "Invalid split time: k_half_time > k_25_time\n",
      "Total Invalid: 8 || First 3 Indices: [ 2133  6863 12138]\n",
      "--------------------------------------------------\n",
      "Invalid split time diff: k_30_time (non-cumulative) < (k_30_time - k_25_time - 5) OR k_30_time (non-cumulative) > (k_30_time - k_25_time + 5)\n",
      "Total Invalid: 138 || First 3 Indices: [  1 386 582]\n",
      "Invalid split time: k_25_time > k_30_time\n",
      "Total Invalid: 7 || First 3 Indices: [ 386 3504 6168]\n",
      "--------------------------------------------------\n",
      "Invalid split time diff: k_35_time (non-cumulative) < (k_35_time - k_30_time - 5) OR k_35_time (non-cumulative) > (k_35_time - k_30_time + 5)\n",
      "Total Invalid: 70 || First 3 Indices: [ 72 421 478]\n",
      "Invalid split time: k_30_time > k_35_time\n",
      "Total Invalid: 7 || First 3 Indices: [ 6780 12197 13042]\n",
      "--------------------------------------------------\n",
      "Invalid split time diff: k_40_time (non-cumulative) < (k_40_time - k_35_time - 5) OR k_40_time (non-cumulative) > (k_40_time - k_35_time + 5)\n",
      "Total Invalid: 113 || First 3 Indices: [  1 252 726]\n",
      "Invalid split time: k_35_time > k_40_time\n",
      "Total Invalid: 8 || First 3 Indices: [ 4495 13077 35704]\n",
      "--------------------------------------------------\n",
      "Invalid split time diff: k_finish_time (non-cumulative) < (k_finish_time - k_40_time - 5) OR k_finish_time (non-cumulative) > (k_finish_time - k_40_time + 5)\n",
      "Total Invalid: 615 || First 3 Indices: [165 240 244]\n",
      "Invalid split time: k_40_time > k_finish_time\n",
      "Total Invalid: 31 || First 3 Indices: [ 165 1052 1455]\n",
      "\n",
      "** Dropping invalid splits, Total Count: 1278 || Finished: 1250 || Started: 28\n"
     ]
    }
   ],
   "source": [
    "df_knn = preprocess_impute_fill(df_chi, missing_indices, knn_imputer, mms, SPLITS_KEYS, drop_invalid_splits=True)"
   ]
  },
  {
   "cell_type": "code",
   "execution_count": 53,
   "metadata": {},
   "outputs": [
    {
     "name": "stdout",
     "output_type": "stream",
     "text": [
      "--------------------------------------------------\n",
      "--------------------------------------------------\n",
      "Invalid split time diff: k_15_time (non-cumulative) < (k_15_time - k_10_time - 5) OR k_15_time (non-cumulative) > (k_15_time - k_10_time + 5)\n",
      "Total Invalid: 215 || First 3 Indices: [296 310 389]\n",
      "--------------------------------------------------\n",
      "Invalid split time diff: k_20_time (non-cumulative) < (k_20_time - k_15_time - 5) OR k_20_time (non-cumulative) > (k_20_time - k_15_time + 5)\n",
      "Total Invalid: 71 || First 3 Indices: [193 277 448]\n",
      "Invalid split time: k_15_time > k_20_time\n",
      "Total Invalid: 1 || First 3 Indices: [30749]\n",
      "--------------------------------------------------\n",
      "Invalid split time diff: k_half_time (non-cumulative) < (k_half_time - k_20_time - 5) OR k_half_time (non-cumulative) > (k_half_time - k_20_time + 5)\n",
      "Total Invalid: 126 || First 3 Indices: [  75  748 1267]\n",
      "Invalid split time: k_20_time > k_half_time\n",
      "Total Invalid: 3 || First 3 Indices: [ 9197 34044 34472]\n",
      "--------------------------------------------------\n",
      "Invalid split time diff: k_25_time (non-cumulative) < (k_25_time - k_half_time - 5) OR k_25_time (non-cumulative) > (k_25_time - k_half_time + 5)\n",
      "Total Invalid: 69 || First 3 Indices: [ 324  452 1476]\n",
      "Invalid split time: k_half_time > k_25_time\n",
      "Total Invalid: 3 || First 3 Indices: [ 6863 30755 34420]\n",
      "--------------------------------------------------\n",
      "Invalid split time diff: k_30_time (non-cumulative) < (k_30_time - k_25_time - 5) OR k_30_time (non-cumulative) > (k_30_time - k_25_time + 5)\n",
      "Total Invalid: 138 || First 3 Indices: [  1 386 582]\n",
      "Invalid split time: k_25_time > k_30_time\n",
      "Total Invalid: 2 || First 3 Indices: [  386 38048]\n",
      "--------------------------------------------------\n",
      "Invalid split time diff: k_35_time (non-cumulative) < (k_35_time - k_30_time - 5) OR k_35_time (non-cumulative) > (k_35_time - k_30_time + 5)\n",
      "Total Invalid: 71 || First 3 Indices: [ 72 421 478]\n",
      "Invalid split time: k_30_time > k_35_time\n",
      "Total Invalid: 2 || First 3 Indices: [20292 32787]\n",
      "--------------------------------------------------\n",
      "Invalid split time diff: k_40_time (non-cumulative) < (k_40_time - k_35_time - 5) OR k_40_time (non-cumulative) > (k_40_time - k_35_time + 5)\n",
      "Total Invalid: 113 || First 3 Indices: [  1 252 355]\n",
      "Invalid split time: k_35_time > k_40_time\n",
      "Total Invalid: 6 || First 3 Indices: [ 4495 37414 37625]\n",
      "--------------------------------------------------\n",
      "Invalid split time diff: k_finish_time (non-cumulative) < (k_finish_time - k_40_time - 5) OR k_finish_time (non-cumulative) > (k_finish_time - k_40_time + 5)\n",
      "Total Invalid: 610 || First 3 Indices: [165 240 244]\n",
      "Invalid split time: k_40_time > k_finish_time\n",
      "Total Invalid: 40 || First 3 Indices: [ 277 1455 3952]\n",
      "\n",
      "** Dropping invalid splits, Total Count: 1270 || Finished: 1242 || Started: 28\n"
     ]
    },
    {
     "name": "stderr",
     "output_type": "stream",
     "text": [
      "/Users/sika/miniforge3/envs/ML_mac_23/lib/python3.10/site-packages/sklearn/impute/_iterative.py:785: ConvergenceWarning: [IterativeImputer] Early stopping criterion not reached.\n",
      "  warnings.warn(\n"
     ]
    }
   ],
   "source": [
    "df_iter = preprocess_impute_fill(df_chi, missing_indices, iter_imputer, mms, SPLITS_KEYS, drop_invalid_splits=True)"
   ]
  },
  {
   "cell_type": "code",
   "execution_count": null,
   "metadata": {},
   "outputs": [],
   "source": [
    "save_df(df_knn, chi_file_knn_imp_path)\n",
    "save_df(df_iter, chi_file_iter_imp_path)"
   ]
  },
  {
   "cell_type": "code",
   "execution_count": null,
   "metadata": {},
   "outputs": [],
   "source": [
    "del chi_file_raw_path, chi_file_cln_path, chi_file_knn_imp_path, chi_file_iter_imp_path, df_chi, df_knn, df_iter"
   ]
  }
 ],
 "metadata": {
  "kernelspec": {
   "display_name": "ML_mac_23",
   "language": "python",
   "name": "python3"
  },
  "language_info": {
   "codemirror_mode": {
    "name": "ipython",
    "version": 3
   },
   "file_extension": ".py",
   "mimetype": "text/x-python",
   "name": "python",
   "nbconvert_exporter": "python",
   "pygments_lexer": "ipython3",
   "version": "3.10.10"
  },
  "orig_nbformat": 4
 },
 "nbformat": 4,
 "nbformat_minor": 2
}
